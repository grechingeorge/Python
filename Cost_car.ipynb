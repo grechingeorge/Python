{
  "cells": [
    {
      "cell_type": "markdown",
      "metadata": {
        "id": "gHcmk-33OXh_"
      },
      "source": [
        "# Определение стоимости автомобилей"
      ]
    },
    {
      "cell_type": "markdown",
      "metadata": {
        "id": "PeTLYfXFOXh_"
      },
      "source": [
        "Сервис по продаже автомобилей с пробегом «Не бит, не крашен» разрабатывает приложение для привлечения новых клиентов. В нём можно быстро узнать рыночную стоимость своего автомобиля. В вашем распоряжении исторические данные: технические характеристики, комплектации и цены автомобилей. Вам нужно построить модель для определения стоимости.\n",
        "\n",
        "Заказчику важны:\n",
        "\n",
        "- качество предсказания;\n",
        "- скорость предсказания;\n",
        "- время обучения."
      ]
    },
    {
      "cell_type": "markdown",
      "metadata": {
        "id": "Yemy3ylTOXh_"
      },
      "source": [
        "## Подготовка данных"
      ]
    },
    {
      "cell_type": "code",
      "execution_count": 4,
      "metadata": {
        "colab": {
          "base_uri": "https://localhost:8080/"
        },
        "id": "A3i-pUISOXh_",
        "outputId": "4b34442d-756a-4129-a009-94d90c8bcbb1"
      },
      "outputs": [
        {
          "output_type": "stream",
          "name": "stdout",
          "text": [
            "Requirement already satisfied: catboost in /usr/local/lib/python3.10/dist-packages (1.2.5)\n",
            "Requirement already satisfied: graphviz in /usr/local/lib/python3.10/dist-packages (from catboost) (0.20.3)\n",
            "Requirement already satisfied: matplotlib in /usr/local/lib/python3.10/dist-packages (from catboost) (3.7.1)\n",
            "Requirement already satisfied: numpy>=1.16.0 in /usr/local/lib/python3.10/dist-packages (from catboost) (1.25.2)\n",
            "Requirement already satisfied: pandas>=0.24 in /usr/local/lib/python3.10/dist-packages (from catboost) (2.0.3)\n",
            "Requirement already satisfied: scipy in /usr/local/lib/python3.10/dist-packages (from catboost) (1.11.4)\n",
            "Requirement already satisfied: plotly in /usr/local/lib/python3.10/dist-packages (from catboost) (5.15.0)\n",
            "Requirement already satisfied: six in /usr/local/lib/python3.10/dist-packages (from catboost) (1.16.0)\n",
            "Requirement already satisfied: python-dateutil>=2.8.2 in /usr/local/lib/python3.10/dist-packages (from pandas>=0.24->catboost) (2.8.2)\n",
            "Requirement already satisfied: pytz>=2020.1 in /usr/local/lib/python3.10/dist-packages (from pandas>=0.24->catboost) (2023.4)\n",
            "Requirement already satisfied: tzdata>=2022.1 in /usr/local/lib/python3.10/dist-packages (from pandas>=0.24->catboost) (2024.1)\n",
            "Requirement already satisfied: contourpy>=1.0.1 in /usr/local/lib/python3.10/dist-packages (from matplotlib->catboost) (1.2.1)\n",
            "Requirement already satisfied: cycler>=0.10 in /usr/local/lib/python3.10/dist-packages (from matplotlib->catboost) (0.12.1)\n",
            "Requirement already satisfied: fonttools>=4.22.0 in /usr/local/lib/python3.10/dist-packages (from matplotlib->catboost) (4.51.0)\n",
            "Requirement already satisfied: kiwisolver>=1.0.1 in /usr/local/lib/python3.10/dist-packages (from matplotlib->catboost) (1.4.5)\n",
            "Requirement already satisfied: packaging>=20.0 in /usr/local/lib/python3.10/dist-packages (from matplotlib->catboost) (24.0)\n",
            "Requirement already satisfied: pillow>=6.2.0 in /usr/local/lib/python3.10/dist-packages (from matplotlib->catboost) (9.4.0)\n",
            "Requirement already satisfied: pyparsing>=2.3.1 in /usr/local/lib/python3.10/dist-packages (from matplotlib->catboost) (3.1.2)\n",
            "Requirement already satisfied: tenacity>=6.2.0 in /usr/local/lib/python3.10/dist-packages (from plotly->catboost) (8.3.0)\n"
          ]
        }
      ],
      "source": [
        "! pip install phik -q\n",
        "! pip install catboost"
      ]
    },
    {
      "cell_type": "code",
      "execution_count": 5,
      "metadata": {
        "id": "PNTbHPdnOXiA"
      },
      "outputs": [],
      "source": [
        "import numpy as np\n",
        "import pandas as pd\n",
        "import matplotlib.pyplot as plt\n",
        "import seaborn as sns\n",
        "from scipy import stats as st\n",
        "from scipy.stats import shapiro\n",
        "import statistics\n",
        "from sklearn.model_selection import train_test_split\n",
        "import phik\n",
        "\n",
        "from sklearn.metrics import mean_squared_error\n",
        "\n",
        "from sklearn.compose import ColumnTransformer\n",
        "\n",
        "from sklearn.impute import SimpleImputer\n",
        "from sklearn.preprocessing import StandardScaler, OrdinalEncoder\n",
        "from sklearn.pipeline import Pipeline\n",
        "from sklearn.model_selection import RandomizedSearchCV\n",
        "from time import time\n",
        "import phik\n",
        "from sklearn.tree import DecisionTreeRegressor\n",
        "\n",
        "from lightgbm import LGBMRegressor\n",
        "from catboost import CatBoostRegressor\n",
        "\n",
        "\n",
        "import warnings\n",
        "warnings.filterwarnings(action='ignore')\n",
        "\n",
        "\n",
        "\n",
        "RANDOM_STATE = 42\n",
        "TEST_SIZE = 0.2"
      ]
    },
    {
      "cell_type": "code",
      "execution_count": 6,
      "metadata": {
        "id": "YrR47QgfOXiB"
      },
      "outputs": [],
      "source": [
        "def cat_num_col(df):\n",
        "    num_col_names = list(df.select_dtypes(include=['int64', 'float64']).columns)\n",
        "    cat_col_names = list(df.select_dtypes(include=['object']).columns)\n",
        "    #cat_col_names.remove('id')\n",
        "    return num_col_names, cat_col_names"
      ]
    },
    {
      "cell_type": "code",
      "execution_count": 7,
      "metadata": {
        "id": "hI0QGPU6OXiB"
      },
      "outputs": [],
      "source": [
        "def create_boxplot_and_histogram(data, column):\n",
        "    fig, axes = plt.subplots(1, 2, figsize=(15, 6))\n",
        "\n",
        "    # График ящика с усами\n",
        "    sns.boxplot(x=data[column], ax=axes[0])\n",
        "    axes[0].set_title(f'Ящик с усами для {column}')\n",
        "    axes[0].set_xlabel(column)\n",
        "\n",
        "    # Гистограмма\n",
        "    num_bins = int(np.ceil(np.sqrt(len(data[column]))))\n",
        "    sns.histplot(data=data, x=column, kde=True, bins=num_bins, ax=axes[1])\n",
        "    axes[1].set_title(f'{column} - Частота распределения', fontsize=18)\n",
        "    axes[1].set_xlabel(column, fontsize=14)\n",
        "    axes[1].set_ylabel('Частота', fontsize=14)\n",
        "\n",
        "    plt.show()"
      ]
    },
    {
      "cell_type": "code",
      "execution_count": 8,
      "metadata": {
        "id": "-4a52F_0OXiB"
      },
      "outputs": [],
      "source": [
        "#функция для модели\n",
        "def train_models(df):\n",
        "    X_train, X_valid, y_train, y_valid = train_test_split(\n",
        "        df.drop(['product', 'id'], axis=1),\n",
        "        df['product'],\n",
        "        random_state=42,\n",
        "        test_size=0.25,\n",
        "    )\n",
        "\n",
        "    model_lr  = LinearRegression()\n",
        "    model_lr.fit(X_train, y_train)\n",
        "    predictions = model_lr.predict(X_valid)\n",
        "    residuals =  y_valid - predictions\n",
        "\n",
        "    # получение значения RMSE\n",
        "    #rmse = mean_squared_error(y_valid, predictions, squared=False)\n",
        "    rmse = root_mean_squared_error(y_valid, predictions)\n",
        "\n",
        "    return model_lr, X_train, y_valid, predictions, residuals, rmse"
      ]
    },
    {
      "cell_type": "code",
      "execution_count": 9,
      "metadata": {
        "id": "Y3se6fmVOXiC"
      },
      "outputs": [],
      "source": [
        "def create_hist_scatter(residuals, predictions):\n",
        "    num_bins = int(np.ceil(np.sqrt(len(data[column]))))\n",
        "    fig, axes = plt.subplots(nrows=1, ncols=2, figsize=(10,5))\n",
        "    axes[0].hist(residuals, bins=num_bins)\n",
        "    axes[0].set_title('Гистограмма распределения остатков')\n",
        "    axes[0].set_xlabel('Остатки')\n",
        "\n",
        "    axes[1].scatter(x=predictions, y=residuals)\n",
        "    axes[1].set_xlabel('Предсказания модели')\n",
        "    axes[1].set_ylabel('Остатки')\n",
        "    axes[1].set_title('Анализ дисперсии')\n",
        "    plt.show()"
      ]
    },
    {
      "cell_type": "code",
      "execution_count": 10,
      "metadata": {
        "id": "BrXMb_REOXiC"
      },
      "outputs": [],
      "source": [
        "def plot_phik_heatmap(dataframe, interval_cols):\n",
        "    \"\"\"\n",
        "    Input:\n",
        "    - dataframe (DataFrame): Исходный DataFrame с данными.\n",
        "    - interval_cols (list): Список названий интервальных признаков для расчета phik.\n",
        "\n",
        "    Output:\n",
        "    None\n",
        "\n",
        "    Description:\n",
        "    Эта функция вычисляет матрицу корреляций на основе phik для указанных интервальных признаков и строит тепловую карту на основе этой матрицы с использованием библиотеки seaborn.\n",
        "    \"\"\"\n",
        "    # Вычисление phik_matrix\n",
        "    phik_matrix = dataframe.phik_matrix(interval_cols=interval_cols)\n",
        "\n",
        "    # Использование цветовой карты RdYlBu для лучшей визуализации\n",
        "    cmap = sns.diverging_palette(220, 20, as_cmap=True)\n",
        "\n",
        "    # Создание тепловой карты на основе phik_matrix\n",
        "    plt.figure(figsize=(10, 8))\n",
        "    sns.heatmap(phik_matrix, annot=True, cmap=cmap, center=0, square=True, linewidths=.5)\n",
        "    plt.title('Phik. Тепловая карта')\n",
        "    plt.show()"
      ]
    },
    {
      "cell_type": "code",
      "execution_count": 11,
      "metadata": {
        "id": "aBxF3da2OXiC"
      },
      "outputs": [],
      "source": [
        "def evaluate_pipeline(pipeline, param_grid, X_train, y_train):\n",
        "    #start_time = time()\n",
        "\n",
        "    grid_search = RandomizedSearchCV(pipeline, param_grid, n_jobs=-1, cv=5,scoring='neg_mean_squared_error')\n",
        "\n",
        "    grid_search.fit(X_train, y_train)\n",
        "\n",
        "    #pipeline.fit(X_train, y_train)\n",
        "\n",
        "    #end_time = time()\n",
        "    #execution_time = end_time - start_time\n",
        "    best_params = grid_search.best_params_\n",
        "    best_model = grid_search.best_estimator_\n",
        "    rmse = np.sqrt(abs(grid_search.best_score_))\n",
        "\n",
        "    #start_prediction_time = time()\n",
        "    predictions = best_model.predict(X_train)\n",
        "    #end_prediction_time = time()\n",
        "    #prediction_time = end_prediction_time - start_prediction_time\n",
        "\n",
        "    return best_params, rmse, best_model"
      ]
    },
    {
      "cell_type": "code",
      "execution_count": 12,
      "metadata": {
        "id": "wtJ1Tq6DOXiC"
      },
      "outputs": [],
      "source": [
        "def evaluate_time(pipeline, X_train, y_train):\n",
        "    start_time = time()\n",
        "\n",
        "    pipeline.fit(X_train, y_train)\n",
        "\n",
        "    end_time = time()\n",
        "    execution_time = end_time - start_time\n",
        "    return execution_time"
      ]
    },
    {
      "cell_type": "code",
      "execution_count": 13,
      "metadata": {
        "id": "EMwXb2WyOXiD"
      },
      "outputs": [],
      "source": [
        "try:\n",
        "    df = pd.read_csv('https://code.s3.yandex.net/datasets/autos.csv')\n",
        "except FileNotFoundError:\n",
        "    print('No data')"
      ]
    },
    {
      "cell_type": "code",
      "execution_count": 14,
      "metadata": {
        "colab": {
          "base_uri": "https://localhost:8080/",
          "height": 400
        },
        "id": "mgqczXzTOXiD",
        "outputId": "33b8c990-ccf4-49f1-d18c-7e067b3f3275"
      },
      "outputs": [
        {
          "output_type": "execute_result",
          "data": {
            "text/plain": [
              "           DateCrawled  Price VehicleType  RegistrationYear Gearbox  Power  \\\n",
              "0  2016-03-24 11:52:17    480         NaN              1993  manual      0   \n",
              "1  2016-03-24 10:58:45  18300       coupe              2011  manual    190   \n",
              "2  2016-03-14 12:52:21   9800         suv              2004    auto    163   \n",
              "3  2016-03-17 16:54:04   1500       small              2001  manual     75   \n",
              "4  2016-03-31 17:25:20   3600       small              2008  manual     69   \n",
              "\n",
              "   Model  Kilometer  RegistrationMonth  FuelType       Brand Repaired  \\\n",
              "0   golf     150000                  0    petrol  volkswagen      NaN   \n",
              "1    NaN     125000                  5  gasoline        audi      yes   \n",
              "2  grand     125000                  8  gasoline        jeep      NaN   \n",
              "3   golf     150000                  6    petrol  volkswagen       no   \n",
              "4  fabia      90000                  7  gasoline       skoda       no   \n",
              "\n",
              "           DateCreated  NumberOfPictures  PostalCode             LastSeen  \n",
              "0  2016-03-24 00:00:00                 0       70435  2016-04-07 03:16:57  \n",
              "1  2016-03-24 00:00:00                 0       66954  2016-04-07 01:46:50  \n",
              "2  2016-03-14 00:00:00                 0       90480  2016-04-05 12:47:46  \n",
              "3  2016-03-17 00:00:00                 0       91074  2016-03-17 17:40:17  \n",
              "4  2016-03-31 00:00:00                 0       60437  2016-04-06 10:17:21  "
            ],
            "text/html": [
              "\n",
              "  <div id=\"df-8d9c5853-4824-4f50-9b2b-ed789a5f1342\" class=\"colab-df-container\">\n",
              "    <div>\n",
              "<style scoped>\n",
              "    .dataframe tbody tr th:only-of-type {\n",
              "        vertical-align: middle;\n",
              "    }\n",
              "\n",
              "    .dataframe tbody tr th {\n",
              "        vertical-align: top;\n",
              "    }\n",
              "\n",
              "    .dataframe thead th {\n",
              "        text-align: right;\n",
              "    }\n",
              "</style>\n",
              "<table border=\"1\" class=\"dataframe\">\n",
              "  <thead>\n",
              "    <tr style=\"text-align: right;\">\n",
              "      <th></th>\n",
              "      <th>DateCrawled</th>\n",
              "      <th>Price</th>\n",
              "      <th>VehicleType</th>\n",
              "      <th>RegistrationYear</th>\n",
              "      <th>Gearbox</th>\n",
              "      <th>Power</th>\n",
              "      <th>Model</th>\n",
              "      <th>Kilometer</th>\n",
              "      <th>RegistrationMonth</th>\n",
              "      <th>FuelType</th>\n",
              "      <th>Brand</th>\n",
              "      <th>Repaired</th>\n",
              "      <th>DateCreated</th>\n",
              "      <th>NumberOfPictures</th>\n",
              "      <th>PostalCode</th>\n",
              "      <th>LastSeen</th>\n",
              "    </tr>\n",
              "  </thead>\n",
              "  <tbody>\n",
              "    <tr>\n",
              "      <th>0</th>\n",
              "      <td>2016-03-24 11:52:17</td>\n",
              "      <td>480</td>\n",
              "      <td>NaN</td>\n",
              "      <td>1993</td>\n",
              "      <td>manual</td>\n",
              "      <td>0</td>\n",
              "      <td>golf</td>\n",
              "      <td>150000</td>\n",
              "      <td>0</td>\n",
              "      <td>petrol</td>\n",
              "      <td>volkswagen</td>\n",
              "      <td>NaN</td>\n",
              "      <td>2016-03-24 00:00:00</td>\n",
              "      <td>0</td>\n",
              "      <td>70435</td>\n",
              "      <td>2016-04-07 03:16:57</td>\n",
              "    </tr>\n",
              "    <tr>\n",
              "      <th>1</th>\n",
              "      <td>2016-03-24 10:58:45</td>\n",
              "      <td>18300</td>\n",
              "      <td>coupe</td>\n",
              "      <td>2011</td>\n",
              "      <td>manual</td>\n",
              "      <td>190</td>\n",
              "      <td>NaN</td>\n",
              "      <td>125000</td>\n",
              "      <td>5</td>\n",
              "      <td>gasoline</td>\n",
              "      <td>audi</td>\n",
              "      <td>yes</td>\n",
              "      <td>2016-03-24 00:00:00</td>\n",
              "      <td>0</td>\n",
              "      <td>66954</td>\n",
              "      <td>2016-04-07 01:46:50</td>\n",
              "    </tr>\n",
              "    <tr>\n",
              "      <th>2</th>\n",
              "      <td>2016-03-14 12:52:21</td>\n",
              "      <td>9800</td>\n",
              "      <td>suv</td>\n",
              "      <td>2004</td>\n",
              "      <td>auto</td>\n",
              "      <td>163</td>\n",
              "      <td>grand</td>\n",
              "      <td>125000</td>\n",
              "      <td>8</td>\n",
              "      <td>gasoline</td>\n",
              "      <td>jeep</td>\n",
              "      <td>NaN</td>\n",
              "      <td>2016-03-14 00:00:00</td>\n",
              "      <td>0</td>\n",
              "      <td>90480</td>\n",
              "      <td>2016-04-05 12:47:46</td>\n",
              "    </tr>\n",
              "    <tr>\n",
              "      <th>3</th>\n",
              "      <td>2016-03-17 16:54:04</td>\n",
              "      <td>1500</td>\n",
              "      <td>small</td>\n",
              "      <td>2001</td>\n",
              "      <td>manual</td>\n",
              "      <td>75</td>\n",
              "      <td>golf</td>\n",
              "      <td>150000</td>\n",
              "      <td>6</td>\n",
              "      <td>petrol</td>\n",
              "      <td>volkswagen</td>\n",
              "      <td>no</td>\n",
              "      <td>2016-03-17 00:00:00</td>\n",
              "      <td>0</td>\n",
              "      <td>91074</td>\n",
              "      <td>2016-03-17 17:40:17</td>\n",
              "    </tr>\n",
              "    <tr>\n",
              "      <th>4</th>\n",
              "      <td>2016-03-31 17:25:20</td>\n",
              "      <td>3600</td>\n",
              "      <td>small</td>\n",
              "      <td>2008</td>\n",
              "      <td>manual</td>\n",
              "      <td>69</td>\n",
              "      <td>fabia</td>\n",
              "      <td>90000</td>\n",
              "      <td>7</td>\n",
              "      <td>gasoline</td>\n",
              "      <td>skoda</td>\n",
              "      <td>no</td>\n",
              "      <td>2016-03-31 00:00:00</td>\n",
              "      <td>0</td>\n",
              "      <td>60437</td>\n",
              "      <td>2016-04-06 10:17:21</td>\n",
              "    </tr>\n",
              "  </tbody>\n",
              "</table>\n",
              "</div>\n",
              "    <div class=\"colab-df-buttons\">\n",
              "\n",
              "  <div class=\"colab-df-container\">\n",
              "    <button class=\"colab-df-convert\" onclick=\"convertToInteractive('df-8d9c5853-4824-4f50-9b2b-ed789a5f1342')\"\n",
              "            title=\"Convert this dataframe to an interactive table.\"\n",
              "            style=\"display:none;\">\n",
              "\n",
              "  <svg xmlns=\"http://www.w3.org/2000/svg\" height=\"24px\" viewBox=\"0 -960 960 960\">\n",
              "    <path d=\"M120-120v-720h720v720H120Zm60-500h600v-160H180v160Zm220 220h160v-160H400v160Zm0 220h160v-160H400v160ZM180-400h160v-160H180v160Zm440 0h160v-160H620v160ZM180-180h160v-160H180v160Zm440 0h160v-160H620v160Z\"/>\n",
              "  </svg>\n",
              "    </button>\n",
              "\n",
              "  <style>\n",
              "    .colab-df-container {\n",
              "      display:flex;\n",
              "      gap: 12px;\n",
              "    }\n",
              "\n",
              "    .colab-df-convert {\n",
              "      background-color: #E8F0FE;\n",
              "      border: none;\n",
              "      border-radius: 50%;\n",
              "      cursor: pointer;\n",
              "      display: none;\n",
              "      fill: #1967D2;\n",
              "      height: 32px;\n",
              "      padding: 0 0 0 0;\n",
              "      width: 32px;\n",
              "    }\n",
              "\n",
              "    .colab-df-convert:hover {\n",
              "      background-color: #E2EBFA;\n",
              "      box-shadow: 0px 1px 2px rgba(60, 64, 67, 0.3), 0px 1px 3px 1px rgba(60, 64, 67, 0.15);\n",
              "      fill: #174EA6;\n",
              "    }\n",
              "\n",
              "    .colab-df-buttons div {\n",
              "      margin-bottom: 4px;\n",
              "    }\n",
              "\n",
              "    [theme=dark] .colab-df-convert {\n",
              "      background-color: #3B4455;\n",
              "      fill: #D2E3FC;\n",
              "    }\n",
              "\n",
              "    [theme=dark] .colab-df-convert:hover {\n",
              "      background-color: #434B5C;\n",
              "      box-shadow: 0px 1px 3px 1px rgba(0, 0, 0, 0.15);\n",
              "      filter: drop-shadow(0px 1px 2px rgba(0, 0, 0, 0.3));\n",
              "      fill: #FFFFFF;\n",
              "    }\n",
              "  </style>\n",
              "\n",
              "    <script>\n",
              "      const buttonEl =\n",
              "        document.querySelector('#df-8d9c5853-4824-4f50-9b2b-ed789a5f1342 button.colab-df-convert');\n",
              "      buttonEl.style.display =\n",
              "        google.colab.kernel.accessAllowed ? 'block' : 'none';\n",
              "\n",
              "      async function convertToInteractive(key) {\n",
              "        const element = document.querySelector('#df-8d9c5853-4824-4f50-9b2b-ed789a5f1342');\n",
              "        const dataTable =\n",
              "          await google.colab.kernel.invokeFunction('convertToInteractive',\n",
              "                                                    [key], {});\n",
              "        if (!dataTable) return;\n",
              "\n",
              "        const docLinkHtml = 'Like what you see? Visit the ' +\n",
              "          '<a target=\"_blank\" href=https://colab.research.google.com/notebooks/data_table.ipynb>data table notebook</a>'\n",
              "          + ' to learn more about interactive tables.';\n",
              "        element.innerHTML = '';\n",
              "        dataTable['output_type'] = 'display_data';\n",
              "        await google.colab.output.renderOutput(dataTable, element);\n",
              "        const docLink = document.createElement('div');\n",
              "        docLink.innerHTML = docLinkHtml;\n",
              "        element.appendChild(docLink);\n",
              "      }\n",
              "    </script>\n",
              "  </div>\n",
              "\n",
              "\n",
              "<div id=\"df-b200df60-7394-4233-bf36-76c03a8eba4b\">\n",
              "  <button class=\"colab-df-quickchart\" onclick=\"quickchart('df-b200df60-7394-4233-bf36-76c03a8eba4b')\"\n",
              "            title=\"Suggest charts\"\n",
              "            style=\"display:none;\">\n",
              "\n",
              "<svg xmlns=\"http://www.w3.org/2000/svg\" height=\"24px\"viewBox=\"0 0 24 24\"\n",
              "     width=\"24px\">\n",
              "    <g>\n",
              "        <path d=\"M19 3H5c-1.1 0-2 .9-2 2v14c0 1.1.9 2 2 2h14c1.1 0 2-.9 2-2V5c0-1.1-.9-2-2-2zM9 17H7v-7h2v7zm4 0h-2V7h2v10zm4 0h-2v-4h2v4z\"/>\n",
              "    </g>\n",
              "</svg>\n",
              "  </button>\n",
              "\n",
              "<style>\n",
              "  .colab-df-quickchart {\n",
              "      --bg-color: #E8F0FE;\n",
              "      --fill-color: #1967D2;\n",
              "      --hover-bg-color: #E2EBFA;\n",
              "      --hover-fill-color: #174EA6;\n",
              "      --disabled-fill-color: #AAA;\n",
              "      --disabled-bg-color: #DDD;\n",
              "  }\n",
              "\n",
              "  [theme=dark] .colab-df-quickchart {\n",
              "      --bg-color: #3B4455;\n",
              "      --fill-color: #D2E3FC;\n",
              "      --hover-bg-color: #434B5C;\n",
              "      --hover-fill-color: #FFFFFF;\n",
              "      --disabled-bg-color: #3B4455;\n",
              "      --disabled-fill-color: #666;\n",
              "  }\n",
              "\n",
              "  .colab-df-quickchart {\n",
              "    background-color: var(--bg-color);\n",
              "    border: none;\n",
              "    border-radius: 50%;\n",
              "    cursor: pointer;\n",
              "    display: none;\n",
              "    fill: var(--fill-color);\n",
              "    height: 32px;\n",
              "    padding: 0;\n",
              "    width: 32px;\n",
              "  }\n",
              "\n",
              "  .colab-df-quickchart:hover {\n",
              "    background-color: var(--hover-bg-color);\n",
              "    box-shadow: 0 1px 2px rgba(60, 64, 67, 0.3), 0 1px 3px 1px rgba(60, 64, 67, 0.15);\n",
              "    fill: var(--button-hover-fill-color);\n",
              "  }\n",
              "\n",
              "  .colab-df-quickchart-complete:disabled,\n",
              "  .colab-df-quickchart-complete:disabled:hover {\n",
              "    background-color: var(--disabled-bg-color);\n",
              "    fill: var(--disabled-fill-color);\n",
              "    box-shadow: none;\n",
              "  }\n",
              "\n",
              "  .colab-df-spinner {\n",
              "    border: 2px solid var(--fill-color);\n",
              "    border-color: transparent;\n",
              "    border-bottom-color: var(--fill-color);\n",
              "    animation:\n",
              "      spin 1s steps(1) infinite;\n",
              "  }\n",
              "\n",
              "  @keyframes spin {\n",
              "    0% {\n",
              "      border-color: transparent;\n",
              "      border-bottom-color: var(--fill-color);\n",
              "      border-left-color: var(--fill-color);\n",
              "    }\n",
              "    20% {\n",
              "      border-color: transparent;\n",
              "      border-left-color: var(--fill-color);\n",
              "      border-top-color: var(--fill-color);\n",
              "    }\n",
              "    30% {\n",
              "      border-color: transparent;\n",
              "      border-left-color: var(--fill-color);\n",
              "      border-top-color: var(--fill-color);\n",
              "      border-right-color: var(--fill-color);\n",
              "    }\n",
              "    40% {\n",
              "      border-color: transparent;\n",
              "      border-right-color: var(--fill-color);\n",
              "      border-top-color: var(--fill-color);\n",
              "    }\n",
              "    60% {\n",
              "      border-color: transparent;\n",
              "      border-right-color: var(--fill-color);\n",
              "    }\n",
              "    80% {\n",
              "      border-color: transparent;\n",
              "      border-right-color: var(--fill-color);\n",
              "      border-bottom-color: var(--fill-color);\n",
              "    }\n",
              "    90% {\n",
              "      border-color: transparent;\n",
              "      border-bottom-color: var(--fill-color);\n",
              "    }\n",
              "  }\n",
              "</style>\n",
              "\n",
              "  <script>\n",
              "    async function quickchart(key) {\n",
              "      const quickchartButtonEl =\n",
              "        document.querySelector('#' + key + ' button');\n",
              "      quickchartButtonEl.disabled = true;  // To prevent multiple clicks.\n",
              "      quickchartButtonEl.classList.add('colab-df-spinner');\n",
              "      try {\n",
              "        const charts = await google.colab.kernel.invokeFunction(\n",
              "            'suggestCharts', [key], {});\n",
              "      } catch (error) {\n",
              "        console.error('Error during call to suggestCharts:', error);\n",
              "      }\n",
              "      quickchartButtonEl.classList.remove('colab-df-spinner');\n",
              "      quickchartButtonEl.classList.add('colab-df-quickchart-complete');\n",
              "    }\n",
              "    (() => {\n",
              "      let quickchartButtonEl =\n",
              "        document.querySelector('#df-b200df60-7394-4233-bf36-76c03a8eba4b button');\n",
              "      quickchartButtonEl.style.display =\n",
              "        google.colab.kernel.accessAllowed ? 'block' : 'none';\n",
              "    })();\n",
              "  </script>\n",
              "</div>\n",
              "    </div>\n",
              "  </div>\n"
            ],
            "application/vnd.google.colaboratory.intrinsic+json": {
              "type": "dataframe",
              "variable_name": "df"
            }
          },
          "metadata": {},
          "execution_count": 14
        }
      ],
      "source": [
        "df.head()"
      ]
    },
    {
      "cell_type": "code",
      "execution_count": 15,
      "metadata": {
        "colab": {
          "base_uri": "https://localhost:8080/"
        },
        "id": "tSQ23ebOOXiE",
        "outputId": "a9bbd586-7daa-422f-b10b-43aa33ebe327"
      },
      "outputs": [
        {
          "output_type": "stream",
          "name": "stdout",
          "text": [
            "<class 'pandas.core.frame.DataFrame'>\n",
            "RangeIndex: 354369 entries, 0 to 354368\n",
            "Data columns (total 16 columns):\n",
            " #   Column             Non-Null Count   Dtype \n",
            "---  ------             --------------   ----- \n",
            " 0   DateCrawled        354369 non-null  object\n",
            " 1   Price              354369 non-null  int64 \n",
            " 2   VehicleType        316879 non-null  object\n",
            " 3   RegistrationYear   354369 non-null  int64 \n",
            " 4   Gearbox            334536 non-null  object\n",
            " 5   Power              354369 non-null  int64 \n",
            " 6   Model              334664 non-null  object\n",
            " 7   Kilometer          354369 non-null  int64 \n",
            " 8   RegistrationMonth  354369 non-null  int64 \n",
            " 9   FuelType           321474 non-null  object\n",
            " 10  Brand              354369 non-null  object\n",
            " 11  Repaired           283215 non-null  object\n",
            " 12  DateCreated        354369 non-null  object\n",
            " 13  NumberOfPictures   354369 non-null  int64 \n",
            " 14  PostalCode         354369 non-null  int64 \n",
            " 15  LastSeen           354369 non-null  object\n",
            "dtypes: int64(7), object(9)\n",
            "memory usage: 43.3+ MB\n"
          ]
        }
      ],
      "source": [
        "df.info()"
      ]
    },
    {
      "cell_type": "markdown",
      "metadata": {
        "id": "r14Ab4rBOXiE"
      },
      "source": [
        "Данные хранят след признаки:\n",
        "- DateCrawled — дата скачивания анкеты из базы\n",
        "- VehicleType — тип автомобильного кузова\n",
        "- RegistrationYear — год регистрации автомобиля\n",
        "- Gearbox — тип коробки передач\n",
        "- Power — мощность (л. с.)\n",
        "- Model — модель автомобиля\n",
        "- Kilometer — пробег (км)\n",
        "- RegistrationMonth — месяц регистрации автомобиля\n",
        "- FuelType — тип топлива\n",
        "- Brand — марка автомобиля\n",
        "- Repaired — была машина в ремонте или нет\n",
        "- DateCreated — дата создания анкеты\n",
        "- NumberOfPictures — количество фотографий автомобиля\n",
        "- PostalCode — почтовый индекс владельца анкеты (пользователя)\n",
        "- LastSeen — дата последней активности пользователя"
      ]
    },
    {
      "cell_type": "markdown",
      "metadata": {
        "id": "47PgJHKyOXiE"
      },
      "source": [
        "В данных присутсвует 354369 данных, в некоторых колонках есть пропуски. Для удобства приведем названия колонок к нижнему регистру, а столбцы datecrawled, datecreated, lastseen, numberofpictures, postalcode, registrationmonth сразу удалим. Так как они не имеют прямого отношения к образованию стоимости автомобиля."
      ]
    },
    {
      "cell_type": "code",
      "execution_count": 16,
      "metadata": {
        "id": "8w2ZK8p_OXiF"
      },
      "outputs": [],
      "source": [
        "df.columns = [col.lower() for col in df.columns]\n",
        "\n",
        "df = df.drop(\n",
        "    ['datecrawled',\n",
        "     'datecreated',\n",
        "     'lastseen',\n",
        "     'numberofpictures',\n",
        "     'postalcode',\n",
        "     'registrationmonth'],\n",
        "    axis=1)"
      ]
    },
    {
      "cell_type": "code",
      "execution_count": 17,
      "metadata": {
        "colab": {
          "base_uri": "https://localhost:8080/",
          "height": 574
        },
        "id": "I7AxTCNKOXiF",
        "outputId": "d56c17e4-2936-49ff-bb82-43774947d893"
      },
      "outputs": [
        {
          "output_type": "display_data",
          "data": {
            "text/plain": [
              "<Figure size 1500x600 with 2 Axes>"
            ],
            "image/png": "[encoded data removed]"
          },
          "metadata": {}
        }
      ],
      "source": [
        "create_boxplot_and_histogram(df, 'price')"
      ]
    },
    {
      "cell_type": "code",
      "execution_count": 18,
      "metadata": {
        "colab": {
          "base_uri": "https://localhost:8080/"
        },
        "id": "AvCl4aayOXiG",
        "outputId": "fc3284fe-dc75-49bb-883b-39efca1e4b4e"
      },
      "outputs": [
        {
          "output_type": "execute_result",
          "data": {
            "text/plain": [
              "count    354369.000000\n",
              "mean       4416.656776\n",
              "std        4514.158514\n",
              "min           0.000000\n",
              "25%        1050.000000\n",
              "50%        2700.000000\n",
              "75%        6400.000000\n",
              "max       20000.000000\n",
              "Name: price, dtype: float64"
            ]
          },
          "metadata": {},
          "execution_count": 18
        }
      ],
      "source": [
        "df['price'].describe()"
      ]
    },
    {
      "cell_type": "markdown",
      "metadata": {
        "id": "DbDUZYVlOXiG"
      },
      "source": [
        "Оставим машины дороже 500 у.е., тк сомнительно, что машина может стоять 0 у.е."
      ]
    },
    {
      "cell_type": "code",
      "execution_count": 19,
      "metadata": {
        "id": "No8fK9rqOXiG"
      },
      "outputs": [],
      "source": [
        "df = df.query('price >= 500')"
      ]
    },
    {
      "cell_type": "code",
      "execution_count": 20,
      "metadata": {
        "colab": {
          "base_uri": "https://localhost:8080/",
          "height": 574
        },
        "id": "y4sWYIcSOXiG",
        "outputId": "239cd3fc-23e7-460f-9fc6-e34091f009ba"
      },
      "outputs": [
        {
          "output_type": "display_data",
          "data": {
            "text/plain": [
              "<Figure size 1500x600 with 2 Axes>"
            ],
            "image/png": "[encoded data removed]"
          },
          "metadata": {}
        }
      ],
      "source": [
        "create_boxplot_and_histogram(df, 'registrationyear')"
      ]
    },
    {
      "cell_type": "code",
      "execution_count": 21,
      "metadata": {
        "colab": {
          "base_uri": "https://localhost:8080/"
        },
        "id": "JI2Y-TwDOXiG",
        "outputId": "9c827c65-bd7a-45b8-d5fe-d73dba462ca2"
      },
      "outputs": [
        {
          "output_type": "execute_result",
          "data": {
            "text/plain": [
              "count    318315.000000\n",
              "mean       2004.164636\n",
              "std          65.377755\n",
              "min        1000.000000\n",
              "25%        1999.000000\n",
              "50%        2004.000000\n",
              "75%        2008.000000\n",
              "max        9999.000000\n",
              "Name: registrationyear, dtype: float64"
            ]
          },
          "metadata": {},
          "execution_count": 21
        }
      ],
      "source": [
        "df['registrationyear'].describe()"
      ]
    },
    {
      "cell_type": "code",
      "execution_count": 22,
      "metadata": {
        "id": "yu16RrfYOXiH"
      },
      "outputs": [],
      "source": [
        "df = df.query('1990 <= registrationyear <= 2023')"
      ]
    },
    {
      "cell_type": "markdown",
      "metadata": {
        "id": "6sELVDp-OXiH"
      },
      "source": [
        "Удалим явные аномалии и Оставим год регистрации автомобиля начиная от 1990"
      ]
    },
    {
      "cell_type": "code",
      "execution_count": 23,
      "metadata": {
        "colab": {
          "base_uri": "https://localhost:8080/",
          "height": 574
        },
        "id": "-wqjvQGPOXiH",
        "outputId": "0982ff48-cd5a-431b-c150-b9fd77eeaef5"
      },
      "outputs": [
        {
          "output_type": "display_data",
          "data": {
            "text/plain": [
              "<Figure size 1500x600 with 2 Axes>"
            ],
            "image/png": "[encoded data removed]"
          },
          "metadata": {}
        }
      ],
      "source": [
        "create_boxplot_and_histogram(df, 'power')"
      ]
    },
    {
      "cell_type": "code",
      "execution_count": 24,
      "metadata": {
        "id": "BzJVKKbKOXiH"
      },
      "outputs": [],
      "source": [
        "df= df.query('90< power <= 1000')"
      ]
    },
    {
      "cell_type": "markdown",
      "metadata": {
        "id": "bQfSMJqeOXiH"
      },
      "source": [
        "Удалим машмны с несуществующе низкими мощностями и со сверхвысокими"
      ]
    },
    {
      "cell_type": "code",
      "execution_count": 25,
      "metadata": {
        "colab": {
          "base_uri": "https://localhost:8080/",
          "height": 574
        },
        "id": "y_nAKLI0OXiI",
        "outputId": "0c41f972-5c84-42a9-c047-bd36fbf1abed"
      },
      "outputs": [
        {
          "output_type": "display_data",
          "data": {
            "text/plain": [
              "<Figure size 1500x600 with 2 Axes>"
            ],
            "image/png": "[encoded data removed]"
          },
          "metadata": {}
        }
      ],
      "source": [
        "create_boxplot_and_histogram(df, 'kilometer')"
      ]
    },
    {
      "cell_type": "code",
      "execution_count": 26,
      "metadata": {
        "id": "Y1pivYWvOXiI"
      },
      "outputs": [],
      "source": [
        "df= df.query('kilometer >= 80000')"
      ]
    },
    {
      "cell_type": "markdown",
      "metadata": {
        "id": "FZS4NpsiOXiI"
      },
      "source": [
        "Удалим выбросы в признаке пробега"
      ]
    },
    {
      "cell_type": "code",
      "execution_count": 27,
      "metadata": {
        "colab": {
          "base_uri": "https://localhost:8080/"
        },
        "id": "1UsTexs2OXiI",
        "outputId": "8d32b146-24bb-458c-fda4-6cac50bcd6c5"
      },
      "outputs": [
        {
          "output_type": "execute_result",
          "data": {
            "text/plain": [
              "price                   0\n",
              "vehicletype          9905\n",
              "registrationyear        0\n",
              "gearbox              2246\n",
              "power                   0\n",
              "model                6171\n",
              "kilometer               0\n",
              "fueltype             9528\n",
              "brand                   0\n",
              "repaired            23348\n",
              "dtype: int64"
            ]
          },
          "metadata": {},
          "execution_count": 27
        }
      ],
      "source": [
        "df.isna().sum()"
      ]
    },
    {
      "cell_type": "code",
      "execution_count": 28,
      "metadata": {
        "id": "Yi9BykojOXiJ"
      },
      "outputs": [],
      "source": [
        "df['repaired'] = df['repaired'].fillna('no')"
      ]
    },
    {
      "cell_type": "code",
      "execution_count": 29,
      "metadata": {
        "colab": {
          "base_uri": "https://localhost:8080/"
        },
        "id": "1Om9nhaYOXiJ",
        "outputId": "781dc5a6-b92b-479d-8e5d-fd2ed74e0345"
      },
      "outputs": [
        {
          "output_type": "execute_result",
          "data": {
            "text/plain": [
              "0"
            ]
          },
          "metadata": {},
          "execution_count": 29
        }
      ],
      "source": [
        "df = df.drop_duplicates().reset_index(drop=True, inplace=False)\n",
        "df.duplicated().sum()"
      ]
    },
    {
      "cell_type": "code",
      "execution_count": 30,
      "metadata": {
        "id": "jtUmhkINOXiJ"
      },
      "outputs": [],
      "source": [
        "num_auto, cat_auto = cat_num_col(df)"
      ]
    },
    {
      "cell_type": "code",
      "execution_count": 31,
      "metadata": {
        "colab": {
          "base_uri": "https://localhost:8080/",
          "height": 796
        },
        "id": "bhume4iqOXiK",
        "outputId": "a58efd74-5646-40be-dd9b-6e332f567ac7"
      },
      "outputs": [
        {
          "output_type": "display_data",
          "data": {
            "text/plain": [
              "<Figure size 1000x800 with 2 Axes>"
            ],
            "image/png": "[encoded data removed]"
          },
          "metadata": {}
        }
      ],
      "source": [
        "plot_phik_heatmap(df, num_auto)"
      ]
    },
    {
      "cell_type": "markdown",
      "metadata": {
        "id": "OAMGm04xOXiK"
      },
      "source": [
        "Есть высокая зависимость между типом кузова и моделью, а также между брендом и моделью."
      ]
    },
    {
      "cell_type": "markdown",
      "metadata": {
        "id": "JOB4KWOcOXiK"
      },
      "source": [
        "## Обучение моделей"
      ]
    },
    {
      "cell_type": "code",
      "execution_count": 32,
      "metadata": {
        "colab": {
          "base_uri": "https://localhost:8080/"
        },
        "id": "6FSzxAGaOXiK",
        "outputId": "edb2041b-4238-4de0-a443-7f4ec95f0c1e"
      },
      "outputs": [
        {
          "output_type": "execute_result",
          "data": {
            "text/plain": [
              "['registrationyear', 'power', 'kilometer']"
            ]
          },
          "metadata": {},
          "execution_count": 32
        }
      ],
      "source": [
        "target = df['price']\n",
        "matrix = df.drop('price', axis=1)\n",
        "\n",
        "matrix_train, matrix_test, target_train, target_test = train_test_split(\n",
        "    matrix, target,\n",
        "    random_state=RANDOM_STATE,\n",
        "    test_size=TEST_SIZE\n",
        ")\n",
        "\n",
        "num_matrix, cat_matrix = cat_num_col(matrix)\n",
        "\n",
        "matrix_train[cat_matrix] = matrix_train[cat_matrix].astype('category')\n",
        "\n",
        "matrix_test[cat_matrix] = matrix_test[cat_matrix].astype('category')\n",
        "num_matrix"
      ]
    },
    {
      "cell_type": "markdown",
      "metadata": {
        "id": "Py1FarxOOXiL"
      },
      "source": [
        "Выполним кодировку признаков. Для категориальных будем использовать OrdinalEncoder, а для количественных StandardScaler"
      ]
    },
    {
      "cell_type": "code",
      "execution_count": 33,
      "metadata": {
        "id": "7pDPlN7ZOXiL"
      },
      "outputs": [],
      "source": [
        "ohe_pipe = Pipeline([\n",
        "    ('simpleImputer_ohe', SimpleImputer(strategy='most_frequent')),\n",
        "    ('ohe', OrdinalEncoder(handle_unknown='use_encoded_value', unknown_value=-1))\n",
        "])\n",
        "\n",
        "numeric_pipe = Pipeline(steps=[\n",
        "    ('scaler', StandardScaler())\n",
        "])\n",
        "\n",
        "data_preprocessor = ColumnTransformer(transformers=[\n",
        "    ('ohe', ohe_pipe, cat_matrix),\n",
        "    ('num', numeric_pipe, num_matrix)\n",
        "], remainder='passthrough')"
      ]
    },
    {
      "cell_type": "markdown",
      "metadata": {
        "id": "r4zXFXg9OXiL"
      },
      "source": [
        "Исследуем 3 модели. Возьмем дерево решений как более простую модель и 2 модели градиентного бустинга. Для исследования и выбора лучшей модели выберем метрику RMSE, а также будем смотреть на время обучения модели. Все эти данные сохраним в датафрейм для удобства"
      ]
    },
    {
      "cell_type": "markdown",
      "metadata": {
        "id": "c8CwScf2OXiL"
      },
      "source": [
        "# DecisionTreeRegressor"
      ]
    },
    {
      "cell_type": "code",
      "execution_count": 34,
      "metadata": {
        "id": "AlkWlRNWOXiM"
      },
      "outputs": [],
      "source": [
        "pipeline_tree = Pipeline([\n",
        "    ('preprocessor', data_preprocessor),\n",
        "    (\"decision_tree\", DecisionTreeRegressor(random_state=RANDOM_STATE))\n",
        "])\n",
        "\n",
        "# Определение параметров для поиска\n",
        "param_grid_tree = {\n",
        "    'decision_tree__max_depth': [3, 5, 7],\n",
        "    'decision_tree__min_samples_split': [2, 3, 4],\n",
        "    'decision_tree__min_samples_leaf': [1, 2, 3]\n",
        "}\n",
        "\n",
        "execution_time_tree = evaluate_time(pipeline_tree, matrix_train, target_train)\n",
        "\n",
        "best_params_tree, rmse_tree, model_tree = \\\n",
        "evaluate_pipeline(pipeline_tree, param_grid_tree, matrix_train, target_train)\n",
        "\n",
        "\n",
        "#best_params_tree, execution_time_tree, rmse_tree, model_tree, prediction_time_tree = \\\n",
        "#evaluate_pipeline(pipeline_tree, param_grid_tree, matrix_train, target_train)\n"
      ]
    },
    {
      "cell_type": "markdown",
      "metadata": {
        "id": "a5T_JGlkOXiM"
      },
      "source": [
        "# CatBoostRegressor"
      ]
    },
    {
      "cell_type": "code",
      "execution_count": 35,
      "metadata": {
        "colab": {
          "base_uri": "https://localhost:8080/"
        },
        "id": "GkdJzoDVOXiM",
        "outputId": "b6797263-6988-482e-ad98-0a28b5643cf0"
      },
      "outputs": [
        {
          "output_type": "stream",
          "name": "stdout",
          "text": [
            "Learning rate set to 0.087094\n",
            "0:\tlearn: 4269.5654013\ttotal: 65.6ms\tremaining: 1m 5s\n",
            "25:\tlearn: 2311.4537892\ttotal: 485ms\tremaining: 18.2s\n",
            "50:\tlearn: 2063.5965305\ttotal: 868ms\tremaining: 16.1s\n",
            "75:\tlearn: 1980.4679467\ttotal: 1.25s\tremaining: 15.2s\n",
            "100:\tlearn: 1930.7532453\ttotal: 1.66s\tremaining: 14.8s\n",
            "125:\tlearn: 1898.9205033\ttotal: 2.05s\tremaining: 14.2s\n",
            "150:\tlearn: 1874.9653104\ttotal: 2.45s\tremaining: 13.8s\n",
            "175:\tlearn: 1854.5944168\ttotal: 3.18s\tremaining: 14.9s\n",
            "200:\tlearn: 1837.6940198\ttotal: 4.14s\tremaining: 16.5s\n",
            "225:\tlearn: 1822.2465181\ttotal: 4.99s\tremaining: 17.1s\n",
            "250:\tlearn: 1809.1648139\ttotal: 6s\tremaining: 17.9s\n",
            "275:\tlearn: 1798.7245511\ttotal: 6.99s\tremaining: 18.3s\n",
            "300:\tlearn: 1789.0857073\ttotal: 7.59s\tremaining: 17.6s\n",
            "325:\tlearn: 1780.5249873\ttotal: 7.96s\tremaining: 16.5s\n",
            "350:\tlearn: 1772.3483176\ttotal: 8.36s\tremaining: 15.5s\n",
            "375:\tlearn: 1764.8896667\ttotal: 8.76s\tremaining: 14.5s\n",
            "400:\tlearn: 1757.2382050\ttotal: 9.15s\tremaining: 13.7s\n",
            "425:\tlearn: 1750.5379528\ttotal: 9.53s\tremaining: 12.8s\n",
            "450:\tlearn: 1744.5448771\ttotal: 9.93s\tremaining: 12.1s\n",
            "475:\tlearn: 1739.1677597\ttotal: 10.3s\tremaining: 11.4s\n",
            "500:\tlearn: 1734.2110746\ttotal: 10.7s\tremaining: 10.7s\n",
            "525:\tlearn: 1729.6762032\ttotal: 11.1s\tremaining: 10s\n",
            "550:\tlearn: 1724.9581409\ttotal: 11.5s\tremaining: 9.37s\n",
            "575:\tlearn: 1720.5174152\ttotal: 11.9s\tremaining: 8.76s\n",
            "600:\tlearn: 1716.3494225\ttotal: 12.3s\tremaining: 8.16s\n",
            "625:\tlearn: 1712.3984184\ttotal: 12.7s\tremaining: 7.58s\n",
            "650:\tlearn: 1708.4069515\ttotal: 13.1s\tremaining: 7.01s\n",
            "675:\tlearn: 1704.5345691\ttotal: 13.5s\tremaining: 6.47s\n",
            "700:\tlearn: 1700.9429020\ttotal: 13.9s\tremaining: 5.93s\n",
            "725:\tlearn: 1697.3025960\ttotal: 14.3s\tremaining: 5.39s\n",
            "750:\tlearn: 1693.6030029\ttotal: 14.7s\tremaining: 4.88s\n",
            "775:\tlearn: 1690.1004419\ttotal: 15.1s\tremaining: 4.36s\n",
            "800:\tlearn: 1687.1088585\ttotal: 15.5s\tremaining: 3.85s\n",
            "825:\tlearn: 1684.0297155\ttotal: 15.9s\tremaining: 3.35s\n",
            "850:\tlearn: 1680.9650009\ttotal: 16.3s\tremaining: 2.85s\n",
            "875:\tlearn: 1678.0284048\ttotal: 16.7s\tremaining: 2.36s\n",
            "900:\tlearn: 1675.2547776\ttotal: 17.1s\tremaining: 1.87s\n",
            "925:\tlearn: 1672.6986384\ttotal: 17.6s\tremaining: 1.4s\n",
            "950:\tlearn: 1670.0325948\ttotal: 18.6s\tremaining: 956ms\n",
            "975:\tlearn: 1667.6023847\ttotal: 19.4s\tremaining: 476ms\n",
            "999:\tlearn: 1665.2259043\ttotal: 20.2s\tremaining: 0us\n",
            "Learning rate set to 0.183449\n",
            "0:\tlearn: 4011.6977436\ttotal: 18.9ms\tremaining: 7.54s\n",
            "25:\tlearn: 2034.6658996\ttotal: 422ms\tremaining: 6.08s\n",
            "50:\tlearn: 1919.5613359\ttotal: 803ms\tremaining: 5.5s\n",
            "75:\tlearn: 1867.4561136\ttotal: 1.19s\tremaining: 5.08s\n",
            "100:\tlearn: 1829.5044410\ttotal: 1.61s\tremaining: 4.75s\n",
            "125:\tlearn: 1805.4519073\ttotal: 1.99s\tremaining: 4.33s\n",
            "150:\tlearn: 1784.8271347\ttotal: 2.4s\tremaining: 3.95s\n",
            "175:\tlearn: 1766.1471422\ttotal: 2.83s\tremaining: 3.6s\n",
            "200:\tlearn: 1751.3683179\ttotal: 4.29s\tremaining: 4.25s\n",
            "225:\tlearn: 1739.8032037\ttotal: 5.59s\tremaining: 4.31s\n",
            "250:\tlearn: 1728.7295311\ttotal: 6.57s\tremaining: 3.9s\n",
            "275:\tlearn: 1719.7294495\ttotal: 7.54s\tremaining: 3.39s\n",
            "300:\tlearn: 1711.1500520\ttotal: 8.06s\tremaining: 2.65s\n",
            "325:\tlearn: 1703.0317728\ttotal: 8.44s\tremaining: 1.92s\n",
            "350:\tlearn: 1694.8715987\ttotal: 8.85s\tremaining: 1.24s\n",
            "375:\tlearn: 1687.8239638\ttotal: 9.24s\tremaining: 590ms\n",
            "399:\tlearn: 1682.2608444\ttotal: 9.6s\tremaining: 0us\n"
          ]
        }
      ],
      "source": [
        "pipeline_catboost = Pipeline([\n",
        "    ('preprocessor', data_preprocessor),\n",
        "    (\"catboost\", CatBoostRegressor(loss_function='RMSE', verbose=25))\n",
        "])\n",
        "\n",
        "param_grid_catboost = {\n",
        "    'catboost__iterations': [100, 400]\n",
        "}\n",
        "\n",
        "execution_time_catboost = evaluate_time(pipeline_catboost, matrix_train, target_train)\n",
        "\n",
        "best_params_catboost, rmse_catboost, model_catboost = \\\n",
        "evaluate_pipeline(pipeline_catboost, param_grid_catboost, matrix_train, target_train)\n",
        "\n",
        "#best_params_catboost, execution_time_catboost, rmse_catboost, model_catboost, prediction_time_catboost = \\\n",
        "#evaluate_pipeline(pipeline_catboost, param_grid_catboost, matrix_train, target_train)"
      ]
    },
    {
      "cell_type": "markdown",
      "metadata": {
        "id": "oo3gNemeOXiM"
      },
      "source": [
        "# LGBMRegressor"
      ]
    },
    {
      "cell_type": "code",
      "execution_count": 36,
      "metadata": {
        "colab": {
          "base_uri": "https://localhost:8080/"
        },
        "id": "QRQBpZAZOXiM",
        "outputId": "0368f83d-33f3-489a-8b2f-de38d5ecf484"
      },
      "outputs": [
        {
          "output_type": "stream",
          "name": "stdout",
          "text": [
            "[LightGBM] [Info] Auto-choosing row-wise multi-threading, the overhead of testing was 0.009764 seconds.\n",
            "You can set `force_row_wise=true` to remove the overhead.\n",
            "And if memory is not enough, you can set `force_col_wise=true`.\n",
            "[LightGBM] [Info] Total Bins 558\n",
            "[LightGBM] [Info] Number of data points in the train set: 118781, number of used features: 9\n",
            "[LightGBM] [Info] Start training from score 5621.683300\n",
            "[LightGBM] [Warning] Accuracy may be bad since you didn't explicitly set num_leaves OR 2^max_depth > num_leaves. (num_leaves=31).\n",
            "[LightGBM] [Warning] Accuracy may be bad since you didn't explicitly set num_leaves OR 2^max_depth > num_leaves. (num_leaves=31).\n",
            "[LightGBM] [Info] Auto-choosing col-wise multi-threading, the overhead of testing was 0.017365 seconds.\n",
            "You can set `force_col_wise=true` to remove the overhead.\n",
            "[LightGBM] [Info] Total Bins 558\n",
            "[LightGBM] [Info] Number of data points in the train set: 118781, number of used features: 9\n",
            "[LightGBM] [Info] Start training from score 5621.683300\n",
            "[LightGBM] [Warning] No further splits with positive gain, best gain: -inf\n",
            "[LightGBM] [Warning] Accuracy may be bad since you didn't explicitly set num_leaves OR 2^max_depth > num_leaves. (num_leaves=31).\n"
          ]
        }
      ],
      "source": [
        "pipeline_lgbm = Pipeline([\n",
        "    ('preprocessor', data_preprocessor),\n",
        "    (\"lgbm\", LGBMRegressor())\n",
        "])\n",
        "\n",
        "param_grid_lgbm = {\n",
        "    'lgbm__max_depth': [3, 5, 7]\n",
        "}\n",
        "\n",
        "execution_time_lgbm = evaluate_time(pipeline_lgbm, matrix_train, target_train)\n",
        "\n",
        "best_params_lgbm, rmse_lgbm, model_lgbm  = \\\n",
        "evaluate_pipeline(pipeline_lgbm, param_grid_lgbm, matrix_train, target_train)\n",
        "\n",
        "#best_params_lgbm, execution_time_lgbm, rmse_lgbm, model_lgbm, prediction_time_lgbm  = \\\n",
        "#evaluate_pipeline(pipeline_lgbm, param_grid_lgbm, matrix_train, target_train)"
      ]
    },
    {
      "cell_type": "code",
      "execution_count": 37,
      "metadata": {
        "colab": {
          "base_uri": "https://localhost:8080/",
          "height": 143
        },
        "id": "fJXJWkA2OXiN",
        "outputId": "0ba83a8b-edfe-44a6-b609-798339cad06e"
      },
      "outputs": [
        {
          "output_type": "execute_result",
          "data": {
            "text/plain": [
              "      model  execution_time   train_rmse\n",
              "0      tree        1.680448  2330.594231\n",
              "1  catboost       21.094999  1751.149808\n",
              "2      lgbm        1.473024  1817.236568"
            ],
            "text/html": [
              "\n",
              "  <div id=\"df-49b14d92-1f55-4018-a625-035a569cee47\" class=\"colab-df-container\">\n",
              "    <div>\n",
              "<style scoped>\n",
              "    .dataframe tbody tr th:only-of-type {\n",
              "        vertical-align: middle;\n",
              "    }\n",
              "\n",
              "    .dataframe tbody tr th {\n",
              "        vertical-align: top;\n",
              "    }\n",
              "\n",
              "    .dataframe thead th {\n",
              "        text-align: right;\n",
              "    }\n",
              "</style>\n",
              "<table border=\"1\" class=\"dataframe\">\n",
              "  <thead>\n",
              "    <tr style=\"text-align: right;\">\n",
              "      <th></th>\n",
              "      <th>model</th>\n",
              "      <th>execution_time</th>\n",
              "      <th>train_rmse</th>\n",
              "    </tr>\n",
              "  </thead>\n",
              "  <tbody>\n",
              "    <tr>\n",
              "      <th>0</th>\n",
              "      <td>tree</td>\n",
              "      <td>1.680448</td>\n",
              "      <td>2330.594231</td>\n",
              "    </tr>\n",
              "    <tr>\n",
              "      <th>1</th>\n",
              "      <td>catboost</td>\n",
              "      <td>21.094999</td>\n",
              "      <td>1751.149808</td>\n",
              "    </tr>\n",
              "    <tr>\n",
              "      <th>2</th>\n",
              "      <td>lgbm</td>\n",
              "      <td>1.473024</td>\n",
              "      <td>1817.236568</td>\n",
              "    </tr>\n",
              "  </tbody>\n",
              "</table>\n",
              "</div>\n",
              "    <div class=\"colab-df-buttons\">\n",
              "\n",
              "  <div class=\"colab-df-container\">\n",
              "    <button class=\"colab-df-convert\" onclick=\"convertToInteractive('df-49b14d92-1f55-4018-a625-035a569cee47')\"\n",
              "            title=\"Convert this dataframe to an interactive table.\"\n",
              "            style=\"display:none;\">\n",
              "\n",
              "  <svg xmlns=\"http://www.w3.org/2000/svg\" height=\"24px\" viewBox=\"0 -960 960 960\">\n",
              "    <path d=\"M120-120v-720h720v720H120Zm60-500h600v-160H180v160Zm220 220h160v-160H400v160Zm0 220h160v-160H400v160ZM180-400h160v-160H180v160Zm440 0h160v-160H620v160ZM180-180h160v-160H180v160Zm440 0h160v-160H620v160Z\"/>\n",
              "  </svg>\n",
              "    </button>\n",
              "\n",
              "  <style>\n",
              "    .colab-df-container {\n",
              "      display:flex;\n",
              "      gap: 12px;\n",
              "    }\n",
              "\n",
              "    .colab-df-convert {\n",
              "      background-color: #E8F0FE;\n",
              "      border: none;\n",
              "      border-radius: 50%;\n",
              "      cursor: pointer;\n",
              "      display: none;\n",
              "      fill: #1967D2;\n",
              "      height: 32px;\n",
              "      padding: 0 0 0 0;\n",
              "      width: 32px;\n",
              "    }\n",
              "\n",
              "    .colab-df-convert:hover {\n",
              "      background-color: #E2EBFA;\n",
              "      box-shadow: 0px 1px 2px rgba(60, 64, 67, 0.3), 0px 1px 3px 1px rgba(60, 64, 67, 0.15);\n",
              "      fill: #174EA6;\n",
              "    }\n",
              "\n",
              "    .colab-df-buttons div {\n",
              "      margin-bottom: 4px;\n",
              "    }\n",
              "\n",
              "    [theme=dark] .colab-df-convert {\n",
              "      background-color: #3B4455;\n",
              "      fill: #D2E3FC;\n",
              "    }\n",
              "\n",
              "    [theme=dark] .colab-df-convert:hover {\n",
              "      background-color: #434B5C;\n",
              "      box-shadow: 0px 1px 3px 1px rgba(0, 0, 0, 0.15);\n",
              "      filter: drop-shadow(0px 1px 2px rgba(0, 0, 0, 0.3));\n",
              "      fill: #FFFFFF;\n",
              "    }\n",
              "  </style>\n",
              "\n",
              "    <script>\n",
              "      const buttonEl =\n",
              "        document.querySelector('#df-49b14d92-1f55-4018-a625-035a569cee47 button.colab-df-convert');\n",
              "      buttonEl.style.display =\n",
              "        google.colab.kernel.accessAllowed ? 'block' : 'none';\n",
              "\n",
              "      async function convertToInteractive(key) {\n",
              "        const element = document.querySelector('#df-49b14d92-1f55-4018-a625-035a569cee47');\n",
              "        const dataTable =\n",
              "          await google.colab.kernel.invokeFunction('convertToInteractive',\n",
              "                                                    [key], {});\n",
              "        if (!dataTable) return;\n",
              "\n",
              "        const docLinkHtml = 'Like what you see? Visit the ' +\n",
              "          '<a target=\"_blank\" href=https://colab.research.google.com/notebooks/data_table.ipynb>data table notebook</a>'\n",
              "          + ' to learn more about interactive tables.';\n",
              "        element.innerHTML = '';\n",
              "        dataTable['output_type'] = 'display_data';\n",
              "        await google.colab.output.renderOutput(dataTable, element);\n",
              "        const docLink = document.createElement('div');\n",
              "        docLink.innerHTML = docLinkHtml;\n",
              "        element.appendChild(docLink);\n",
              "      }\n",
              "    </script>\n",
              "  </div>\n",
              "\n",
              "\n",
              "<div id=\"df-836ce4f5-9411-4adc-a87e-ed94610bf406\">\n",
              "  <button class=\"colab-df-quickchart\" onclick=\"quickchart('df-836ce4f5-9411-4adc-a87e-ed94610bf406')\"\n",
              "            title=\"Suggest charts\"\n",
              "            style=\"display:none;\">\n",
              "\n",
              "<svg xmlns=\"http://www.w3.org/2000/svg\" height=\"24px\"viewBox=\"0 0 24 24\"\n",
              "     width=\"24px\">\n",
              "    <g>\n",
              "        <path d=\"M19 3H5c-1.1 0-2 .9-2 2v14c0 1.1.9 2 2 2h14c1.1 0 2-.9 2-2V5c0-1.1-.9-2-2-2zM9 17H7v-7h2v7zm4 0h-2V7h2v10zm4 0h-2v-4h2v4z\"/>\n",
              "    </g>\n",
              "</svg>\n",
              "  </button>\n",
              "\n",
              "<style>\n",
              "  .colab-df-quickchart {\n",
              "      --bg-color: #E8F0FE;\n",
              "      --fill-color: #1967D2;\n",
              "      --hover-bg-color: #E2EBFA;\n",
              "      --hover-fill-color: #174EA6;\n",
              "      --disabled-fill-color: #AAA;\n",
              "      --disabled-bg-color: #DDD;\n",
              "  }\n",
              "\n",
              "  [theme=dark] .colab-df-quickchart {\n",
              "      --bg-color: #3B4455;\n",
              "      --fill-color: #D2E3FC;\n",
              "      --hover-bg-color: #434B5C;\n",
              "      --hover-fill-color: #FFFFFF;\n",
              "      --disabled-bg-color: #3B4455;\n",
              "      --disabled-fill-color: #666;\n",
              "  }\n",
              "\n",
              "  .colab-df-quickchart {\n",
              "    background-color: var(--bg-color);\n",
              "    border: none;\n",
              "    border-radius: 50%;\n",
              "    cursor: pointer;\n",
              "    display: none;\n",
              "    fill: var(--fill-color);\n",
              "    height: 32px;\n",
              "    padding: 0;\n",
              "    width: 32px;\n",
              "  }\n",
              "\n",
              "  .colab-df-quickchart:hover {\n",
              "    background-color: var(--hover-bg-color);\n",
              "    box-shadow: 0 1px 2px rgba(60, 64, 67, 0.3), 0 1px 3px 1px rgba(60, 64, 67, 0.15);\n",
              "    fill: var(--button-hover-fill-color);\n",
              "  }\n",
              "\n",
              "  .colab-df-quickchart-complete:disabled,\n",
              "  .colab-df-quickchart-complete:disabled:hover {\n",
              "    background-color: var(--disabled-bg-color);\n",
              "    fill: var(--disabled-fill-color);\n",
              "    box-shadow: none;\n",
              "  }\n",
              "\n",
              "  .colab-df-spinner {\n",
              "    border: 2px solid var(--fill-color);\n",
              "    border-color: transparent;\n",
              "    border-bottom-color: var(--fill-color);\n",
              "    animation:\n",
              "      spin 1s steps(1) infinite;\n",
              "  }\n",
              "\n",
              "  @keyframes spin {\n",
              "    0% {\n",
              "      border-color: transparent;\n",
              "      border-bottom-color: var(--fill-color);\n",
              "      border-left-color: var(--fill-color);\n",
              "    }\n",
              "    20% {\n",
              "      border-color: transparent;\n",
              "      border-left-color: var(--fill-color);\n",
              "      border-top-color: var(--fill-color);\n",
              "    }\n",
              "    30% {\n",
              "      border-color: transparent;\n",
              "      border-left-color: var(--fill-color);\n",
              "      border-top-color: var(--fill-color);\n",
              "      border-right-color: var(--fill-color);\n",
              "    }\n",
              "    40% {\n",
              "      border-color: transparent;\n",
              "      border-right-color: var(--fill-color);\n",
              "      border-top-color: var(--fill-color);\n",
              "    }\n",
              "    60% {\n",
              "      border-color: transparent;\n",
              "      border-right-color: var(--fill-color);\n",
              "    }\n",
              "    80% {\n",
              "      border-color: transparent;\n",
              "      border-right-color: var(--fill-color);\n",
              "      border-bottom-color: var(--fill-color);\n",
              "    }\n",
              "    90% {\n",
              "      border-color: transparent;\n",
              "      border-bottom-color: var(--fill-color);\n",
              "    }\n",
              "  }\n",
              "</style>\n",
              "\n",
              "  <script>\n",
              "    async function quickchart(key) {\n",
              "      const quickchartButtonEl =\n",
              "        document.querySelector('#' + key + ' button');\n",
              "      quickchartButtonEl.disabled = true;  // To prevent multiple clicks.\n",
              "      quickchartButtonEl.classList.add('colab-df-spinner');\n",
              "      try {\n",
              "        const charts = await google.colab.kernel.invokeFunction(\n",
              "            'suggestCharts', [key], {});\n",
              "      } catch (error) {\n",
              "        console.error('Error during call to suggestCharts:', error);\n",
              "      }\n",
              "      quickchartButtonEl.classList.remove('colab-df-spinner');\n",
              "      quickchartButtonEl.classList.add('colab-df-quickchart-complete');\n",
              "    }\n",
              "    (() => {\n",
              "      let quickchartButtonEl =\n",
              "        document.querySelector('#df-836ce4f5-9411-4adc-a87e-ed94610bf406 button');\n",
              "      quickchartButtonEl.style.display =\n",
              "        google.colab.kernel.accessAllowed ? 'block' : 'none';\n",
              "    })();\n",
              "  </script>\n",
              "</div>\n",
              "    </div>\n",
              "  </div>\n"
            ],
            "application/vnd.google.colaboratory.intrinsic+json": {
              "type": "dataframe",
              "variable_name": "df_all_model",
              "summary": "{\n  \"name\": \"df_all_model\",\n  \"rows\": 3,\n  \"fields\": [\n    {\n      \"column\": \"model\",\n      \"properties\": {\n        \"dtype\": \"string\",\n        \"num_unique_values\": 3,\n        \"samples\": [\n          \"tree\",\n          \"catboost\",\n          \"lgbm\"\n        ],\n        \"semantic_type\": \"\",\n        \"description\": \"\"\n      }\n    },\n    {\n      \"column\": \"execution_time\",\n      \"properties\": {\n        \"dtype\": \"number\",\n        \"std\": 11.26935142286588,\n        \"min\": 1.4730241298675537,\n        \"max\": 21.094998836517334,\n        \"num_unique_values\": 3,\n        \"samples\": [\n          1.680448293685913,\n          21.094998836517334,\n          1.4730241298675537\n        ],\n        \"semantic_type\": \"\",\n        \"description\": \"\"\n      }\n    },\n    {\n      \"column\": \"train_rmse\",\n      \"properties\": {\n        \"dtype\": \"number\",\n        \"std\": 317.19063417737544,\n        \"min\": 1751.1498075969344,\n        \"max\": 2330.59423135239,\n        \"num_unique_values\": 3,\n        \"samples\": [\n          2330.59423135239,\n          1751.1498075969344,\n          1817.2365682072757\n        ],\n        \"semantic_type\": \"\",\n        \"description\": \"\"\n      }\n    }\n  ]\n}"
            }
          },
          "metadata": {},
          "execution_count": 37
        }
      ],
      "source": [
        "data = {\n",
        "    \"model\": ['tree', 'catboost', 'lgbm'],\n",
        "    \"execution_time\": [execution_time_tree, execution_time_catboost, execution_time_lgbm],\n",
        "    \"train_rmse\": [rmse_tree, rmse_catboost, rmse_lgbm]\n",
        "    #\"prediction_time\": [prediction_time_tree, prediction_time_catboost, prediction_time_lgbm]\n",
        "}\n",
        "\n",
        "df_all_model = pd.DataFrame(data)\n",
        "\n",
        "df_all_model.head()"
      ]
    },
    {
      "cell_type": "markdown",
      "metadata": {
        "id": "6A-uCBWDOXiN"
      },
      "source": [
        "## Анализ моделей"
      ]
    },
    {
      "cell_type": "markdown",
      "metadata": {
        "id": "46wokHZTOXiO"
      },
      "source": [
        "По результатам исследования все модели имеют метрику RMSE  ниже  2500. Однако лучшая модель по RMSE метрике CatBoostRegressor. Хоть она не самая быстрая по времени обучения. Посмотрим на ее гиперпараметры и выполним предсказание на тестовой выборке"
      ]
    },
    {
      "cell_type": "code",
      "execution_count": 38,
      "metadata": {
        "colab": {
          "base_uri": "https://localhost:8080/"
        },
        "id": "0TYMytYPOXiO",
        "outputId": "f881d2fc-0ece-49e4-ad5e-be996bfb8b82"
      },
      "outputs": [
        {
          "output_type": "execute_result",
          "data": {
            "text/plain": [
              "{'catboost__iterations': 400}"
            ]
          },
          "metadata": {},
          "execution_count": 38
        }
      ],
      "source": [
        "best_params_catboost"
      ]
    },
    {
      "cell_type": "code",
      "execution_count": 39,
      "metadata": {
        "colab": {
          "base_uri": "https://localhost:8080/"
        },
        "id": "F2K9gMIcOXiO",
        "outputId": "1992b06a-c7a2-4749-a93b-163d0d350fbb"
      },
      "outputs": [
        {
          "output_type": "execute_result",
          "data": {
            "text/plain": [
              "1728.654895084177"
            ]
          },
          "metadata": {},
          "execution_count": 39
        }
      ],
      "source": [
        "predictions = model_catboost.predict(matrix_test)\n",
        "rmse_test = mean_squared_error(target_test, predictions, squared=False)\n",
        "rmse_test"
      ]
    },
    {
      "cell_type": "markdown",
      "metadata": {
        "id": "KM3_Yf8QOXiO"
      },
      "source": [
        "# Вывод\n",
        "В ходе предобработки было сделано:\n",
        "\n",
        "* Перевели в нижний регистр названия признаков\n",
        "* Удалили лишние признаки (datecrawled, datecreated, lastseen, numberofpictures, postalcode,registrationmonth)\n",
        "* Удалили строки с аномальными значениями в столбцах price, registrationyear, power\n",
        "* Заполнили пропуски столбце notrepaired\n",
        "* Удалили 25364 дубликатов\n",
        "\n",
        "В ходе подготовки данных к обучению было сделано:\n",
        "* Преобразовали тип данных у категориальных данных\n",
        "* Разделили данные на тренировочную и тестовую выборку\n",
        "* Выбрали кодировщики OrdinalEncider и StandartScaler\n",
        "\n",
        "В ходе обучения было сделано следующее:\n",
        "* Для обучения выбрали 3 модели DecisionTreeRegressor, CatBoostRegressor, Light Gradient Boosting Machine\n",
        "* По метрике RMSE  выбрали модель CatBoostRegressor и выполнили предсказание на тестовых данных\n",
        "Модель CatBoostRegressor:\n",
        "\n",
        "* train_rmse 1770.215567\n",
        "* execution_time 43.43 сек.\n",
        "* best_params iterations: 150\n",
        "\n",
        "Значение RMSE лучшей модели на тестовой выборке - 1746"
      ]
    },
    {
      "cell_type": "code",
      "execution_count": 39,
      "metadata": {
        "id": "jVKp8hF3OXiP"
      },
      "outputs": [],
      "source": []
    }
  ],
  "metadata": {
    "ExecuteTimeLog": [
      {
        "duration": 1954,
        "start_time": "2024-03-12T16:12:08.949Z"
      },
      {
        "duration": 1696,
        "start_time": "2024-03-12T16:12:10.905Z"
      },
      {
        "duration": 3081,
        "start_time": "2024-03-12T16:12:41.453Z"
      },
      {
        "duration": 18,
        "start_time": "2024-03-12T16:12:56.384Z"
      },
      {
        "duration": 163,
        "start_time": "2024-03-12T16:14:20.820Z"
      },
      {
        "duration": 4,
        "start_time": "2024-03-12T16:18:17.900Z"
      },
      {
        "duration": 6,
        "start_time": "2024-03-12T16:18:17.905Z"
      },
      {
        "duration": 20,
        "start_time": "2024-03-12T16:18:17.913Z"
      },
      {
        "duration": 16,
        "start_time": "2024-03-12T16:18:17.934Z"
      },
      {
        "duration": 7,
        "start_time": "2024-03-12T16:18:17.952Z"
      },
      {
        "duration": 943,
        "start_time": "2024-03-12T16:18:17.961Z"
      },
      {
        "duration": 13,
        "start_time": "2024-03-12T16:18:18.905Z"
      },
      {
        "duration": 160,
        "start_time": "2024-03-12T16:18:18.920Z"
      },
      {
        "duration": 473,
        "start_time": "2024-03-12T16:18:42.178Z"
      },
      {
        "duration": 600,
        "start_time": "2024-03-12T16:19:06.780Z"
      },
      {
        "duration": 1071,
        "start_time": "2024-03-12T16:19:11.713Z"
      },
      {
        "duration": 1046,
        "start_time": "2024-03-12T16:19:33.620Z"
      },
      {
        "duration": 3,
        "start_time": "2024-03-12T16:19:36.508Z"
      },
      {
        "duration": 22,
        "start_time": "2024-03-12T16:19:36.514Z"
      },
      {
        "duration": 10,
        "start_time": "2024-03-12T16:19:36.538Z"
      },
      {
        "duration": 9,
        "start_time": "2024-03-12T16:19:36.549Z"
      },
      {
        "duration": 6,
        "start_time": "2024-03-12T16:19:36.560Z"
      },
      {
        "duration": 928,
        "start_time": "2024-03-12T16:19:36.568Z"
      },
      {
        "duration": 12,
        "start_time": "2024-03-12T16:19:37.498Z"
      },
      {
        "duration": 166,
        "start_time": "2024-03-12T16:19:37.512Z"
      },
      {
        "duration": 936,
        "start_time": "2024-03-12T16:19:37.680Z"
      },
      {
        "duration": 915,
        "start_time": "2024-03-12T16:19:46.605Z"
      },
      {
        "duration": 3,
        "start_time": "2024-03-12T16:20:01.938Z"
      },
      {
        "duration": 26,
        "start_time": "2024-03-12T16:20:01.944Z"
      },
      {
        "duration": 38,
        "start_time": "2024-03-12T16:20:01.972Z"
      },
      {
        "duration": 27,
        "start_time": "2024-03-12T16:20:02.011Z"
      },
      {
        "duration": 34,
        "start_time": "2024-03-12T16:20:02.040Z"
      },
      {
        "duration": 1001,
        "start_time": "2024-03-12T16:20:02.075Z"
      },
      {
        "duration": 13,
        "start_time": "2024-03-12T16:20:03.078Z"
      },
      {
        "duration": 173,
        "start_time": "2024-03-12T16:20:03.092Z"
      },
      {
        "duration": 915,
        "start_time": "2024-03-12T16:20:03.266Z"
      },
      {
        "duration": 454,
        "start_time": "2024-03-12T16:20:48.458Z"
      },
      {
        "duration": 917,
        "start_time": "2024-03-12T16:20:59.770Z"
      },
      {
        "duration": 23,
        "start_time": "2024-03-12T16:21:05.170Z"
      },
      {
        "duration": 527,
        "start_time": "2024-03-12T16:21:20.967Z"
      },
      {
        "duration": 915,
        "start_time": "2024-03-12T16:21:42.061Z"
      },
      {
        "duration": 23,
        "start_time": "2024-03-12T16:21:45.360Z"
      },
      {
        "duration": 529,
        "start_time": "2024-03-12T16:21:53.152Z"
      },
      {
        "duration": 1438,
        "start_time": "2024-03-12T16:22:04.291Z"
      },
      {
        "duration": 3,
        "start_time": "2024-03-12T16:22:05.731Z"
      },
      {
        "duration": 27,
        "start_time": "2024-03-12T16:22:05.735Z"
      },
      {
        "duration": 9,
        "start_time": "2024-03-12T16:22:05.764Z"
      },
      {
        "duration": 5,
        "start_time": "2024-03-12T16:22:05.775Z"
      },
      {
        "duration": 948,
        "start_time": "2024-03-12T16:22:05.781Z"
      },
      {
        "duration": 16,
        "start_time": "2024-03-12T16:22:06.731Z"
      },
      {
        "duration": 170,
        "start_time": "2024-03-12T16:22:06.749Z"
      },
      {
        "duration": 689,
        "start_time": "2024-03-12T16:22:06.920Z"
      },
      {
        "duration": 0,
        "start_time": "2024-03-12T16:22:07.611Z"
      },
      {
        "duration": 11,
        "start_time": "2024-03-12T16:22:23.674Z"
      },
      {
        "duration": 8,
        "start_time": "2024-03-12T16:22:39.520Z"
      },
      {
        "duration": 9,
        "start_time": "2024-03-12T16:22:45.041Z"
      },
      {
        "duration": 4,
        "start_time": "2024-03-12T16:22:54.535Z"
      },
      {
        "duration": 3,
        "start_time": "2024-03-12T16:22:54.820Z"
      },
      {
        "duration": 4,
        "start_time": "2024-03-12T16:22:55.027Z"
      },
      {
        "duration": 4,
        "start_time": "2024-03-12T16:22:55.533Z"
      },
      {
        "duration": 4,
        "start_time": "2024-03-12T16:22:56.402Z"
      },
      {
        "duration": 904,
        "start_time": "2024-03-12T16:22:56.906Z"
      },
      {
        "duration": 13,
        "start_time": "2024-03-12T16:22:57.812Z"
      },
      {
        "duration": 173,
        "start_time": "2024-03-12T16:22:57.827Z"
      },
      {
        "duration": 932,
        "start_time": "2024-03-12T16:22:58.598Z"
      },
      {
        "duration": 22,
        "start_time": "2024-03-12T16:23:00.812Z"
      },
      {
        "duration": 47,
        "start_time": "2024-03-12T16:44:40.727Z"
      },
      {
        "duration": 3,
        "start_time": "2024-03-12T16:45:26.247Z"
      },
      {
        "duration": 4,
        "start_time": "2024-03-12T16:45:28.075Z"
      },
      {
        "duration": 5,
        "start_time": "2024-03-12T16:45:28.514Z"
      },
      {
        "duration": 5,
        "start_time": "2024-03-12T16:45:28.728Z"
      },
      {
        "duration": 831,
        "start_time": "2024-03-12T16:45:29.098Z"
      },
      {
        "duration": 14,
        "start_time": "2024-03-12T16:45:29.931Z"
      },
      {
        "duration": 184,
        "start_time": "2024-03-12T16:45:29.946Z"
      },
      {
        "duration": 969,
        "start_time": "2024-03-12T16:45:31.005Z"
      },
      {
        "duration": 36,
        "start_time": "2024-03-12T16:45:32.032Z"
      },
      {
        "duration": 4,
        "start_time": "2024-03-12T16:45:40.443Z"
      },
      {
        "duration": 4,
        "start_time": "2024-03-12T16:45:47.948Z"
      },
      {
        "duration": 15,
        "start_time": "2024-03-12T16:46:44.998Z"
      },
      {
        "duration": 1702,
        "start_time": "2024-03-12T16:47:00.107Z"
      },
      {
        "duration": 14,
        "start_time": "2024-03-12T16:47:09.912Z"
      },
      {
        "duration": 16,
        "start_time": "2024-03-12T16:49:38.554Z"
      },
      {
        "duration": 385,
        "start_time": "2024-03-12T16:49:51.668Z"
      },
      {
        "duration": 19,
        "start_time": "2024-03-12T16:55:37.758Z"
      },
      {
        "duration": 4,
        "start_time": "2024-03-12T16:55:42.516Z"
      },
      {
        "duration": 4,
        "start_time": "2024-03-12T16:55:47.308Z"
      },
      {
        "duration": 461,
        "start_time": "2024-03-12T16:55:57.584Z"
      },
      {
        "duration": 1245,
        "start_time": "2024-03-12T16:56:38.829Z"
      },
      {
        "duration": 3,
        "start_time": "2024-03-12T16:56:48.723Z"
      },
      {
        "duration": 17,
        "start_time": "2024-03-12T16:56:56.096Z"
      },
      {
        "duration": 448,
        "start_time": "2024-03-12T16:56:56.511Z"
      },
      {
        "duration": 1219,
        "start_time": "2024-03-12T16:57:01.464Z"
      },
      {
        "duration": 5,
        "start_time": "2024-03-12T16:59:18.729Z"
      },
      {
        "duration": 264,
        "start_time": "2024-03-12T16:59:28.806Z"
      },
      {
        "duration": 543,
        "start_time": "2024-03-12T16:59:34.544Z"
      },
      {
        "duration": 266,
        "start_time": "2024-03-12T16:59:44.321Z"
      },
      {
        "duration": 5,
        "start_time": "2024-03-12T17:00:55.421Z"
      },
      {
        "duration": 247,
        "start_time": "2024-03-12T17:00:58.244Z"
      },
      {
        "duration": 352,
        "start_time": "2024-03-12T17:01:20.421Z"
      },
      {
        "duration": 5,
        "start_time": "2024-03-12T17:02:09.591Z"
      },
      {
        "duration": 273,
        "start_time": "2024-03-12T17:02:13.487Z"
      },
      {
        "duration": 1414,
        "start_time": "2024-03-12T17:02:24.730Z"
      },
      {
        "duration": 3,
        "start_time": "2024-03-12T17:02:26.146Z"
      },
      {
        "duration": 8,
        "start_time": "2024-03-12T17:02:26.151Z"
      },
      {
        "duration": 4,
        "start_time": "2024-03-12T17:02:26.160Z"
      },
      {
        "duration": 21,
        "start_time": "2024-03-12T17:02:26.166Z"
      },
      {
        "duration": 946,
        "start_time": "2024-03-12T17:02:26.188Z"
      },
      {
        "duration": 17,
        "start_time": "2024-03-12T17:02:27.135Z"
      },
      {
        "duration": 179,
        "start_time": "2024-03-12T17:02:27.154Z"
      },
      {
        "duration": 26,
        "start_time": "2024-03-12T17:02:27.335Z"
      },
      {
        "duration": 489,
        "start_time": "2024-03-12T17:02:27.363Z"
      },
      {
        "duration": 30,
        "start_time": "2024-03-12T17:02:27.854Z"
      },
      {
        "duration": 115,
        "start_time": "2024-03-12T17:02:27.886Z"
      },
      {
        "duration": 0,
        "start_time": "2024-03-12T17:02:28.002Z"
      },
      {
        "duration": 2457,
        "start_time": "2024-03-12T17:02:48.590Z"
      },
      {
        "duration": 16,
        "start_time": "2024-03-12T17:08:40.643Z"
      },
      {
        "duration": 30,
        "start_time": "2024-03-12T17:09:59.701Z"
      },
      {
        "duration": 11,
        "start_time": "2024-03-12T17:10:10.622Z"
      },
      {
        "duration": 1999,
        "start_time": "2024-03-12T17:10:14.293Z"
      },
      {
        "duration": 15,
        "start_time": "2024-03-12T17:10:36.365Z"
      },
      {
        "duration": 28,
        "start_time": "2024-03-12T17:10:56.911Z"
      },
      {
        "duration": 9,
        "start_time": "2024-03-12T17:14:15.582Z"
      },
      {
        "duration": 2204,
        "start_time": "2024-03-12T17:14:22.206Z"
      },
      {
        "duration": 19,
        "start_time": "2024-03-12T17:15:01.861Z"
      },
      {
        "duration": 1673,
        "start_time": "2024-03-12T17:17:03.883Z"
      },
      {
        "duration": 10,
        "start_time": "2024-03-12T17:17:28.073Z"
      },
      {
        "duration": 19,
        "start_time": "2024-03-12T17:17:44.497Z"
      },
      {
        "duration": 45,
        "start_time": "2024-03-12T17:18:31.389Z"
      },
      {
        "duration": 58,
        "start_time": "2024-03-12T17:19:34.132Z"
      },
      {
        "duration": 10,
        "start_time": "2024-03-12T17:19:38.807Z"
      },
      {
        "duration": 13,
        "start_time": "2024-03-12T17:19:43.425Z"
      },
      {
        "duration": 181,
        "start_time": "2024-03-12T17:20:07.581Z"
      },
      {
        "duration": 1432,
        "start_time": "2024-03-12T17:20:12.932Z"
      },
      {
        "duration": 3,
        "start_time": "2024-03-12T17:20:14.366Z"
      },
      {
        "duration": 9,
        "start_time": "2024-03-12T17:20:14.371Z"
      },
      {
        "duration": 14,
        "start_time": "2024-03-12T17:20:14.381Z"
      },
      {
        "duration": 14,
        "start_time": "2024-03-12T17:20:14.397Z"
      },
      {
        "duration": 940,
        "start_time": "2024-03-12T17:20:14.412Z"
      },
      {
        "duration": 27,
        "start_time": "2024-03-12T17:20:15.353Z"
      },
      {
        "duration": 174,
        "start_time": "2024-03-12T17:20:15.381Z"
      },
      {
        "duration": 28,
        "start_time": "2024-03-12T17:20:15.556Z"
      },
      {
        "duration": 2661,
        "start_time": "2024-03-12T17:20:15.586Z"
      },
      {
        "duration": 28,
        "start_time": "2024-03-12T17:20:18.248Z"
      },
      {
        "duration": 33,
        "start_time": "2024-03-12T17:20:18.278Z"
      },
      {
        "duration": 2275,
        "start_time": "2024-03-12T17:20:18.313Z"
      },
      {
        "duration": 16,
        "start_time": "2024-03-12T17:20:20.590Z"
      },
      {
        "duration": 31,
        "start_time": "2024-03-12T17:20:20.607Z"
      },
      {
        "duration": 2416,
        "start_time": "2024-03-12T17:20:20.639Z"
      },
      {
        "duration": 24,
        "start_time": "2024-03-12T17:20:23.057Z"
      },
      {
        "duration": 1927,
        "start_time": "2024-03-12T17:20:23.083Z"
      },
      {
        "duration": 18,
        "start_time": "2024-03-12T17:20:25.012Z"
      },
      {
        "duration": 75,
        "start_time": "2024-03-12T17:20:25.032Z"
      },
      {
        "duration": 21,
        "start_time": "2024-03-12T17:20:25.108Z"
      },
      {
        "duration": 198,
        "start_time": "2024-03-12T17:20:25.130Z"
      },
      {
        "duration": 117,
        "start_time": "2024-03-12T17:50:47.413Z"
      },
      {
        "duration": 17,
        "start_time": "2024-03-12T17:50:51.530Z"
      },
      {
        "duration": 5,
        "start_time": "2024-03-12T17:51:38.426Z"
      },
      {
        "duration": 15,
        "start_time": "2024-03-12T17:51:45.331Z"
      },
      {
        "duration": 11,
        "start_time": "2024-03-12T17:51:51.439Z"
      },
      {
        "duration": 3694,
        "start_time": "2024-03-12T17:52:13.326Z"
      },
      {
        "duration": 5,
        "start_time": "2024-03-12T17:56:25.527Z"
      },
      {
        "duration": 17,
        "start_time": "2024-03-12T17:56:29.298Z"
      },
      {
        "duration": 87,
        "start_time": "2024-03-12T17:56:51.401Z"
      },
      {
        "duration": 3921,
        "start_time": "2024-03-12T17:56:57.529Z"
      },
      {
        "duration": 83,
        "start_time": "2024-03-12T18:02:51.495Z"
      },
      {
        "duration": 132,
        "start_time": "2024-03-12T18:02:56.766Z"
      },
      {
        "duration": 18,
        "start_time": "2024-03-12T18:07:38.209Z"
      },
      {
        "duration": 4,
        "start_time": "2024-03-12T18:07:46.083Z"
      },
      {
        "duration": 11,
        "start_time": "2024-03-12T18:07:47.102Z"
      },
      {
        "duration": 4,
        "start_time": "2024-03-12T18:08:26.751Z"
      },
      {
        "duration": 19367,
        "start_time": "2024-03-12T18:08:30.600Z"
      },
      {
        "duration": 44929,
        "start_time": "2024-03-12T18:09:02.062Z"
      },
      {
        "duration": 45220,
        "start_time": "2024-03-12T18:10:08.764Z"
      },
      {
        "duration": 10,
        "start_time": "2024-03-12T18:10:53.987Z"
      },
      {
        "duration": 4,
        "start_time": "2024-03-12T18:14:59.421Z"
      },
      {
        "duration": 140,
        "start_time": "2024-03-12T18:15:07.743Z"
      },
      {
        "duration": 2569,
        "start_time": "2024-03-12T18:18:01.510Z"
      },
      {
        "duration": 1564,
        "start_time": "2024-03-12T18:18:04.082Z"
      },
      {
        "duration": 3,
        "start_time": "2024-03-12T18:18:05.651Z"
      },
      {
        "duration": 8,
        "start_time": "2024-03-12T18:18:05.655Z"
      },
      {
        "duration": 11,
        "start_time": "2024-03-12T18:18:05.665Z"
      },
      {
        "duration": 12,
        "start_time": "2024-03-12T18:18:05.678Z"
      },
      {
        "duration": 12,
        "start_time": "2024-03-12T18:18:05.691Z"
      },
      {
        "duration": 7,
        "start_time": "2024-03-12T18:18:05.705Z"
      },
      {
        "duration": 943,
        "start_time": "2024-03-12T18:18:05.715Z"
      },
      {
        "duration": 18,
        "start_time": "2024-03-12T18:18:06.659Z"
      },
      {
        "duration": 169,
        "start_time": "2024-03-12T18:18:06.678Z"
      },
      {
        "duration": 31,
        "start_time": "2024-03-12T18:18:06.849Z"
      },
      {
        "duration": 2699,
        "start_time": "2024-03-12T18:18:06.881Z"
      },
      {
        "duration": 20,
        "start_time": "2024-03-12T18:18:09.582Z"
      },
      {
        "duration": 35,
        "start_time": "2024-03-12T18:18:09.604Z"
      },
      {
        "duration": 2340,
        "start_time": "2024-03-12T18:18:09.640Z"
      },
      {
        "duration": 16,
        "start_time": "2024-03-12T18:18:11.982Z"
      },
      {
        "duration": 27,
        "start_time": "2024-03-12T18:18:12.000Z"
      },
      {
        "duration": 2224,
        "start_time": "2024-03-12T18:18:12.029Z"
      },
      {
        "duration": 27,
        "start_time": "2024-03-12T18:18:14.255Z"
      },
      {
        "duration": 1901,
        "start_time": "2024-03-12T18:18:14.284Z"
      },
      {
        "duration": 15,
        "start_time": "2024-03-12T18:18:16.188Z"
      },
      {
        "duration": 69,
        "start_time": "2024-03-12T18:18:16.205Z"
      },
      {
        "duration": 14,
        "start_time": "2024-03-12T18:18:16.276Z"
      },
      {
        "duration": 207,
        "start_time": "2024-03-12T18:18:16.291Z"
      },
      {
        "duration": 11,
        "start_time": "2024-03-12T18:18:16.500Z"
      },
      {
        "duration": 3878,
        "start_time": "2024-03-12T18:18:16.514Z"
      },
      {
        "duration": 138,
        "start_time": "2024-03-12T18:18:20.394Z"
      },
      {
        "duration": 4,
        "start_time": "2024-03-12T18:18:20.534Z"
      },
      {
        "duration": 19756,
        "start_time": "2024-03-12T18:18:20.539Z"
      },
      {
        "duration": 46727,
        "start_time": "2024-03-12T18:18:40.297Z"
      },
      {
        "duration": 49260,
        "start_time": "2024-03-12T18:19:27.026Z"
      },
      {
        "duration": 93,
        "start_time": "2024-03-12T18:20:16.288Z"
      },
      {
        "duration": 10,
        "start_time": "2024-03-12T18:20:16.383Z"
      },
      {
        "duration": 155,
        "start_time": "2024-03-12T18:20:16.395Z"
      },
      {
        "duration": 2523,
        "start_time": "2024-03-12T18:20:16.553Z"
      },
      {
        "duration": 2553,
        "start_time": "2024-03-12T18:20:39.408Z"
      },
      {
        "duration": 1576,
        "start_time": "2024-03-12T18:20:41.964Z"
      },
      {
        "duration": 2,
        "start_time": "2024-03-12T18:20:43.542Z"
      },
      {
        "duration": 5,
        "start_time": "2024-03-12T18:20:43.546Z"
      },
      {
        "duration": 8,
        "start_time": "2024-03-12T18:20:43.553Z"
      },
      {
        "duration": 13,
        "start_time": "2024-03-12T18:20:43.562Z"
      },
      {
        "duration": 5,
        "start_time": "2024-03-12T18:20:43.576Z"
      },
      {
        "duration": 6,
        "start_time": "2024-03-12T18:20:43.583Z"
      },
      {
        "duration": 927,
        "start_time": "2024-03-12T18:20:43.590Z"
      },
      {
        "duration": 19,
        "start_time": "2024-03-12T18:20:44.519Z"
      },
      {
        "duration": 169,
        "start_time": "2024-03-12T18:20:44.539Z"
      },
      {
        "duration": 27,
        "start_time": "2024-03-12T18:20:44.710Z"
      },
      {
        "duration": 2627,
        "start_time": "2024-03-12T18:20:44.739Z"
      },
      {
        "duration": 17,
        "start_time": "2024-03-12T18:20:47.373Z"
      },
      {
        "duration": 33,
        "start_time": "2024-03-12T18:20:47.392Z"
      },
      {
        "duration": 2392,
        "start_time": "2024-03-12T18:20:47.427Z"
      },
      {
        "duration": 16,
        "start_time": "2024-03-12T18:20:49.821Z"
      },
      {
        "duration": 40,
        "start_time": "2024-03-12T18:20:49.838Z"
      },
      {
        "duration": 2179,
        "start_time": "2024-03-12T18:20:49.879Z"
      },
      {
        "duration": 26,
        "start_time": "2024-03-12T18:20:52.059Z"
      },
      {
        "duration": 1923,
        "start_time": "2024-03-12T18:20:52.087Z"
      },
      {
        "duration": 16,
        "start_time": "2024-03-12T18:20:54.011Z"
      },
      {
        "duration": 62,
        "start_time": "2024-03-12T18:20:54.029Z"
      },
      {
        "duration": 17,
        "start_time": "2024-03-12T18:20:54.093Z"
      },
      {
        "duration": 191,
        "start_time": "2024-03-12T18:20:54.112Z"
      },
      {
        "duration": 11,
        "start_time": "2024-03-12T18:20:54.305Z"
      },
      {
        "duration": 3952,
        "start_time": "2024-03-12T18:20:54.317Z"
      },
      {
        "duration": 138,
        "start_time": "2024-03-12T18:20:58.270Z"
      },
      {
        "duration": 4,
        "start_time": "2024-03-12T18:20:58.410Z"
      },
      {
        "duration": 20101,
        "start_time": "2024-03-12T18:20:58.415Z"
      },
      {
        "duration": 44458,
        "start_time": "2024-03-12T18:21:18.518Z"
      },
      {
        "duration": 53905,
        "start_time": "2024-03-12T18:22:02.977Z"
      },
      {
        "duration": 11,
        "start_time": "2024-03-12T18:22:56.884Z"
      },
      {
        "duration": 6,
        "start_time": "2024-03-12T18:22:56.896Z"
      },
      {
        "duration": 223,
        "start_time": "2024-03-12T18:22:56.903Z"
      },
      {
        "duration": 3328,
        "start_time": "2024-03-13T15:08:09.982Z"
      },
      {
        "duration": 1572,
        "start_time": "2024-03-13T15:08:13.312Z"
      },
      {
        "duration": 3,
        "start_time": "2024-03-13T15:08:14.886Z"
      },
      {
        "duration": 11,
        "start_time": "2024-03-13T15:08:14.891Z"
      },
      {
        "duration": 8,
        "start_time": "2024-03-13T15:08:14.904Z"
      },
      {
        "duration": 6,
        "start_time": "2024-03-13T15:08:14.913Z"
      },
      {
        "duration": 9,
        "start_time": "2024-03-13T15:08:14.921Z"
      },
      {
        "duration": 10,
        "start_time": "2024-03-13T15:08:14.932Z"
      },
      {
        "duration": 1057,
        "start_time": "2024-03-13T15:08:14.943Z"
      },
      {
        "duration": 18,
        "start_time": "2024-03-13T15:08:16.001Z"
      },
      {
        "duration": 144,
        "start_time": "2024-03-13T15:08:16.020Z"
      },
      {
        "duration": 24,
        "start_time": "2024-03-13T15:08:16.165Z"
      },
      {
        "duration": 2326,
        "start_time": "2024-03-13T15:08:16.191Z"
      },
      {
        "duration": 19,
        "start_time": "2024-03-13T15:08:18.520Z"
      },
      {
        "duration": 46,
        "start_time": "2024-03-13T15:08:18.541Z"
      },
      {
        "duration": 2113,
        "start_time": "2024-03-13T15:08:18.589Z"
      },
      {
        "duration": 14,
        "start_time": "2024-03-13T15:08:20.704Z"
      },
      {
        "duration": 24,
        "start_time": "2024-03-13T15:08:20.720Z"
      },
      {
        "duration": 2005,
        "start_time": "2024-03-13T15:08:20.764Z"
      },
      {
        "duration": 21,
        "start_time": "2024-03-13T15:08:22.771Z"
      },
      {
        "duration": 1721,
        "start_time": "2024-03-13T15:08:22.793Z"
      },
      {
        "duration": 14,
        "start_time": "2024-03-13T15:08:24.516Z"
      },
      {
        "duration": 52,
        "start_time": "2024-03-13T15:08:24.532Z"
      },
      {
        "duration": 15,
        "start_time": "2024-03-13T15:08:24.585Z"
      },
      {
        "duration": 182,
        "start_time": "2024-03-13T15:08:24.602Z"
      },
      {
        "duration": 10,
        "start_time": "2024-03-13T15:08:24.785Z"
      },
      {
        "duration": 3508,
        "start_time": "2024-03-13T15:08:24.796Z"
      },
      {
        "duration": 110,
        "start_time": "2024-03-13T15:08:28.305Z"
      },
      {
        "duration": 4,
        "start_time": "2024-03-13T15:08:28.416Z"
      },
      {
        "duration": 16756,
        "start_time": "2024-03-13T15:08:28.421Z"
      },
      {
        "duration": 38006,
        "start_time": "2024-03-13T15:08:45.179Z"
      },
      {
        "duration": 4400,
        "start_time": "2024-03-13T15:09:23.187Z"
      },
      {
        "duration": 177,
        "start_time": "2024-03-13T15:09:27.589Z"
      },
      {
        "duration": 0,
        "start_time": "2024-03-13T15:09:27.768Z"
      },
      {
        "duration": 0,
        "start_time": "2024-03-13T15:09:27.769Z"
      },
      {
        "duration": 4,
        "start_time": "2024-03-13T15:12:57.364Z"
      },
      {
        "duration": 114,
        "start_time": "2024-03-13T15:13:06.763Z"
      },
      {
        "duration": 4,
        "start_time": "2024-03-13T15:13:07.383Z"
      },
      {
        "duration": 599,
        "start_time": "2024-03-13T15:13:09.167Z"
      },
      {
        "duration": 568,
        "start_time": "2024-03-13T15:24:13.943Z"
      },
      {
        "duration": 588,
        "start_time": "2024-03-13T15:24:26.462Z"
      },
      {
        "duration": 591,
        "start_time": "2024-03-13T15:24:35.263Z"
      },
      {
        "duration": 3,
        "start_time": "2024-03-13T15:28:25.953Z"
      },
      {
        "duration": 13,
        "start_time": "2024-03-13T15:28:56.611Z"
      },
      {
        "duration": 3,
        "start_time": "2024-03-13T15:29:26.913Z"
      },
      {
        "duration": 3,
        "start_time": "2024-03-13T15:29:30.149Z"
      },
      {
        "duration": 3,
        "start_time": "2024-03-13T15:29:30.589Z"
      },
      {
        "duration": 597,
        "start_time": "2024-03-13T15:29:35.756Z"
      },
      {
        "duration": 573,
        "start_time": "2024-03-13T15:32:14.370Z"
      },
      {
        "duration": 15721,
        "start_time": "2024-03-13T15:32:45.018Z"
      },
      {
        "duration": 5266,
        "start_time": "2024-03-13T15:33:11.116Z"
      },
      {
        "duration": 88,
        "start_time": "2024-03-13T15:33:16.383Z"
      },
      {
        "duration": 4746,
        "start_time": "2024-03-13T15:33:29.237Z"
      },
      {
        "duration": 17634,
        "start_time": "2024-03-13T15:34:40.667Z"
      },
      {
        "duration": 54175,
        "start_time": "2024-03-13T15:35:19.710Z"
      },
      {
        "duration": 55148,
        "start_time": "2024-03-13T15:36:16.719Z"
      },
      {
        "duration": 9,
        "start_time": "2024-03-13T15:37:11.869Z"
      },
      {
        "duration": 9,
        "start_time": "2024-03-13T15:37:35.636Z"
      },
      {
        "duration": 3,
        "start_time": "2024-03-13T15:42:00.950Z"
      },
      {
        "duration": 123,
        "start_time": "2024-03-13T15:42:01.246Z"
      },
      {
        "duration": 2321,
        "start_time": "2024-03-13T15:45:37.437Z"
      },
      {
        "duration": 1409,
        "start_time": "2024-03-13T15:45:39.760Z"
      },
      {
        "duration": 3,
        "start_time": "2024-03-13T15:45:41.171Z"
      },
      {
        "duration": 9,
        "start_time": "2024-03-13T15:45:41.176Z"
      },
      {
        "duration": 15,
        "start_time": "2024-03-13T15:45:41.186Z"
      },
      {
        "duration": 19,
        "start_time": "2024-03-13T15:45:41.203Z"
      },
      {
        "duration": 10,
        "start_time": "2024-03-13T15:45:41.224Z"
      },
      {
        "duration": 16,
        "start_time": "2024-03-13T15:45:41.236Z"
      },
      {
        "duration": 5,
        "start_time": "2024-03-13T15:45:41.253Z"
      },
      {
        "duration": 860,
        "start_time": "2024-03-13T15:45:41.260Z"
      },
      {
        "duration": 17,
        "start_time": "2024-03-13T15:45:42.122Z"
      },
      {
        "duration": 154,
        "start_time": "2024-03-13T15:45:42.141Z"
      },
      {
        "duration": 26,
        "start_time": "2024-03-13T15:45:42.296Z"
      },
      {
        "duration": 2388,
        "start_time": "2024-03-13T15:45:42.324Z"
      },
      {
        "duration": 17,
        "start_time": "2024-03-13T15:45:44.714Z"
      },
      {
        "duration": 50,
        "start_time": "2024-03-13T15:45:44.733Z"
      },
      {
        "duration": 2071,
        "start_time": "2024-03-13T15:45:44.784Z"
      },
      {
        "duration": 17,
        "start_time": "2024-03-13T15:45:46.856Z"
      },
      {
        "duration": 25,
        "start_time": "2024-03-13T15:45:46.874Z"
      },
      {
        "duration": 2041,
        "start_time": "2024-03-13T15:45:46.901Z"
      },
      {
        "duration": 30,
        "start_time": "2024-03-13T15:45:48.944Z"
      },
      {
        "duration": 1765,
        "start_time": "2024-03-13T15:45:48.975Z"
      },
      {
        "duration": 23,
        "start_time": "2024-03-13T15:45:50.742Z"
      },
      {
        "duration": 51,
        "start_time": "2024-03-13T15:45:50.766Z"
      },
      {
        "duration": 13,
        "start_time": "2024-03-13T15:45:50.818Z"
      },
      {
        "duration": 178,
        "start_time": "2024-03-13T15:45:50.832Z"
      },
      {
        "duration": 11,
        "start_time": "2024-03-13T15:45:51.011Z"
      },
      {
        "duration": 3530,
        "start_time": "2024-03-13T15:45:51.026Z"
      },
      {
        "duration": 115,
        "start_time": "2024-03-13T15:45:54.557Z"
      },
      {
        "duration": 4,
        "start_time": "2024-03-13T15:45:54.674Z"
      },
      {
        "duration": 18124,
        "start_time": "2024-03-13T15:45:54.679Z"
      },
      {
        "duration": 53007,
        "start_time": "2024-03-13T15:46:12.804Z"
      },
      {
        "duration": 54662,
        "start_time": "2024-03-13T15:47:05.813Z"
      },
      {
        "duration": 10,
        "start_time": "2024-03-13T15:48:00.477Z"
      },
      {
        "duration": 86,
        "start_time": "2024-03-13T15:48:00.488Z"
      },
      {
        "duration": 204,
        "start_time": "2024-03-13T15:48:00.575Z"
      },
      {
        "duration": 2569,
        "start_time": "2024-03-20T15:28:47.903Z"
      },
      {
        "duration": 1600,
        "start_time": "2024-03-20T15:28:50.474Z"
      },
      {
        "duration": 4,
        "start_time": "2024-03-20T15:28:52.076Z"
      },
      {
        "duration": 7,
        "start_time": "2024-03-20T15:28:52.082Z"
      },
      {
        "duration": 8,
        "start_time": "2024-03-20T15:28:52.091Z"
      },
      {
        "duration": 24,
        "start_time": "2024-03-20T15:28:52.101Z"
      },
      {
        "duration": 35,
        "start_time": "2024-03-20T15:28:52.127Z"
      },
      {
        "duration": 17,
        "start_time": "2024-03-20T15:28:52.164Z"
      },
      {
        "duration": 8,
        "start_time": "2024-03-20T15:28:52.182Z"
      },
      {
        "duration": 3059,
        "start_time": "2024-03-20T15:28:52.192Z"
      },
      {
        "duration": 17,
        "start_time": "2024-03-20T15:28:55.253Z"
      },
      {
        "duration": 152,
        "start_time": "2024-03-20T15:28:55.271Z"
      },
      {
        "duration": 23,
        "start_time": "2024-03-20T15:28:55.425Z"
      },
      {
        "duration": 2610,
        "start_time": "2024-03-20T15:28:55.451Z"
      },
      {
        "duration": 31,
        "start_time": "2024-03-20T15:28:58.063Z"
      },
      {
        "duration": 46,
        "start_time": "2024-03-20T15:28:58.095Z"
      },
      {
        "duration": 2331,
        "start_time": "2024-03-20T15:28:58.142Z"
      },
      {
        "duration": 16,
        "start_time": "2024-03-20T15:29:00.474Z"
      },
      {
        "duration": 55,
        "start_time": "2024-03-20T15:29:00.492Z"
      },
      {
        "duration": 2263,
        "start_time": "2024-03-20T15:29:00.549Z"
      },
      {
        "duration": 22,
        "start_time": "2024-03-20T15:29:02.814Z"
      },
      {
        "duration": 1957,
        "start_time": "2024-03-20T15:29:02.837Z"
      },
      {
        "duration": 17,
        "start_time": "2024-03-20T15:29:04.796Z"
      },
      {
        "duration": 68,
        "start_time": "2024-03-20T15:29:04.814Z"
      },
      {
        "duration": 22,
        "start_time": "2024-03-20T15:29:04.884Z"
      },
      {
        "duration": 206,
        "start_time": "2024-03-20T15:29:04.908Z"
      },
      {
        "duration": 13,
        "start_time": "2024-03-20T15:29:05.116Z"
      },
      {
        "duration": 4082,
        "start_time": "2024-03-20T15:29:05.131Z"
      },
      {
        "duration": 133,
        "start_time": "2024-03-20T15:29:09.215Z"
      },
      {
        "duration": 4,
        "start_time": "2024-03-20T15:29:09.349Z"
      },
      {
        "duration": 19832,
        "start_time": "2024-03-20T15:29:09.354Z"
      },
      {
        "duration": 63958,
        "start_time": "2024-03-20T15:29:29.188Z"
      },
      {
        "duration": 65638,
        "start_time": "2024-03-20T15:30:33.148Z"
      },
      {
        "duration": 11,
        "start_time": "2024-03-20T15:31:38.788Z"
      },
      {
        "duration": 16,
        "start_time": "2024-03-20T15:31:38.800Z"
      },
      {
        "duration": 188,
        "start_time": "2024-03-20T15:31:38.818Z"
      },
      {
        "duration": 50,
        "start_time": "2024-05-11T13:27:24.403Z"
      }
    ],
    "kernelspec": {
      "display_name": "Python 3 (ipykernel)",
      "language": "python",
      "name": "python3"
    },
    "language_info": {
      "codemirror_mode": {
        "name": "ipython",
        "version": 3
      },
      "file_extension": ".py",
      "mimetype": "text/x-python",
      "name": "python",
      "nbconvert_exporter": "python",
      "pygments_lexer": "ipython3",
      "version": "3.9.5"
    },
    "toc": {
      "base_numbering": 1,
      "nav_menu": {},
      "number_sections": true,
      "sideBar": true,
      "skip_h1_title": true,
      "title_cell": "Table of Contents",
      "title_sidebar": "Contents",
      "toc_cell": false,
      "toc_position": {
        "height": "calc(100% - 180px)",
        "left": "10px",
        "top": "150px",
        "width": "268.188px"
      },
      "toc_section_display": true,
      "toc_window_display": true
    },
    "colab": {
      "provenance": []
    }
  },
  "nbformat": 4,
  "nbformat_minor": 0
}