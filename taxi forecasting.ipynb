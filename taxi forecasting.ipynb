{
  "cells": [
    {
      "cell_type": "markdown",
      "metadata": {
        "toc": true,
        "id": "uUr6yebBTiMB"
      },
      "source": [
        "<h1>Содержание<span class=\"tocSkip\"></span></h1>\n",
        "<div class=\"toc\"><ul class=\"toc-item\"><li><span><a href=\"#Подготовка\" data-toc-modified-id=\"Подготовка-1\"><span class=\"toc-item-num\">1&nbsp;&nbsp;</span>Подготовка</a></span></li><li><span><a href=\"#Анализ\" data-toc-modified-id=\"Анализ-2\"><span class=\"toc-item-num\">2&nbsp;&nbsp;</span>Анализ</a></span></li><li><span><a href=\"#Обучение\" data-toc-modified-id=\"Обучение-3\"><span class=\"toc-item-num\">3&nbsp;&nbsp;</span>Обучение</a></span></li><li><span><a href=\"#Тестирование\" data-toc-modified-id=\"Тестирование-4\"><span class=\"toc-item-num\">4&nbsp;&nbsp;</span>Тестирование</a></span></li></ul></div>"
      ]
    },
    {
      "cell_type": "markdown",
      "metadata": {
        "id": "Hxf48AhSTiMB"
      },
      "source": [
        "#  Прогнозирование заказов такси"
      ]
    },
    {
      "cell_type": "markdown",
      "metadata": {
        "id": "2i9BpepMTiMC"
      },
      "source": [
        "Компания «Чётенькое такси» собрала исторические данные о заказах такси в аэропортах. Чтобы привлекать больше водителей в период пиковой нагрузки, нужно спрогнозировать количество заказов такси на следующий час. Постройте модель для такого предсказания.\n",
        "\n",
        "Значение метрики *RMSE* на тестовой выборке должно быть не больше 48.\n",
        "\n",
        "Вам нужно:\n",
        "\n",
        "1. Загрузить данные и выполнить их ресемплирование по одному часу.\n",
        "2. Проанализировать данные.\n",
        "3. Обучить разные модели с различными гиперпараметрами. Сделать тестовую выборку размером 10% от исходных данных.\n",
        "4. Проверить данные на тестовой выборке и сделать выводы.\n",
        "\n",
        "\n",
        "Данные лежат в файле `taxi.csv`. Количество заказов находится в столбце `num_orders` (от англ. *number of orders*, «число заказов»)."
      ]
    },
    {
      "cell_type": "markdown",
      "metadata": {
        "id": "PGVBj9-3TiMC"
      },
      "source": [
        "## Подготовка"
      ]
    },
    {
      "cell_type": "code",
      "execution_count": 3,
      "metadata": {
        "colab": {
          "base_uri": "https://localhost:8080/"
        },
        "id": "12tdNglTTiMC",
        "outputId": "ccc72ea3-9047-4161-e172-a18af2ed5d14"
      },
      "outputs": [
        {
          "output_type": "stream",
          "name": "stdout",
          "text": [
            "\u001b[2K     \u001b[90m━━━━━━━━━━━━━━━━━━━━━━━━━━━━━━━━━━━━━━━━\u001b[0m \u001b[32m98.2/98.2 MB\u001b[0m \u001b[31m8.5 MB/s\u001b[0m eta \u001b[36m0:00:00\u001b[0m\n",
            "\u001b[?25h"
          ]
        }
      ],
      "source": [
        "!pip install phik -q\n",
        "!pip install catboost -q"
      ]
    },
    {
      "cell_type": "code",
      "execution_count": 4,
      "metadata": {
        "id": "Z5ldrioaTiMD"
      },
      "outputs": [],
      "source": [
        "import numpy as np\n",
        "import pandas as pd\n",
        "import matplotlib.pyplot as plt\n",
        "import seaborn as sns\n",
        "from scipy import stats as st\n",
        "from scipy.stats import shapiro\n",
        "import statistics\n",
        "from sklearn.model_selection import train_test_split\n",
        "import phik\n",
        "\n",
        "from sklearn.metrics import mean_squared_error\n",
        "\n",
        "from sklearn.compose import ColumnTransformer\n",
        "\n",
        "from sklearn.impute import SimpleImputer\n",
        "from sklearn.preprocessing import StandardScaler, OrdinalEncoder\n",
        "from sklearn.pipeline import Pipeline\n",
        "from sklearn.model_selection import RandomizedSearchCV\n",
        "from time import time\n",
        "import phik\n",
        "from sklearn.tree import DecisionTreeRegressor\n",
        "from sklearn.model_selection import TimeSeriesSplit\n",
        "\n",
        "from lightgbm import LGBMRegressor\n",
        "from catboost import CatBoostRegressor\n",
        "\n",
        "\n",
        "import warnings\n",
        "warnings.filterwarnings(action='ignore')\n",
        "\n",
        "\n",
        "\n",
        "RANDOM_STATE = 42\n",
        "TEST_SIZE = 0.1\n",
        "\n",
        "from statsmodels.tsa.seasonal import seasonal_decompose\n",
        "plt.rcParams[\"figure.figsize\"] = (10,10)"
      ]
    },
    {
      "cell_type": "code",
      "execution_count": 5,
      "metadata": {
        "id": "CERF7XywTiME"
      },
      "outputs": [],
      "source": [
        "def create_boxplot_and_histogram(data, column):\n",
        "    fig, axes = plt.subplots(1, 2, figsize=(15, 6))\n",
        "\n",
        "    # График ящика с усами\n",
        "    sns.boxplot(x=data[column], ax=axes[0])\n",
        "    axes[0].set_title(f'Ящик с усами для {column}')\n",
        "    axes[0].set_xlabel(column)\n",
        "\n",
        "    # Гистограмма\n",
        "    num_bins = int(np.ceil(np.sqrt(len(data[column]))))\n",
        "    sns.histplot(data=data, x=column, kde=True, bins=num_bins, ax=axes[1])\n",
        "    axes[1].set_title(f'{column} - Частота распределения', fontsize=18)\n",
        "    axes[1].set_xlabel(column, fontsize=14)\n",
        "    axes[1].set_ylabel('Частота', fontsize=14)\n",
        "\n",
        "    plt.show()"
      ]
    },
    {
      "cell_type": "code",
      "execution_count": 6,
      "metadata": {
        "id": "ttbCWRUfTiME"
      },
      "outputs": [],
      "source": [
        "def make_features(data, max_lag, rolling_mean_size):\n",
        "    data['day'] = data.index.day\n",
        "    data['dayofweek'] = data.index.dayofweek\n",
        "\n",
        "    for lag in range(1, max_lag + 1):\n",
        "        data['lag_{}'.format(lag)] = data['num_orders'].shift(lag)\n",
        "\n",
        "    data['rolling_mean'] = data['num_orders'].shift().rolling(rolling_mean_size).mean()\n",
        "\n",
        "    df = data.copy()\n",
        "    return df"
      ]
    },
    {
      "cell_type": "code",
      "execution_count": 7,
      "metadata": {
        "id": "SQpxhVb2TiMF"
      },
      "outputs": [],
      "source": [
        "def evaluate_pipeline(pipeline, param_grid, X_train, y_train):\n",
        "\n",
        "    tscv = TimeSeriesSplit(n_splits=3)\n",
        "    grid_search = RandomizedSearchCV(\n",
        "                    pipeline,\n",
        "                    param_grid,\n",
        "                    n_jobs=-1,\n",
        "                    cv=tscv,\n",
        "                    scoring='neg_root_mean_squared_error',\n",
        "                    random_state=RANDOM_STATE)\n",
        "\n",
        "\n",
        "    grid_search.fit(X_train, y_train)\n",
        "\n",
        "    best_params = grid_search.best_params_\n",
        "    best_model = grid_search.best_estimator_\n",
        "    rmse = abs(grid_search.best_score_)\n",
        "\n",
        "    return best_params, rmse, best_model"
      ]
    },
    {
      "cell_type": "code",
      "execution_count": 8,
      "metadata": {
        "id": "N_cizR83TiMG"
      },
      "outputs": [],
      "source": [
        "def evaluate_time(pipeline, X_train, y_train):\n",
        "    start_time = time()\n",
        "\n",
        "    pipeline.fit(X_train, y_train)\n",
        "\n",
        "    end_time = time()\n",
        "    execution_time = end_time - start_time\n",
        "    return execution_time"
      ]
    },
    {
      "cell_type": "code",
      "execution_count": 9,
      "metadata": {
        "id": "iaL3wb9HTiMG"
      },
      "outputs": [],
      "source": [
        "try:\n",
        "    df = pd.read_csv('https://code.s3.yandex.net/datasets/taxi.csv', index_col=[0], parse_dates=[0])\n",
        "except FileNotFoundError:\n",
        "    print('Ошибка')"
      ]
    },
    {
      "cell_type": "code",
      "execution_count": 10,
      "metadata": {
        "colab": {
          "base_uri": "https://localhost:8080/",
          "height": 238
        },
        "id": "4UQ7-lYITiMG",
        "outputId": "7b807243-057a-479e-c0a0-df7e1b0128f4"
      },
      "outputs": [
        {
          "output_type": "execute_result",
          "data": {
            "text/plain": [
              "                     num_orders\n",
              "datetime                       \n",
              "2018-03-01 00:00:00           9\n",
              "2018-03-01 00:10:00          14\n",
              "2018-03-01 00:20:00          28\n",
              "2018-03-01 00:30:00          20\n",
              "2018-03-01 00:40:00          32"
            ],
            "text/html": [
              "\n",
              "  <div id=\"df-e050451d-1aa7-40d3-989a-76892e25c492\" class=\"colab-df-container\">\n",
              "    <div>\n",
              "<style scoped>\n",
              "    .dataframe tbody tr th:only-of-type {\n",
              "        vertical-align: middle;\n",
              "    }\n",
              "\n",
              "    .dataframe tbody tr th {\n",
              "        vertical-align: top;\n",
              "    }\n",
              "\n",
              "    .dataframe thead th {\n",
              "        text-align: right;\n",
              "    }\n",
              "</style>\n",
              "<table border=\"1\" class=\"dataframe\">\n",
              "  <thead>\n",
              "    <tr style=\"text-align: right;\">\n",
              "      <th></th>\n",
              "      <th>num_orders</th>\n",
              "    </tr>\n",
              "    <tr>\n",
              "      <th>datetime</th>\n",
              "      <th></th>\n",
              "    </tr>\n",
              "  </thead>\n",
              "  <tbody>\n",
              "    <tr>\n",
              "      <th>2018-03-01 00:00:00</th>\n",
              "      <td>9</td>\n",
              "    </tr>\n",
              "    <tr>\n",
              "      <th>2018-03-01 00:10:00</th>\n",
              "      <td>14</td>\n",
              "    </tr>\n",
              "    <tr>\n",
              "      <th>2018-03-01 00:20:00</th>\n",
              "      <td>28</td>\n",
              "    </tr>\n",
              "    <tr>\n",
              "      <th>2018-03-01 00:30:00</th>\n",
              "      <td>20</td>\n",
              "    </tr>\n",
              "    <tr>\n",
              "      <th>2018-03-01 00:40:00</th>\n",
              "      <td>32</td>\n",
              "    </tr>\n",
              "  </tbody>\n",
              "</table>\n",
              "</div>\n",
              "    <div class=\"colab-df-buttons\">\n",
              "\n",
              "  <div class=\"colab-df-container\">\n",
              "    <button class=\"colab-df-convert\" onclick=\"convertToInteractive('df-e050451d-1aa7-40d3-989a-76892e25c492')\"\n",
              "            title=\"Convert this dataframe to an interactive table.\"\n",
              "            style=\"display:none;\">\n",
              "\n",
              "  <svg xmlns=\"http://www.w3.org/2000/svg\" height=\"24px\" viewBox=\"0 -960 960 960\">\n",
              "    <path d=\"M120-120v-720h720v720H120Zm60-500h600v-160H180v160Zm220 220h160v-160H400v160Zm0 220h160v-160H400v160ZM180-400h160v-160H180v160Zm440 0h160v-160H620v160ZM180-180h160v-160H180v160Zm440 0h160v-160H620v160Z\"/>\n",
              "  </svg>\n",
              "    </button>\n",
              "\n",
              "  <style>\n",
              "    .colab-df-container {\n",
              "      display:flex;\n",
              "      gap: 12px;\n",
              "    }\n",
              "\n",
              "    .colab-df-convert {\n",
              "      background-color: #E8F0FE;\n",
              "      border: none;\n",
              "      border-radius: 50%;\n",
              "      cursor: pointer;\n",
              "      display: none;\n",
              "      fill: #1967D2;\n",
              "      height: 32px;\n",
              "      padding: 0 0 0 0;\n",
              "      width: 32px;\n",
              "    }\n",
              "\n",
              "    .colab-df-convert:hover {\n",
              "      background-color: #E2EBFA;\n",
              "      box-shadow: 0px 1px 2px rgba(60, 64, 67, 0.3), 0px 1px 3px 1px rgba(60, 64, 67, 0.15);\n",
              "      fill: #174EA6;\n",
              "    }\n",
              "\n",
              "    .colab-df-buttons div {\n",
              "      margin-bottom: 4px;\n",
              "    }\n",
              "\n",
              "    [theme=dark] .colab-df-convert {\n",
              "      background-color: #3B4455;\n",
              "      fill: #D2E3FC;\n",
              "    }\n",
              "\n",
              "    [theme=dark] .colab-df-convert:hover {\n",
              "      background-color: #434B5C;\n",
              "      box-shadow: 0px 1px 3px 1px rgba(0, 0, 0, 0.15);\n",
              "      filter: drop-shadow(0px 1px 2px rgba(0, 0, 0, 0.3));\n",
              "      fill: #FFFFFF;\n",
              "    }\n",
              "  </style>\n",
              "\n",
              "    <script>\n",
              "      const buttonEl =\n",
              "        document.querySelector('#df-e050451d-1aa7-40d3-989a-76892e25c492 button.colab-df-convert');\n",
              "      buttonEl.style.display =\n",
              "        google.colab.kernel.accessAllowed ? 'block' : 'none';\n",
              "\n",
              "      async function convertToInteractive(key) {\n",
              "        const element = document.querySelector('#df-e050451d-1aa7-40d3-989a-76892e25c492');\n",
              "        const dataTable =\n",
              "          await google.colab.kernel.invokeFunction('convertToInteractive',\n",
              "                                                    [key], {});\n",
              "        if (!dataTable) return;\n",
              "\n",
              "        const docLinkHtml = 'Like what you see? Visit the ' +\n",
              "          '<a target=\"_blank\" href=https://colab.research.google.com/notebooks/data_table.ipynb>data table notebook</a>'\n",
              "          + ' to learn more about interactive tables.';\n",
              "        element.innerHTML = '';\n",
              "        dataTable['output_type'] = 'display_data';\n",
              "        await google.colab.output.renderOutput(dataTable, element);\n",
              "        const docLink = document.createElement('div');\n",
              "        docLink.innerHTML = docLinkHtml;\n",
              "        element.appendChild(docLink);\n",
              "      }\n",
              "    </script>\n",
              "  </div>\n",
              "\n",
              "\n",
              "<div id=\"df-da851571-efa1-48f1-a9f8-c7e9e6ad0fcf\">\n",
              "  <button class=\"colab-df-quickchart\" onclick=\"quickchart('df-da851571-efa1-48f1-a9f8-c7e9e6ad0fcf')\"\n",
              "            title=\"Suggest charts\"\n",
              "            style=\"display:none;\">\n",
              "\n",
              "<svg xmlns=\"http://www.w3.org/2000/svg\" height=\"24px\"viewBox=\"0 0 24 24\"\n",
              "     width=\"24px\">\n",
              "    <g>\n",
              "        <path d=\"M19 3H5c-1.1 0-2 .9-2 2v14c0 1.1.9 2 2 2h14c1.1 0 2-.9 2-2V5c0-1.1-.9-2-2-2zM9 17H7v-7h2v7zm4 0h-2V7h2v10zm4 0h-2v-4h2v4z\"/>\n",
              "    </g>\n",
              "</svg>\n",
              "  </button>\n",
              "\n",
              "<style>\n",
              "  .colab-df-quickchart {\n",
              "      --bg-color: #E8F0FE;\n",
              "      --fill-color: #1967D2;\n",
              "      --hover-bg-color: #E2EBFA;\n",
              "      --hover-fill-color: #174EA6;\n",
              "      --disabled-fill-color: #AAA;\n",
              "      --disabled-bg-color: #DDD;\n",
              "  }\n",
              "\n",
              "  [theme=dark] .colab-df-quickchart {\n",
              "      --bg-color: #3B4455;\n",
              "      --fill-color: #D2E3FC;\n",
              "      --hover-bg-color: #434B5C;\n",
              "      --hover-fill-color: #FFFFFF;\n",
              "      --disabled-bg-color: #3B4455;\n",
              "      --disabled-fill-color: #666;\n",
              "  }\n",
              "\n",
              "  .colab-df-quickchart {\n",
              "    background-color: var(--bg-color);\n",
              "    border: none;\n",
              "    border-radius: 50%;\n",
              "    cursor: pointer;\n",
              "    display: none;\n",
              "    fill: var(--fill-color);\n",
              "    height: 32px;\n",
              "    padding: 0;\n",
              "    width: 32px;\n",
              "  }\n",
              "\n",
              "  .colab-df-quickchart:hover {\n",
              "    background-color: var(--hover-bg-color);\n",
              "    box-shadow: 0 1px 2px rgba(60, 64, 67, 0.3), 0 1px 3px 1px rgba(60, 64, 67, 0.15);\n",
              "    fill: var(--button-hover-fill-color);\n",
              "  }\n",
              "\n",
              "  .colab-df-quickchart-complete:disabled,\n",
              "  .colab-df-quickchart-complete:disabled:hover {\n",
              "    background-color: var(--disabled-bg-color);\n",
              "    fill: var(--disabled-fill-color);\n",
              "    box-shadow: none;\n",
              "  }\n",
              "\n",
              "  .colab-df-spinner {\n",
              "    border: 2px solid var(--fill-color);\n",
              "    border-color: transparent;\n",
              "    border-bottom-color: var(--fill-color);\n",
              "    animation:\n",
              "      spin 1s steps(1) infinite;\n",
              "  }\n",
              "\n",
              "  @keyframes spin {\n",
              "    0% {\n",
              "      border-color: transparent;\n",
              "      border-bottom-color: var(--fill-color);\n",
              "      border-left-color: var(--fill-color);\n",
              "    }\n",
              "    20% {\n",
              "      border-color: transparent;\n",
              "      border-left-color: var(--fill-color);\n",
              "      border-top-color: var(--fill-color);\n",
              "    }\n",
              "    30% {\n",
              "      border-color: transparent;\n",
              "      border-left-color: var(--fill-color);\n",
              "      border-top-color: var(--fill-color);\n",
              "      border-right-color: var(--fill-color);\n",
              "    }\n",
              "    40% {\n",
              "      border-color: transparent;\n",
              "      border-right-color: var(--fill-color);\n",
              "      border-top-color: var(--fill-color);\n",
              "    }\n",
              "    60% {\n",
              "      border-color: transparent;\n",
              "      border-right-color: var(--fill-color);\n",
              "    }\n",
              "    80% {\n",
              "      border-color: transparent;\n",
              "      border-right-color: var(--fill-color);\n",
              "      border-bottom-color: var(--fill-color);\n",
              "    }\n",
              "    90% {\n",
              "      border-color: transparent;\n",
              "      border-bottom-color: var(--fill-color);\n",
              "    }\n",
              "  }\n",
              "</style>\n",
              "\n",
              "  <script>\n",
              "    async function quickchart(key) {\n",
              "      const quickchartButtonEl =\n",
              "        document.querySelector('#' + key + ' button');\n",
              "      quickchartButtonEl.disabled = true;  // To prevent multiple clicks.\n",
              "      quickchartButtonEl.classList.add('colab-df-spinner');\n",
              "      try {\n",
              "        const charts = await google.colab.kernel.invokeFunction(\n",
              "            'suggestCharts', [key], {});\n",
              "      } catch (error) {\n",
              "        console.error('Error during call to suggestCharts:', error);\n",
              "      }\n",
              "      quickchartButtonEl.classList.remove('colab-df-spinner');\n",
              "      quickchartButtonEl.classList.add('colab-df-quickchart-complete');\n",
              "    }\n",
              "    (() => {\n",
              "      let quickchartButtonEl =\n",
              "        document.querySelector('#df-da851571-efa1-48f1-a9f8-c7e9e6ad0fcf button');\n",
              "      quickchartButtonEl.style.display =\n",
              "        google.colab.kernel.accessAllowed ? 'block' : 'none';\n",
              "    })();\n",
              "  </script>\n",
              "</div>\n",
              "    </div>\n",
              "  </div>\n"
            ],
            "application/vnd.google.colaboratory.intrinsic+json": {
              "type": "dataframe",
              "variable_name": "df",
              "summary": "{\n  \"name\": \"df\",\n  \"rows\": 26496,\n  \"fields\": [\n    {\n      \"column\": \"datetime\",\n      \"properties\": {\n        \"dtype\": \"date\",\n        \"min\": \"2018-03-01 00:00:00\",\n        \"max\": \"2018-08-31 23:50:00\",\n        \"num_unique_values\": 26496,\n        \"samples\": [\n          \"2018-06-16 18:00:00\",\n          \"2018-06-13 14:50:00\",\n          \"2018-05-08 15:40:00\"\n        ],\n        \"semantic_type\": \"\",\n        \"description\": \"\"\n      }\n    },\n    {\n      \"column\": \"num_orders\",\n      \"properties\": {\n        \"dtype\": \"number\",\n        \"std\": 9,\n        \"min\": 0,\n        \"max\": 119,\n        \"num_unique_values\": 81,\n        \"samples\": [\n          30,\n          9,\n          11\n        ],\n        \"semantic_type\": \"\",\n        \"description\": \"\"\n      }\n    }\n  ]\n}"
            }
          },
          "metadata": {},
          "execution_count": 10
        }
      ],
      "source": [
        "df.head()"
      ]
    },
    {
      "cell_type": "code",
      "execution_count": 11,
      "metadata": {
        "colab": {
          "base_uri": "https://localhost:8080/"
        },
        "id": "7Tp-l5OaTiMH",
        "outputId": "358a4bb2-aaa6-484c-ffab-4516f656ec72"
      },
      "outputs": [
        {
          "output_type": "stream",
          "name": "stdout",
          "text": [
            "<class 'pandas.core.frame.DataFrame'>\n",
            "DatetimeIndex: 26496 entries, 2018-03-01 00:00:00 to 2018-08-31 23:50:00\n",
            "Data columns (total 1 columns):\n",
            " #   Column      Non-Null Count  Dtype\n",
            "---  ------      --------------  -----\n",
            " 0   num_orders  26496 non-null  int64\n",
            "dtypes: int64(1)\n",
            "memory usage: 414.0 KB\n"
          ]
        }
      ],
      "source": [
        "df.info()"
      ]
    },
    {
      "cell_type": "markdown",
      "metadata": {
        "id": "3uldZ61ITiMH"
      },
      "source": [
        "Датасет имеет 4416 записей, пропусков нет.\n",
        "\n",
        "Установим индекс таблицы равным столбцу datetime"
      ]
    },
    {
      "cell_type": "code",
      "execution_count": 13,
      "metadata": {
        "id": "VaP9TiIfTiMH"
      },
      "outputs": [],
      "source": [
        "#df.index.is_monotonic\n"
      ]
    },
    {
      "cell_type": "code",
      "execution_count": 14,
      "metadata": {
        "id": "h11UQUhQTiMI"
      },
      "outputs": [],
      "source": [
        "df = df.resample('1H').sum()"
      ]
    },
    {
      "cell_type": "code",
      "execution_count": 15,
      "metadata": {
        "colab": {
          "base_uri": "https://localhost:8080/",
          "height": 888
        },
        "id": "WmZ1POMHTiMI",
        "outputId": "b80e25be-eade-468e-928b-8d3f06960a53"
      },
      "outputs": [
        {
          "output_type": "display_data",
          "data": {
            "text/plain": [
              "<Figure size 1000x1000 with 1 Axes>"
            ],
            "image/png": "[encoded data removed]"
          },
          "metadata": {}
        }
      ],
      "source": [
        "df.plot()\n",
        "plt.title('График временного ряда')\n",
        "plt.xlabel('Дата')\n",
        "plt.ylabel('Кол-во вызовов');\n",
        "#plt.rcParams[\"figure.figsize\"] = (10,10)"
      ]
    },
    {
      "cell_type": "markdown",
      "metadata": {
        "id": "7DcmXcprTiMJ"
      },
      "source": [
        "## Анализ\n"
      ]
    },
    {
      "cell_type": "markdown",
      "metadata": {
        "id": "YzKRtjjYTiMJ"
      },
      "source": [
        "Построим график трендовой составляющей с марта по август"
      ]
    },
    {
      "cell_type": "code",
      "execution_count": 16,
      "metadata": {
        "scrolled": false,
        "colab": {
          "base_uri": "https://localhost:8080/",
          "height": 888
        },
        "id": "jpGBw6tQTiMJ",
        "outputId": "91df2df4-3108-4962-98eb-6ebd64955d28"
      },
      "outputs": [
        {
          "output_type": "display_data",
          "data": {
            "text/plain": [
              "<Figure size 1000x1000 with 1 Axes>"
            ],
            "image/png": "[encoded data removed]"
          },
          "metadata": {}
        }
      ],
      "source": [
        "decomposed = seasonal_decompose(df)\n",
        "\n",
        "decomposed.trend['2018-03-01':'2018-08-31'].plot()\n",
        "plt.title('График тренда')\n",
        "plt.xlabel('Дата')\n",
        "plt.ylabel('Кол-во вызовов');"
      ]
    },
    {
      "cell_type": "markdown",
      "metadata": {
        "id": "WevkI7PqTiMJ"
      },
      "source": [
        "Возьмем промежуток 3 дня и посмотрим сезонною составляющую графика"
      ]
    },
    {
      "cell_type": "code",
      "execution_count": 17,
      "metadata": {
        "colab": {
          "base_uri": "https://localhost:8080/",
          "height": 905
        },
        "id": "a0eY9BsOTiMJ",
        "outputId": "1f152a15-320e-46d6-bf47-46be895bed69"
      },
      "outputs": [
        {
          "output_type": "display_data",
          "data": {
            "text/plain": [
              "<Figure size 1000x1000 with 1 Axes>"
            ],
            "image/png": "[encoded data removed]"
          },
          "metadata": {}
        }
      ],
      "source": [
        "decomposed.seasonal['2018-08-29':'2018-08-31'].plot()\n",
        "plt.title('График сезонности')\n",
        "plt.xlabel('Дата')\n",
        "plt.ylabel('Кол-во вызовов');"
      ]
    },
    {
      "cell_type": "markdown",
      "metadata": {
        "id": "v0RutXuSTiMJ"
      },
      "source": [
        "С 6 утра количество заказов увеличивается и достигает пикого значения примерно в полночь"
      ]
    },
    {
      "cell_type": "code",
      "execution_count": 18,
      "metadata": {
        "colab": {
          "base_uri": "https://localhost:8080/",
          "height": 575
        },
        "id": "pzH8Ty1vTiMK",
        "outputId": "d450a8d0-2d94-436e-ec8a-118223c92c0f"
      },
      "outputs": [
        {
          "output_type": "display_data",
          "data": {
            "text/plain": [
              "<Figure size 1500x600 with 2 Axes>"
            ],
            "image/png": "[encoded data removed]"
          },
          "metadata": {}
        }
      ],
      "source": [
        "create_boxplot_and_histogram(df, 'num_orders')"
      ]
    },
    {
      "cell_type": "code",
      "execution_count": 19,
      "metadata": {
        "colab": {
          "base_uri": "https://localhost:8080/"
        },
        "id": "5o4l36k_TiMK",
        "outputId": "a9735294-f682-4099-cc1a-3e99b1124978"
      },
      "outputs": [
        {
          "output_type": "execute_result",
          "data": {
            "text/plain": [
              "count    4416.000000\n",
              "mean       84.422781\n",
              "std        45.023853\n",
              "min         0.000000\n",
              "25%        54.000000\n",
              "50%        78.000000\n",
              "75%       107.000000\n",
              "max       462.000000\n",
              "Name: num_orders, dtype: float64"
            ]
          },
          "metadata": {},
          "execution_count": 19
        }
      ],
      "source": [
        "df['num_orders'].describe()"
      ]
    },
    {
      "cell_type": "markdown",
      "metadata": {
        "id": "f6shlARGTiMK"
      },
      "source": [
        "Не смотря на то, что присутствуют аномалии, мы не будем их удалять, так как скорей всего это пиковые значения в самые загруженные дни, и они будут полезны для обучения"
      ]
    },
    {
      "cell_type": "code",
      "execution_count": 20,
      "metadata": {
        "id": "cqNZ3yBQTiMK"
      },
      "outputs": [],
      "source": [
        "#df = df.query('num_orders < 200')"
      ]
    },
    {
      "cell_type": "code",
      "execution_count": 21,
      "metadata": {
        "colab": {
          "base_uri": "https://localhost:8080/",
          "height": 888
        },
        "id": "urjvWm5_TiML",
        "outputId": "0e95cfbb-d863-4c61-f4fe-d815fa1de72b"
      },
      "outputs": [
        {
          "output_type": "display_data",
          "data": {
            "text/plain": [
              "<Figure size 1000x1000 with 1 Axes>"
            ],
            "image/png": "[encoded data removed]"
          },
          "metadata": {}
        }
      ],
      "source": [
        "df_roll = df.copy()\n",
        "\n",
        "df_roll['rolling_mean'] = df_roll['2018-03-01':'2018-08-31'].shift().rolling(50).mean()\n",
        "df_roll.plot()\n",
        "plt.title('График скользящего среднего')\n",
        "plt.xlabel('Дата')\n",
        "plt.ylabel('Кол-во вызовов');\n"
      ]
    },
    {
      "cell_type": "markdown",
      "metadata": {
        "id": "Gb9g5l3oTiML"
      },
      "source": [
        "По графику скользящего среднего видно, что количество вызовов увеличивает с приближением осени, что скорей всего связано с временем отпусков, когда люди чаще возвращаются с отдыха.\n",
        "Т.к среднее значение увеличивается со временем - следовательно ряд является нестационарным и его прогнозировать сложнее.\n",
        "Сделаем ряд стационарным, найдём разности его значений."
      ]
    },
    {
      "cell_type": "code",
      "execution_count": 22,
      "metadata": {
        "colab": {
          "base_uri": "https://localhost:8080/",
          "height": 866
        },
        "id": "ZQNAj-iDTiML",
        "outputId": "61c24d66-e2fe-479b-860c-b824feb678c4"
      },
      "outputs": [
        {
          "output_type": "display_data",
          "data": {
            "text/plain": [
              "<Figure size 1000x1000 with 1 Axes>"
            ],
            "image/png": "[encoded data removed]"
          },
          "metadata": {}
        }
      ],
      "source": [
        "df_roll = df_roll - df_roll.shift()\n",
        "df_roll['mean'] = df_roll['num_orders'].shift().rolling(50).mean()\n",
        "df_roll['std'] = df_roll['num_orders'].shift().rolling(50).std()\n",
        "\n",
        "df_roll.plot();"
      ]
    },
    {
      "cell_type": "code",
      "execution_count": 23,
      "metadata": {
        "id": "RxvoSwAhTiMM"
      },
      "outputs": [],
      "source": [
        "data = make_features(df, 20, 10)"
      ]
    },
    {
      "cell_type": "markdown",
      "metadata": {
        "id": "dbzRGnYsTiMM"
      },
      "source": [
        "**Вывод**\n",
        "Построили графики сезонности и тренда, из них видно:\n",
        "- Начиная с марта количество заказов растет\n",
        "- заметная суточная сезонность: минимум заказов приходится на 6:00, а пик в полночь\n",
        "\n",
        "Также была построен график скользящего среднего, по которому видно, что временной ряд является нестационарным"
      ]
    },
    {
      "cell_type": "markdown",
      "metadata": {
        "id": "8LFHUay3TiMM"
      },
      "source": [
        "## Обучение\n",
        "\n",
        "Выполним кодировку признаков. Для количественных StandardScaler"
      ]
    },
    {
      "cell_type": "code",
      "execution_count": 26,
      "metadata": {
        "id": "Q1YscOncTiMM"
      },
      "outputs": [],
      "source": [
        "data.dropna(inplace=True)\n",
        "target = data['num_orders']\n",
        "matrix = data.drop('num_orders', axis=1)\n",
        "\n",
        "matrix_train, matrix_test, target_train, target_test = train_test_split(\n",
        "    matrix, target,\n",
        "    shuffle=False,\n",
        "    random_state=RANDOM_STATE,\n",
        "    test_size=0.1)\n",
        "\n",
        "num_col = matrix.columns"
      ]
    },
    {
      "cell_type": "code",
      "execution_count": 27,
      "metadata": {
        "id": "RDPBAxoiTiMN"
      },
      "outputs": [],
      "source": [
        "\n",
        "numeric_pipe = Pipeline(steps=[\n",
        "    ('simpleImputer', SimpleImputer(strategy='most_frequent')),\n",
        "    ('scaler', StandardScaler())\n",
        "])\n",
        "\n",
        "data_preprocessor = ColumnTransformer(transformers=[\n",
        "    ('num', numeric_pipe, num_col)\n",
        "], remainder='passthrough')"
      ]
    },
    {
      "cell_type": "markdown",
      "metadata": {
        "id": "PVWoSmH9TiMN"
      },
      "source": [
        "## Тестирование"
      ]
    },
    {
      "cell_type": "markdown",
      "metadata": {
        "id": "Q8E6AvZlTiMN"
      },
      "source": [
        "Исследуем 3 модели. Возьмем дерево решений как более простую модель и 2 модели градиентного бустинга. Для исследования и выбора лучшей модели выберем метрику RMSE, а также будем смотреть на время обучения модели. Все эти данные сохраним в датафрейм для удобства"
      ]
    },
    {
      "cell_type": "markdown",
      "metadata": {
        "id": "1NWkE9D-TiMN"
      },
      "source": [
        "# DecisionTreeRegressor"
      ]
    },
    {
      "cell_type": "code",
      "execution_count": 28,
      "metadata": {
        "scrolled": true,
        "id": "GnRNRxfPTiMO"
      },
      "outputs": [],
      "source": [
        "pipeline_tree = Pipeline([\n",
        "    ('preprocessor', data_preprocessor),\n",
        "    (\"decision_tree\", DecisionTreeRegressor(random_state=RANDOM_STATE))\n",
        "])\n",
        "\n",
        "# Определение параметров для поиска\n",
        "param_grid_tree = {\n",
        "    'decision_tree__max_depth': [3, 5, 7],\n",
        "    'decision_tree__min_samples_split': [2, 3, 4],\n",
        "    'decision_tree__min_samples_leaf': [1, 2, 3]\n",
        "}\n",
        "\n",
        "execution_time_tree = evaluate_time(pipeline_tree, matrix_train, target_train)\n",
        "\n",
        "best_params_tree, rmse_tree, model_tree = \\\n",
        "evaluate_pipeline(pipeline_tree, param_grid_tree, matrix_train, target_train)\n",
        "\n",
        "\n",
        "#best_params_tree, execution_time_tree, rmse_tree, model_tree, prediction_time_tree = \\\n",
        "#evaluate_pipeline(pipeline_tree, param_grid_tree, matrix_train, target_train)\n"
      ]
    },
    {
      "cell_type": "markdown",
      "metadata": {
        "id": "wGYO7GSKTiMO"
      },
      "source": [
        "# CatBoostRegressor"
      ]
    },
    {
      "cell_type": "code",
      "execution_count": 29,
      "metadata": {
        "id": "p0aiWaGKTiMO"
      },
      "outputs": [],
      "source": [
        "pipeline_catboost = Pipeline([\n",
        "    ('preprocessor', data_preprocessor),\n",
        "    (\"catboost\", CatBoostRegressor(loss_function='RMSE', verbose=25, random_state=RANDOM_STATE))\n",
        "])"
      ]
    },
    {
      "cell_type": "code",
      "execution_count": 30,
      "metadata": {
        "colab": {
          "base_uri": "https://localhost:8080/"
        },
        "id": "vtED3oNvTiMO",
        "outputId": "7feb82d7-9274-4658-8943-759aeab644ff"
      },
      "outputs": [
        {
          "output_type": "stream",
          "name": "stdout",
          "text": [
            "Learning rate set to 0.05088\n",
            "0:\tlearn: 38.0929041\ttotal: 53.9ms\tremaining: 53.9s\n",
            "25:\tlearn: 29.8163047\ttotal: 177ms\tremaining: 6.61s\n",
            "50:\tlearn: 27.0833333\ttotal: 300ms\tremaining: 5.58s\n",
            "75:\tlearn: 25.8444618\ttotal: 422ms\tremaining: 5.13s\n",
            "100:\tlearn: 24.7526362\ttotal: 547ms\tremaining: 4.87s\n",
            "125:\tlearn: 24.0372608\ttotal: 676ms\tremaining: 4.69s\n",
            "150:\tlearn: 23.5022604\ttotal: 803ms\tremaining: 4.51s\n",
            "175:\tlearn: 22.7498288\ttotal: 927ms\tremaining: 4.34s\n",
            "200:\tlearn: 22.1484683\ttotal: 1.05s\tremaining: 4.17s\n",
            "225:\tlearn: 21.4836009\ttotal: 1.17s\tremaining: 4.01s\n",
            "250:\tlearn: 20.9557250\ttotal: 1.29s\tremaining: 3.86s\n",
            "275:\tlearn: 20.4563876\ttotal: 1.41s\tremaining: 3.7s\n",
            "300:\tlearn: 20.0229510\ttotal: 1.53s\tremaining: 3.57s\n",
            "325:\tlearn: 19.5998249\ttotal: 1.67s\tremaining: 3.46s\n",
            "350:\tlearn: 19.1600561\ttotal: 1.8s\tremaining: 3.32s\n",
            "375:\tlearn: 18.7674164\ttotal: 1.92s\tremaining: 3.19s\n",
            "400:\tlearn: 18.3850262\ttotal: 2.04s\tremaining: 3.04s\n",
            "425:\tlearn: 18.0510298\ttotal: 2.15s\tremaining: 2.9s\n",
            "450:\tlearn: 17.7065664\ttotal: 2.27s\tremaining: 2.77s\n",
            "475:\tlearn: 17.3497297\ttotal: 2.4s\tremaining: 2.64s\n",
            "500:\tlearn: 17.0291021\ttotal: 2.53s\tremaining: 2.52s\n",
            "525:\tlearn: 16.7418816\ttotal: 2.67s\tremaining: 2.4s\n",
            "550:\tlearn: 16.4974453\ttotal: 2.79s\tremaining: 2.27s\n",
            "575:\tlearn: 16.1803552\ttotal: 2.9s\tremaining: 2.14s\n",
            "600:\tlearn: 15.9288571\ttotal: 3.03s\tremaining: 2.01s\n",
            "625:\tlearn: 15.6728602\ttotal: 3.15s\tremaining: 1.88s\n",
            "650:\tlearn: 15.4067691\ttotal: 3.27s\tremaining: 1.76s\n",
            "675:\tlearn: 15.1472489\ttotal: 3.4s\tremaining: 1.63s\n",
            "700:\tlearn: 14.8960790\ttotal: 3.53s\tremaining: 1.5s\n",
            "725:\tlearn: 14.6751243\ttotal: 3.66s\tremaining: 1.38s\n",
            "750:\tlearn: 14.4479529\ttotal: 3.78s\tremaining: 1.25s\n",
            "775:\tlearn: 14.2544851\ttotal: 3.9s\tremaining: 1.13s\n",
            "800:\tlearn: 14.0243709\ttotal: 4.02s\tremaining: 999ms\n",
            "825:\tlearn: 13.8313850\ttotal: 4.13s\tremaining: 871ms\n",
            "850:\tlearn: 13.6303847\ttotal: 4.26s\tremaining: 746ms\n",
            "875:\tlearn: 13.4409160\ttotal: 4.38s\tremaining: 620ms\n",
            "900:\tlearn: 13.2326873\ttotal: 4.5s\tremaining: 494ms\n",
            "925:\tlearn: 13.0467892\ttotal: 4.64s\tremaining: 371ms\n",
            "950:\tlearn: 12.8637194\ttotal: 4.76s\tremaining: 245ms\n",
            "975:\tlearn: 12.6669452\ttotal: 4.88s\tremaining: 120ms\n",
            "999:\tlearn: 12.4752350\ttotal: 5s\tremaining: 0us\n",
            "Learning rate set to 0.237894\n",
            "0:\tlearn: 36.0846418\ttotal: 6.48ms\tremaining: 965ms\n",
            "25:\tlearn: 24.4448865\ttotal: 124ms\tremaining: 591ms\n",
            "50:\tlearn: 21.3306071\ttotal: 246ms\tremaining: 477ms\n",
            "75:\tlearn: 19.1830671\ttotal: 362ms\tremaining: 352ms\n",
            "100:\tlearn: 17.7736210\ttotal: 481ms\tremaining: 234ms\n",
            "125:\tlearn: 16.2691288\ttotal: 599ms\tremaining: 114ms\n",
            "149:\tlearn: 15.1052784\ttotal: 715ms\tremaining: 0us\n"
          ]
        }
      ],
      "source": [
        "param_grid_catboost = {\n",
        "    'catboost__iterations': [50, 100, 150]\n",
        "}\n",
        "\n",
        "execution_time_catboost = evaluate_time(pipeline_catboost, matrix_train, target_train)\n",
        "\n",
        "best_params_catboost, rmse_catboost, model_catboost = \\\n",
        "evaluate_pipeline(pipeline_catboost, param_grid_catboost, matrix_train, target_train)"
      ]
    },
    {
      "cell_type": "markdown",
      "metadata": {
        "id": "QNz0m8EWTiMP"
      },
      "source": [
        "# LGBMRegressor"
      ]
    },
    {
      "cell_type": "code",
      "execution_count": 31,
      "metadata": {
        "id": "wRPyU1n_TiMP"
      },
      "outputs": [],
      "source": [
        "pipeline_lgbm = Pipeline([\n",
        "    ('preprocessor', data_preprocessor),\n",
        "    (\"lgbm\", LGBMRegressor(random_state=RANDOM_STATE))\n",
        "])"
      ]
    },
    {
      "cell_type": "code",
      "execution_count": 32,
      "metadata": {
        "colab": {
          "base_uri": "https://localhost:8080/"
        },
        "id": "fBatm7X9TiMP",
        "outputId": "569af89d-5508-4371-a7ce-0bb23956ad1e"
      },
      "outputs": [
        {
          "output_type": "stream",
          "name": "stdout",
          "text": [
            "[LightGBM] [Info] Auto-choosing row-wise multi-threading, the overhead of testing was 0.000681 seconds.\n",
            "You can set `force_row_wise=true` to remove the overhead.\n",
            "And if memory is not enough, you can set `force_col_wise=true`.\n",
            "[LightGBM] [Info] Total Bins 4091\n",
            "[LightGBM] [Info] Number of data points in the train set: 3956, number of used features: 23\n",
            "[LightGBM] [Info] Start training from score 78.447422\n",
            "[LightGBM] [Warning] Accuracy may be bad since you didn't explicitly set num_leaves OR 2^max_depth > num_leaves. (num_leaves=31).\n",
            "[LightGBM] [Warning] Accuracy may be bad since you didn't explicitly set num_leaves OR 2^max_depth > num_leaves. (num_leaves=31).\n",
            "[LightGBM] [Info] Auto-choosing col-wise multi-threading, the overhead of testing was 0.001194 seconds.\n",
            "You can set `force_col_wise=true` to remove the overhead.\n",
            "[LightGBM] [Info] Total Bins 4091\n",
            "[LightGBM] [Info] Number of data points in the train set: 3956, number of used features: 23\n",
            "[LightGBM] [Info] Start training from score 78.447422\n",
            "[LightGBM] [Warning] No further splits with positive gain, best gain: -inf\n",
            "[LightGBM] [Warning] No further splits with positive gain, best gain: -inf\n",
            "[LightGBM] [Warning] No further splits with positive gain, best gain: -inf\n",
            "[LightGBM] [Warning] No further splits with positive gain, best gain: -inf\n",
            "[LightGBM] [Warning] No further splits with positive gain, best gain: -inf\n",
            "[LightGBM] [Warning] No further splits with positive gain, best gain: -inf\n",
            "[LightGBM] [Warning] No further splits with positive gain, best gain: -inf\n",
            "[LightGBM] [Warning] No further splits with positive gain, best gain: -inf\n",
            "[LightGBM] [Warning] No further splits with positive gain, best gain: -inf\n",
            "[LightGBM] [Warning] No further splits with positive gain, best gain: -inf\n",
            "[LightGBM] [Warning] No further splits with positive gain, best gain: -inf\n",
            "[LightGBM] [Warning] No further splits with positive gain, best gain: -inf\n",
            "[LightGBM] [Warning] No further splits with positive gain, best gain: -inf\n",
            "[LightGBM] [Warning] No further splits with positive gain, best gain: -inf\n",
            "[LightGBM] [Warning] No further splits with positive gain, best gain: -inf\n",
            "[LightGBM] [Warning] No further splits with positive gain, best gain: -inf\n",
            "[LightGBM] [Warning] No further splits with positive gain, best gain: -inf\n",
            "[LightGBM] [Warning] No further splits with positive gain, best gain: -inf\n",
            "[LightGBM] [Warning] No further splits with positive gain, best gain: -inf\n",
            "[LightGBM] [Warning] No further splits with positive gain, best gain: -inf\n",
            "[LightGBM] [Warning] No further splits with positive gain, best gain: -inf\n",
            "[LightGBM] [Warning] No further splits with positive gain, best gain: -inf\n",
            "[LightGBM] [Warning] No further splits with positive gain, best gain: -inf\n",
            "[LightGBM] [Warning] No further splits with positive gain, best gain: -inf\n",
            "[LightGBM] [Warning] No further splits with positive gain, best gain: -inf\n",
            "[LightGBM] [Warning] No further splits with positive gain, best gain: -inf\n",
            "[LightGBM] [Warning] No further splits with positive gain, best gain: -inf\n",
            "[LightGBM] [Warning] No further splits with positive gain, best gain: -inf\n",
            "[LightGBM] [Warning] No further splits with positive gain, best gain: -inf\n",
            "[LightGBM] [Warning] No further splits with positive gain, best gain: -inf\n",
            "[LightGBM] [Warning] No further splits with positive gain, best gain: -inf\n",
            "[LightGBM] [Warning] No further splits with positive gain, best gain: -inf\n",
            "[LightGBM] [Warning] No further splits with positive gain, best gain: -inf\n",
            "[LightGBM] [Warning] No further splits with positive gain, best gain: -inf\n",
            "[LightGBM] [Warning] No further splits with positive gain, best gain: -inf\n",
            "[LightGBM] [Warning] No further splits with positive gain, best gain: -inf\n"
          ]
        }
      ],
      "source": [
        "param_grid_lgbm = {\n",
        "    'lgbm__max_depth': [3, 5, 7]\n",
        "}\n",
        "\n",
        "execution_time_lgbm = evaluate_time(pipeline_lgbm, matrix_train, target_train)\n",
        "\n",
        "best_params_lgbm, rmse_lgbm, model_lgbm  = \\\n",
        "evaluate_pipeline(pipeline_lgbm, param_grid_lgbm, matrix_train, target_train)"
      ]
    },
    {
      "cell_type": "code",
      "execution_count": 33,
      "metadata": {
        "scrolled": true,
        "colab": {
          "base_uri": "https://localhost:8080/",
          "height": 143
        },
        "id": "iQAagmZqTiMP",
        "outputId": "18a6a94d-bc54-44c6-ec4d-a4c859e41d57"
      },
      "outputs": [
        {
          "output_type": "execute_result",
          "data": {
            "text/plain": [
              "      model  execution_time  train_rmse\n",
              "0      tree        0.336696   36.453233\n",
              "1  catboost        5.168192   30.723891\n",
              "2      lgbm        0.329356   31.192511"
            ],
            "text/html": [
              "\n",
              "  <div id=\"df-44909395-9604-48b5-b58f-64672681ec09\" class=\"colab-df-container\">\n",
              "    <div>\n",
              "<style scoped>\n",
              "    .dataframe tbody tr th:only-of-type {\n",
              "        vertical-align: middle;\n",
              "    }\n",
              "\n",
              "    .dataframe tbody tr th {\n",
              "        vertical-align: top;\n",
              "    }\n",
              "\n",
              "    .dataframe thead th {\n",
              "        text-align: right;\n",
              "    }\n",
              "</style>\n",
              "<table border=\"1\" class=\"dataframe\">\n",
              "  <thead>\n",
              "    <tr style=\"text-align: right;\">\n",
              "      <th></th>\n",
              "      <th>model</th>\n",
              "      <th>execution_time</th>\n",
              "      <th>train_rmse</th>\n",
              "    </tr>\n",
              "  </thead>\n",
              "  <tbody>\n",
              "    <tr>\n",
              "      <th>0</th>\n",
              "      <td>tree</td>\n",
              "      <td>0.336696</td>\n",
              "      <td>36.453233</td>\n",
              "    </tr>\n",
              "    <tr>\n",
              "      <th>1</th>\n",
              "      <td>catboost</td>\n",
              "      <td>5.168192</td>\n",
              "      <td>30.723891</td>\n",
              "    </tr>\n",
              "    <tr>\n",
              "      <th>2</th>\n",
              "      <td>lgbm</td>\n",
              "      <td>0.329356</td>\n",
              "      <td>31.192511</td>\n",
              "    </tr>\n",
              "  </tbody>\n",
              "</table>\n",
              "</div>\n",
              "    <div class=\"colab-df-buttons\">\n",
              "\n",
              "  <div class=\"colab-df-container\">\n",
              "    <button class=\"colab-df-convert\" onclick=\"convertToInteractive('df-44909395-9604-48b5-b58f-64672681ec09')\"\n",
              "            title=\"Convert this dataframe to an interactive table.\"\n",
              "            style=\"display:none;\">\n",
              "\n",
              "  <svg xmlns=\"http://www.w3.org/2000/svg\" height=\"24px\" viewBox=\"0 -960 960 960\">\n",
              "    <path d=\"M120-120v-720h720v720H120Zm60-500h600v-160H180v160Zm220 220h160v-160H400v160Zm0 220h160v-160H400v160ZM180-400h160v-160H180v160Zm440 0h160v-160H620v160ZM180-180h160v-160H180v160Zm440 0h160v-160H620v160Z\"/>\n",
              "  </svg>\n",
              "    </button>\n",
              "\n",
              "  <style>\n",
              "    .colab-df-container {\n",
              "      display:flex;\n",
              "      gap: 12px;\n",
              "    }\n",
              "\n",
              "    .colab-df-convert {\n",
              "      background-color: #E8F0FE;\n",
              "      border: none;\n",
              "      border-radius: 50%;\n",
              "      cursor: pointer;\n",
              "      display: none;\n",
              "      fill: #1967D2;\n",
              "      height: 32px;\n",
              "      padding: 0 0 0 0;\n",
              "      width: 32px;\n",
              "    }\n",
              "\n",
              "    .colab-df-convert:hover {\n",
              "      background-color: #E2EBFA;\n",
              "      box-shadow: 0px 1px 2px rgba(60, 64, 67, 0.3), 0px 1px 3px 1px rgba(60, 64, 67, 0.15);\n",
              "      fill: #174EA6;\n",
              "    }\n",
              "\n",
              "    .colab-df-buttons div {\n",
              "      margin-bottom: 4px;\n",
              "    }\n",
              "\n",
              "    [theme=dark] .colab-df-convert {\n",
              "      background-color: #3B4455;\n",
              "      fill: #D2E3FC;\n",
              "    }\n",
              "\n",
              "    [theme=dark] .colab-df-convert:hover {\n",
              "      background-color: #434B5C;\n",
              "      box-shadow: 0px 1px 3px 1px rgba(0, 0, 0, 0.15);\n",
              "      filter: drop-shadow(0px 1px 2px rgba(0, 0, 0, 0.3));\n",
              "      fill: #FFFFFF;\n",
              "    }\n",
              "  </style>\n",
              "\n",
              "    <script>\n",
              "      const buttonEl =\n",
              "        document.querySelector('#df-44909395-9604-48b5-b58f-64672681ec09 button.colab-df-convert');\n",
              "      buttonEl.style.display =\n",
              "        google.colab.kernel.accessAllowed ? 'block' : 'none';\n",
              "\n",
              "      async function convertToInteractive(key) {\n",
              "        const element = document.querySelector('#df-44909395-9604-48b5-b58f-64672681ec09');\n",
              "        const dataTable =\n",
              "          await google.colab.kernel.invokeFunction('convertToInteractive',\n",
              "                                                    [key], {});\n",
              "        if (!dataTable) return;\n",
              "\n",
              "        const docLinkHtml = 'Like what you see? Visit the ' +\n",
              "          '<a target=\"_blank\" href=https://colab.research.google.com/notebooks/data_table.ipynb>data table notebook</a>'\n",
              "          + ' to learn more about interactive tables.';\n",
              "        element.innerHTML = '';\n",
              "        dataTable['output_type'] = 'display_data';\n",
              "        await google.colab.output.renderOutput(dataTable, element);\n",
              "        const docLink = document.createElement('div');\n",
              "        docLink.innerHTML = docLinkHtml;\n",
              "        element.appendChild(docLink);\n",
              "      }\n",
              "    </script>\n",
              "  </div>\n",
              "\n",
              "\n",
              "<div id=\"df-6b032c8d-687c-4f8d-a448-f7bd5af6252c\">\n",
              "  <button class=\"colab-df-quickchart\" onclick=\"quickchart('df-6b032c8d-687c-4f8d-a448-f7bd5af6252c')\"\n",
              "            title=\"Suggest charts\"\n",
              "            style=\"display:none;\">\n",
              "\n",
              "<svg xmlns=\"http://www.w3.org/2000/svg\" height=\"24px\"viewBox=\"0 0 24 24\"\n",
              "     width=\"24px\">\n",
              "    <g>\n",
              "        <path d=\"M19 3H5c-1.1 0-2 .9-2 2v14c0 1.1.9 2 2 2h14c1.1 0 2-.9 2-2V5c0-1.1-.9-2-2-2zM9 17H7v-7h2v7zm4 0h-2V7h2v10zm4 0h-2v-4h2v4z\"/>\n",
              "    </g>\n",
              "</svg>\n",
              "  </button>\n",
              "\n",
              "<style>\n",
              "  .colab-df-quickchart {\n",
              "      --bg-color: #E8F0FE;\n",
              "      --fill-color: #1967D2;\n",
              "      --hover-bg-color: #E2EBFA;\n",
              "      --hover-fill-color: #174EA6;\n",
              "      --disabled-fill-color: #AAA;\n",
              "      --disabled-bg-color: #DDD;\n",
              "  }\n",
              "\n",
              "  [theme=dark] .colab-df-quickchart {\n",
              "      --bg-color: #3B4455;\n",
              "      --fill-color: #D2E3FC;\n",
              "      --hover-bg-color: #434B5C;\n",
              "      --hover-fill-color: #FFFFFF;\n",
              "      --disabled-bg-color: #3B4455;\n",
              "      --disabled-fill-color: #666;\n",
              "  }\n",
              "\n",
              "  .colab-df-quickchart {\n",
              "    background-color: var(--bg-color);\n",
              "    border: none;\n",
              "    border-radius: 50%;\n",
              "    cursor: pointer;\n",
              "    display: none;\n",
              "    fill: var(--fill-color);\n",
              "    height: 32px;\n",
              "    padding: 0;\n",
              "    width: 32px;\n",
              "  }\n",
              "\n",
              "  .colab-df-quickchart:hover {\n",
              "    background-color: var(--hover-bg-color);\n",
              "    box-shadow: 0 1px 2px rgba(60, 64, 67, 0.3), 0 1px 3px 1px rgba(60, 64, 67, 0.15);\n",
              "    fill: var(--button-hover-fill-color);\n",
              "  }\n",
              "\n",
              "  .colab-df-quickchart-complete:disabled,\n",
              "  .colab-df-quickchart-complete:disabled:hover {\n",
              "    background-color: var(--disabled-bg-color);\n",
              "    fill: var(--disabled-fill-color);\n",
              "    box-shadow: none;\n",
              "  }\n",
              "\n",
              "  .colab-df-spinner {\n",
              "    border: 2px solid var(--fill-color);\n",
              "    border-color: transparent;\n",
              "    border-bottom-color: var(--fill-color);\n",
              "    animation:\n",
              "      spin 1s steps(1) infinite;\n",
              "  }\n",
              "\n",
              "  @keyframes spin {\n",
              "    0% {\n",
              "      border-color: transparent;\n",
              "      border-bottom-color: var(--fill-color);\n",
              "      border-left-color: var(--fill-color);\n",
              "    }\n",
              "    20% {\n",
              "      border-color: transparent;\n",
              "      border-left-color: var(--fill-color);\n",
              "      border-top-color: var(--fill-color);\n",
              "    }\n",
              "    30% {\n",
              "      border-color: transparent;\n",
              "      border-left-color: var(--fill-color);\n",
              "      border-top-color: var(--fill-color);\n",
              "      border-right-color: var(--fill-color);\n",
              "    }\n",
              "    40% {\n",
              "      border-color: transparent;\n",
              "      border-right-color: var(--fill-color);\n",
              "      border-top-color: var(--fill-color);\n",
              "    }\n",
              "    60% {\n",
              "      border-color: transparent;\n",
              "      border-right-color: var(--fill-color);\n",
              "    }\n",
              "    80% {\n",
              "      border-color: transparent;\n",
              "      border-right-color: var(--fill-color);\n",
              "      border-bottom-color: var(--fill-color);\n",
              "    }\n",
              "    90% {\n",
              "      border-color: transparent;\n",
              "      border-bottom-color: var(--fill-color);\n",
              "    }\n",
              "  }\n",
              "</style>\n",
              "\n",
              "  <script>\n",
              "    async function quickchart(key) {\n",
              "      const quickchartButtonEl =\n",
              "        document.querySelector('#' + key + ' button');\n",
              "      quickchartButtonEl.disabled = true;  // To prevent multiple clicks.\n",
              "      quickchartButtonEl.classList.add('colab-df-spinner');\n",
              "      try {\n",
              "        const charts = await google.colab.kernel.invokeFunction(\n",
              "            'suggestCharts', [key], {});\n",
              "      } catch (error) {\n",
              "        console.error('Error during call to suggestCharts:', error);\n",
              "      }\n",
              "      quickchartButtonEl.classList.remove('colab-df-spinner');\n",
              "      quickchartButtonEl.classList.add('colab-df-quickchart-complete');\n",
              "    }\n",
              "    (() => {\n",
              "      let quickchartButtonEl =\n",
              "        document.querySelector('#df-6b032c8d-687c-4f8d-a448-f7bd5af6252c button');\n",
              "      quickchartButtonEl.style.display =\n",
              "        google.colab.kernel.accessAllowed ? 'block' : 'none';\n",
              "    })();\n",
              "  </script>\n",
              "</div>\n",
              "    </div>\n",
              "  </div>\n"
            ],
            "application/vnd.google.colaboratory.intrinsic+json": {
              "type": "dataframe",
              "variable_name": "df_all_model",
              "summary": "{\n  \"name\": \"df_all_model\",\n  \"rows\": 3,\n  \"fields\": [\n    {\n      \"column\": \"model\",\n      \"properties\": {\n        \"dtype\": \"string\",\n        \"num_unique_values\": 3,\n        \"samples\": [\n          \"tree\",\n          \"catboost\",\n          \"lgbm\"\n        ],\n        \"semantic_type\": \"\",\n        \"description\": \"\"\n      }\n    },\n    {\n      \"column\": \"execution_time\",\n      \"properties\": {\n        \"dtype\": \"number\",\n        \"std\": 2.791586928704746,\n        \"min\": 0.32935619354248047,\n        \"max\": 5.168192386627197,\n        \"num_unique_values\": 3,\n        \"samples\": [\n          0.33669614791870117,\n          5.168192386627197,\n          0.32935619354248047\n        ],\n        \"semantic_type\": \"\",\n        \"description\": \"\"\n      }\n    },\n    {\n      \"column\": \"train_rmse\",\n      \"properties\": {\n        \"dtype\": \"number\",\n        \"std\": 3.181198991700473,\n        \"min\": 30.723891414991954,\n        \"max\": 36.45323329924499,\n        \"num_unique_values\": 3,\n        \"samples\": [\n          36.45323329924499,\n          30.723891414991954,\n          31.192510969022592\n        ],\n        \"semantic_type\": \"\",\n        \"description\": \"\"\n      }\n    }\n  ]\n}"
            }
          },
          "metadata": {},
          "execution_count": 33
        }
      ],
      "source": [
        "data1 = {\n",
        "    \"model\": ['tree', 'catboost', 'lgbm'],\n",
        "    \"execution_time\": [execution_time_tree, execution_time_catboost, execution_time_lgbm],\n",
        "    \"train_rmse\": [rmse_tree, rmse_catboost, rmse_lgbm]\n",
        "}\n",
        "\n",
        "df_all_model = pd.DataFrame(data1)\n",
        "\n",
        "df_all_model.head()"
      ]
    },
    {
      "cell_type": "markdown",
      "metadata": {
        "id": "qUUIoF8FTiMP"
      },
      "source": [
        "По результатам исследования лучшая модель по RMSE метрике LGBMRegressor. И она же почти самая быстрая по времени обучения. Посмотрим на ее гиперпараметры и выполним предсказание на тестовой выборке"
      ]
    },
    {
      "cell_type": "code",
      "execution_count": 34,
      "metadata": {
        "colab": {
          "base_uri": "https://localhost:8080/"
        },
        "id": "bZAT7VRCTiMQ",
        "outputId": "61104b7a-68b4-4035-814c-1799a2d86ce4"
      },
      "outputs": [
        {
          "output_type": "execute_result",
          "data": {
            "text/plain": [
              "{'lgbm__max_depth': 7}"
            ]
          },
          "metadata": {},
          "execution_count": 34
        }
      ],
      "source": [
        "best_params_lgbm"
      ]
    },
    {
      "cell_type": "code",
      "execution_count": 35,
      "metadata": {
        "colab": {
          "base_uri": "https://localhost:8080/"
        },
        "id": "9GC7anonTiMQ",
        "outputId": "bca91a09-bbe7-4cfe-cb3f-d3391c5732f7"
      },
      "outputs": [
        {
          "output_type": "stream",
          "name": "stdout",
          "text": [
            "[LightGBM] [Warning] Accuracy may be bad since you didn't explicitly set num_leaves OR 2^max_depth > num_leaves. (num_leaves=31).\n"
          ]
        },
        {
          "output_type": "execute_result",
          "data": {
            "text/plain": [
              "47.00547148617672"
            ]
          },
          "metadata": {},
          "execution_count": 35
        }
      ],
      "source": [
        "predictions = model_lgbm.predict(matrix_test)\n",
        "rmse_test = mean_squared_error(target_test, predictions, squared=False)\n",
        "rmse_test"
      ]
    },
    {
      "cell_type": "markdown",
      "metadata": {
        "id": "Yfib42BrTiMR"
      },
      "source": [
        "# Вывод\n",
        "В ходе предобработки было сделано:\n",
        "\n",
        "* загрузили данный\n",
        "* удалили аномальны значения\n",
        "\n",
        "В ходе подготовки данных к обучению было сделано:\n",
        "* Разделили данные на тренировочную и тестовую выборку\n",
        "* Выбрали кодировщик StandartScaler\n",
        "\n",
        "В ходе обучения было сделано следующее:\n",
        "* Для обучения выбрали 3 модели DecisionTreeRegressor, CatBoostRegressor, Light Gradient Boosting Machine\n",
        "* По метрике RMSE  выбрали модель LGBMRegressor и выполнили предсказание на тестовых данных\n",
        "\n",
        "Модель LGBMRegressor:\n",
        "\n",
        "* train_rmse 1.25\n",
        "* execution_time 5.69 сек.\n",
        "* lgbm__max_depth: 5\n",
        "\n",
        "Значение RMSE лучшей модели на тестовой выборке - 47.9"
      ]
    }
  ],
  "metadata": {
    "ExecuteTimeLog": [
      {
        "duration": 3418,
        "start_time": "2024-03-19T15:21:52.166Z"
      },
      {
        "duration": 1435,
        "start_time": "2024-03-19T15:27:18.045Z"
      },
      {
        "duration": 0,
        "start_time": "2024-03-19T15:27:19.482Z"
      },
      {
        "duration": 871,
        "start_time": "2024-03-19T15:27:26.554Z"
      },
      {
        "duration": 110,
        "start_time": "2024-03-19T15:27:29.826Z"
      },
      {
        "duration": 49,
        "start_time": "2024-03-19T15:28:20.830Z"
      },
      {
        "duration": 11,
        "start_time": "2024-03-19T15:28:30.186Z"
      },
      {
        "duration": 50,
        "start_time": "2024-03-19T15:29:31.775Z"
      },
      {
        "duration": 6,
        "start_time": "2024-03-19T15:29:32.260Z"
      },
      {
        "duration": 12,
        "start_time": "2024-03-19T15:31:48.542Z"
      },
      {
        "duration": 43,
        "start_time": "2024-03-19T15:31:56.812Z"
      },
      {
        "duration": 12,
        "start_time": "2024-03-19T15:31:57.222Z"
      },
      {
        "duration": 50,
        "start_time": "2024-03-19T15:32:14.284Z"
      },
      {
        "duration": 10,
        "start_time": "2024-03-19T15:32:14.976Z"
      },
      {
        "duration": 9,
        "start_time": "2024-03-19T15:34:28.550Z"
      },
      {
        "duration": 2,
        "start_time": "2024-03-19T15:34:42.587Z"
      },
      {
        "duration": 3,
        "start_time": "2024-03-19T15:34:44.967Z"
      },
      {
        "duration": 9,
        "start_time": "2024-03-19T15:36:17.909Z"
      },
      {
        "duration": 239,
        "start_time": "2024-03-19T15:36:24.571Z"
      },
      {
        "duration": 10,
        "start_time": "2024-03-19T15:36:38.734Z"
      },
      {
        "duration": 12,
        "start_time": "2024-03-19T15:36:48.230Z"
      },
      {
        "duration": 9,
        "start_time": "2024-03-19T15:37:59.101Z"
      },
      {
        "duration": 7,
        "start_time": "2024-03-19T15:38:09.534Z"
      },
      {
        "duration": 4,
        "start_time": "2024-03-19T15:41:31.702Z"
      },
      {
        "duration": 49,
        "start_time": "2024-03-19T15:41:36.096Z"
      },
      {
        "duration": 7,
        "start_time": "2024-03-19T15:41:36.558Z"
      },
      {
        "duration": 10,
        "start_time": "2024-03-19T15:41:36.998Z"
      },
      {
        "duration": 3,
        "start_time": "2024-03-19T15:41:37.511Z"
      },
      {
        "duration": 4,
        "start_time": "2024-03-19T15:42:07.866Z"
      },
      {
        "duration": 309,
        "start_time": "2024-03-19T15:42:10.635Z"
      },
      {
        "duration": 41,
        "start_time": "2024-03-19T15:53:40.688Z"
      },
      {
        "duration": 7,
        "start_time": "2024-03-19T15:53:49.615Z"
      },
      {
        "duration": 7,
        "start_time": "2024-03-19T15:54:01.764Z"
      },
      {
        "duration": 26,
        "start_time": "2024-03-19T15:54:53.796Z"
      },
      {
        "duration": 7,
        "start_time": "2024-03-19T15:54:59.273Z"
      },
      {
        "duration": 201,
        "start_time": "2024-03-19T15:55:49.380Z"
      },
      {
        "duration": 151,
        "start_time": "2024-03-19T15:57:08.652Z"
      },
      {
        "duration": 16,
        "start_time": "2024-03-19T17:58:00.880Z"
      },
      {
        "duration": 2573,
        "start_time": "2024-03-19T17:58:09.541Z"
      },
      {
        "duration": 6,
        "start_time": "2024-03-19T17:58:12.116Z"
      },
      {
        "duration": 8,
        "start_time": "2024-03-19T17:58:12.124Z"
      },
      {
        "duration": 63,
        "start_time": "2024-03-19T17:58:12.134Z"
      },
      {
        "duration": 9,
        "start_time": "2024-03-19T17:58:12.199Z"
      },
      {
        "duration": 16,
        "start_time": "2024-03-19T17:58:12.209Z"
      },
      {
        "duration": 3,
        "start_time": "2024-03-19T17:58:12.227Z"
      },
      {
        "duration": 245,
        "start_time": "2024-03-19T17:58:12.232Z"
      },
      {
        "duration": 160,
        "start_time": "2024-03-19T17:58:12.479Z"
      },
      {
        "duration": 1270,
        "start_time": "2024-03-19T17:58:12.641Z"
      },
      {
        "duration": 362,
        "start_time": "2024-03-19T17:58:23.992Z"
      },
      {
        "duration": 8,
        "start_time": "2024-03-19T17:59:13.977Z"
      },
      {
        "duration": 6,
        "start_time": "2024-03-19T18:00:00.493Z"
      },
      {
        "duration": 472,
        "start_time": "2024-03-19T18:00:58.959Z"
      },
      {
        "duration": 5,
        "start_time": "2024-03-19T18:08:06.094Z"
      },
      {
        "duration": 1151,
        "start_time": "2024-03-19T18:08:22.437Z"
      },
      {
        "duration": 4,
        "start_time": "2024-03-19T18:08:42.679Z"
      },
      {
        "duration": 12,
        "start_time": "2024-03-19T18:08:50.559Z"
      },
      {
        "duration": 16,
        "start_time": "2024-03-19T18:08:57.417Z"
      },
      {
        "duration": 4,
        "start_time": "2024-03-19T18:16:02.051Z"
      },
      {
        "duration": 14,
        "start_time": "2024-03-19T18:16:15.904Z"
      },
      {
        "duration": 5,
        "start_time": "2024-03-19T18:16:50.304Z"
      },
      {
        "duration": 5,
        "start_time": "2024-03-19T18:16:53.103Z"
      },
      {
        "duration": 4,
        "start_time": "2024-03-19T18:16:53.279Z"
      },
      {
        "duration": 4,
        "start_time": "2024-03-19T18:16:53.494Z"
      },
      {
        "duration": 53,
        "start_time": "2024-03-19T18:16:53.786Z"
      },
      {
        "duration": 6,
        "start_time": "2024-03-19T18:16:54.566Z"
      },
      {
        "duration": 96,
        "start_time": "2024-03-19T18:16:59.382Z"
      },
      {
        "duration": 6,
        "start_time": "2024-03-19T18:18:39.577Z"
      },
      {
        "duration": 21,
        "start_time": "2024-03-19T18:18:46.812Z"
      },
      {
        "duration": 9,
        "start_time": "2024-03-19T18:18:57.604Z"
      },
      {
        "duration": 12,
        "start_time": "2024-03-19T18:19:05.275Z"
      },
      {
        "duration": 19,
        "start_time": "2024-03-19T18:19:31.222Z"
      },
      {
        "duration": 9,
        "start_time": "2024-03-19T18:19:36.333Z"
      },
      {
        "duration": 25,
        "start_time": "2024-03-19T18:19:59.189Z"
      },
      {
        "duration": 17,
        "start_time": "2024-03-19T18:20:10.589Z"
      },
      {
        "duration": 23,
        "start_time": "2024-03-19T18:20:47.140Z"
      },
      {
        "duration": 3729,
        "start_time": "2024-03-20T14:03:40.598Z"
      },
      {
        "duration": 2619,
        "start_time": "2024-03-20T14:03:57.076Z"
      },
      {
        "duration": 2428,
        "start_time": "2024-03-20T14:03:59.697Z"
      },
      {
        "duration": 6,
        "start_time": "2024-03-20T14:04:02.127Z"
      },
      {
        "duration": 23,
        "start_time": "2024-03-20T14:04:02.135Z"
      },
      {
        "duration": 51,
        "start_time": "2024-03-20T14:04:02.160Z"
      },
      {
        "duration": 181,
        "start_time": "2024-03-20T14:04:02.212Z"
      },
      {
        "duration": 9,
        "start_time": "2024-03-20T14:04:02.395Z"
      },
      {
        "duration": 15,
        "start_time": "2024-03-20T14:04:02.406Z"
      },
      {
        "duration": 4,
        "start_time": "2024-03-20T14:04:02.422Z"
      },
      {
        "duration": 341,
        "start_time": "2024-03-20T14:04:02.428Z"
      },
      {
        "duration": 160,
        "start_time": "2024-03-20T14:04:02.771Z"
      },
      {
        "duration": 368,
        "start_time": "2024-03-20T14:04:02.933Z"
      },
      {
        "duration": 8,
        "start_time": "2024-03-20T14:04:03.303Z"
      },
      {
        "duration": 8,
        "start_time": "2024-03-20T14:04:03.314Z"
      },
      {
        "duration": 26,
        "start_time": "2024-03-20T14:04:03.323Z"
      },
      {
        "duration": 38,
        "start_time": "2024-03-20T14:04:03.351Z"
      },
      {
        "duration": 5,
        "start_time": "2024-03-20T14:13:59.015Z"
      },
      {
        "duration": 3,
        "start_time": "2024-03-20T14:14:06.858Z"
      },
      {
        "duration": 20,
        "start_time": "2024-03-20T14:16:32.002Z"
      },
      {
        "duration": 20,
        "start_time": "2024-03-20T14:16:53.782Z"
      },
      {
        "duration": 9,
        "start_time": "2024-03-20T14:17:01.895Z"
      },
      {
        "duration": 21,
        "start_time": "2024-03-20T14:17:15.417Z"
      },
      {
        "duration": 7,
        "start_time": "2024-03-20T14:18:46.642Z"
      },
      {
        "duration": 6,
        "start_time": "2024-03-20T14:18:51.047Z"
      },
      {
        "duration": 22,
        "start_time": "2024-03-20T14:19:09.668Z"
      },
      {
        "duration": 144,
        "start_time": "2024-03-20T14:29:08.774Z"
      },
      {
        "duration": 51,
        "start_time": "2024-03-20T14:30:08.046Z"
      },
      {
        "duration": 15,
        "start_time": "2024-03-20T14:30:15.002Z"
      },
      {
        "duration": 3,
        "start_time": "2024-03-20T14:31:38.148Z"
      },
      {
        "duration": 2616,
        "start_time": "2024-03-20T14:31:48.110Z"
      },
      {
        "duration": 1541,
        "start_time": "2024-03-20T14:31:50.730Z"
      },
      {
        "duration": 5,
        "start_time": "2024-03-20T14:31:52.273Z"
      },
      {
        "duration": 33,
        "start_time": "2024-03-20T14:31:52.280Z"
      },
      {
        "duration": 24,
        "start_time": "2024-03-20T14:31:52.315Z"
      },
      {
        "duration": 13,
        "start_time": "2024-03-20T14:31:52.341Z"
      },
      {
        "duration": 4,
        "start_time": "2024-03-20T14:31:52.356Z"
      },
      {
        "duration": 59,
        "start_time": "2024-03-20T14:31:52.361Z"
      },
      {
        "duration": 12,
        "start_time": "2024-03-20T14:31:52.421Z"
      },
      {
        "duration": 11,
        "start_time": "2024-03-20T14:31:52.436Z"
      },
      {
        "duration": 4,
        "start_time": "2024-03-20T14:31:52.449Z"
      },
      {
        "duration": 253,
        "start_time": "2024-03-20T14:31:52.455Z"
      },
      {
        "duration": 231,
        "start_time": "2024-03-20T14:31:52.710Z"
      },
      {
        "duration": 361,
        "start_time": "2024-03-20T14:31:52.943Z"
      },
      {
        "duration": 8,
        "start_time": "2024-03-20T14:31:53.306Z"
      },
      {
        "duration": 8,
        "start_time": "2024-03-20T14:31:53.315Z"
      },
      {
        "duration": 21,
        "start_time": "2024-03-20T14:31:53.325Z"
      },
      {
        "duration": 41,
        "start_time": "2024-03-20T14:31:53.348Z"
      },
      {
        "duration": 4,
        "start_time": "2024-03-20T14:31:53.391Z"
      },
      {
        "duration": 132,
        "start_time": "2024-03-20T14:38:56.764Z"
      },
      {
        "duration": 22,
        "start_time": "2024-03-20T14:42:11.748Z"
      },
      {
        "duration": 20,
        "start_time": "2024-03-20T14:42:53.510Z"
      },
      {
        "duration": 24,
        "start_time": "2024-03-20T14:43:02.137Z"
      },
      {
        "duration": 8,
        "start_time": "2024-03-20T14:43:10.217Z"
      },
      {
        "duration": 11,
        "start_time": "2024-03-20T14:43:14.114Z"
      },
      {
        "duration": 3,
        "start_time": "2024-03-20T14:43:14.530Z"
      },
      {
        "duration": 22,
        "start_time": "2024-03-20T14:43:16.441Z"
      },
      {
        "duration": 24,
        "start_time": "2024-03-20T14:43:17.284Z"
      },
      {
        "duration": 26,
        "start_time": "2024-03-20T14:43:27.155Z"
      },
      {
        "duration": 12,
        "start_time": "2024-03-20T14:43:40.801Z"
      },
      {
        "duration": 21,
        "start_time": "2024-03-20T14:45:40.227Z"
      },
      {
        "duration": 6,
        "start_time": "2024-03-20T14:55:51.953Z"
      },
      {
        "duration": 21,
        "start_time": "2024-03-20T14:55:58.338Z"
      },
      {
        "duration": 19,
        "start_time": "2024-03-20T14:56:42.845Z"
      },
      {
        "duration": 15,
        "start_time": "2024-03-20T15:06:52.041Z"
      },
      {
        "duration": 9,
        "start_time": "2024-03-20T15:07:44.899Z"
      },
      {
        "duration": 3,
        "start_time": "2024-03-20T15:07:49.659Z"
      },
      {
        "duration": 59,
        "start_time": "2024-03-20T15:07:56.035Z"
      },
      {
        "duration": 21,
        "start_time": "2024-03-20T15:07:56.993Z"
      },
      {
        "duration": 136,
        "start_time": "2024-03-20T15:08:01.799Z"
      },
      {
        "duration": 2544,
        "start_time": "2024-03-20T15:16:34.106Z"
      },
      {
        "duration": 1607,
        "start_time": "2024-03-20T15:16:36.652Z"
      },
      {
        "duration": 5,
        "start_time": "2024-03-20T15:16:38.260Z"
      },
      {
        "duration": 7,
        "start_time": "2024-03-20T15:16:38.267Z"
      },
      {
        "duration": 6,
        "start_time": "2024-03-20T15:16:38.275Z"
      },
      {
        "duration": 12,
        "start_time": "2024-03-20T15:16:38.282Z"
      },
      {
        "duration": 61,
        "start_time": "2024-03-20T15:16:38.296Z"
      },
      {
        "duration": 11,
        "start_time": "2024-03-20T15:16:38.358Z"
      },
      {
        "duration": 28,
        "start_time": "2024-03-20T15:16:38.371Z"
      },
      {
        "duration": 14,
        "start_time": "2024-03-20T15:16:38.403Z"
      },
      {
        "duration": 250,
        "start_time": "2024-03-20T15:16:38.419Z"
      },
      {
        "duration": 228,
        "start_time": "2024-03-20T15:16:38.671Z"
      },
      {
        "duration": 348,
        "start_time": "2024-03-20T15:16:38.901Z"
      },
      {
        "duration": 22,
        "start_time": "2024-03-20T15:16:39.251Z"
      },
      {
        "duration": 6,
        "start_time": "2024-03-20T15:16:39.275Z"
      },
      {
        "duration": 21,
        "start_time": "2024-03-20T15:16:39.283Z"
      },
      {
        "duration": 10,
        "start_time": "2024-03-20T15:16:39.306Z"
      },
      {
        "duration": 4,
        "start_time": "2024-03-20T15:16:39.318Z"
      },
      {
        "duration": 198,
        "start_time": "2024-03-20T15:16:39.323Z"
      },
      {
        "duration": 0,
        "start_time": "2024-03-20T15:16:39.523Z"
      },
      {
        "duration": 0,
        "start_time": "2024-03-20T15:16:39.524Z"
      },
      {
        "duration": 136,
        "start_time": "2024-03-20T15:17:34.405Z"
      },
      {
        "duration": 5,
        "start_time": "2024-03-20T15:18:14.145Z"
      },
      {
        "duration": 51,
        "start_time": "2024-03-20T15:18:22.690Z"
      },
      {
        "duration": 4,
        "start_time": "2024-03-20T15:20:46.316Z"
      },
      {
        "duration": 4,
        "start_time": "2024-03-20T15:20:55.400Z"
      },
      {
        "duration": 6,
        "start_time": "2024-03-20T15:21:02.361Z"
      },
      {
        "duration": 110,
        "start_time": "2024-03-20T15:21:07.862Z"
      },
      {
        "duration": 18,
        "start_time": "2024-03-20T15:21:11.751Z"
      },
      {
        "duration": 11,
        "start_time": "2024-03-20T15:21:19.236Z"
      },
      {
        "duration": 17,
        "start_time": "2024-03-20T15:24:13.044Z"
      },
      {
        "duration": 9,
        "start_time": "2024-03-20T15:24:18.616Z"
      },
      {
        "duration": 11,
        "start_time": "2024-03-20T15:24:23.222Z"
      },
      {
        "duration": 10,
        "start_time": "2024-03-20T15:25:53.371Z"
      },
      {
        "duration": 10,
        "start_time": "2024-03-20T15:26:03.280Z"
      },
      {
        "duration": 3,
        "start_time": "2024-03-20T15:26:03.674Z"
      },
      {
        "duration": 11469,
        "start_time": "2024-03-20T15:26:10.515Z"
      },
      {
        "duration": 10,
        "start_time": "2024-03-20T15:30:15.356Z"
      },
      {
        "duration": 8,
        "start_time": "2024-03-20T15:30:16.565Z"
      },
      {
        "duration": 1662,
        "start_time": "2024-03-20T15:30:19.638Z"
      },
      {
        "duration": 844,
        "start_time": "2024-03-20T15:32:18.712Z"
      },
      {
        "duration": 894,
        "start_time": "2024-03-20T15:32:26.247Z"
      },
      {
        "duration": 16391,
        "start_time": "2024-03-20T15:32:38.158Z"
      },
      {
        "duration": 27525,
        "start_time": "2024-03-20T15:32:54.551Z"
      },
      {
        "duration": 9,
        "start_time": "2024-03-20T15:33:27.886Z"
      },
      {
        "duration": 19,
        "start_time": "2024-03-20T15:41:28.489Z"
      },
      {
        "duration": 2582,
        "start_time": "2024-03-20T15:41:36.856Z"
      },
      {
        "duration": 1616,
        "start_time": "2024-03-20T15:41:39.441Z"
      },
      {
        "duration": 5,
        "start_time": "2024-03-20T15:41:41.059Z"
      },
      {
        "duration": 9,
        "start_time": "2024-03-20T15:41:41.066Z"
      },
      {
        "duration": 16,
        "start_time": "2024-03-20T15:41:41.076Z"
      },
      {
        "duration": 9,
        "start_time": "2024-03-20T15:41:41.094Z"
      },
      {
        "duration": 54,
        "start_time": "2024-03-20T15:41:41.104Z"
      },
      {
        "duration": 10,
        "start_time": "2024-03-20T15:41:41.159Z"
      },
      {
        "duration": 21,
        "start_time": "2024-03-20T15:41:41.170Z"
      },
      {
        "duration": 4,
        "start_time": "2024-03-20T15:41:41.193Z"
      },
      {
        "duration": 245,
        "start_time": "2024-03-20T15:41:41.198Z"
      },
      {
        "duration": 238,
        "start_time": "2024-03-20T15:41:41.445Z"
      },
      {
        "duration": 350,
        "start_time": "2024-03-20T15:41:41.684Z"
      },
      {
        "duration": 8,
        "start_time": "2024-03-20T15:41:42.035Z"
      },
      {
        "duration": 5,
        "start_time": "2024-03-20T15:41:42.044Z"
      },
      {
        "duration": 37,
        "start_time": "2024-03-20T15:41:42.050Z"
      },
      {
        "duration": 11,
        "start_time": "2024-03-20T15:41:42.088Z"
      },
      {
        "duration": 3,
        "start_time": "2024-03-20T15:41:42.101Z"
      },
      {
        "duration": 840,
        "start_time": "2024-03-20T15:41:42.105Z"
      },
      {
        "duration": 16641,
        "start_time": "2024-03-20T15:41:42.947Z"
      },
      {
        "duration": 11289,
        "start_time": "2024-03-20T15:41:59.590Z"
      },
      {
        "duration": 10,
        "start_time": "2024-03-20T15:42:10.881Z"
      },
      {
        "duration": 158,
        "start_time": "2024-03-20T15:49:47.014Z"
      },
      {
        "duration": 4,
        "start_time": "2024-03-20T16:40:45.221Z"
      },
      {
        "duration": 2621,
        "start_time": "2024-03-20T16:41:09.861Z"
      },
      {
        "duration": 1637,
        "start_time": "2024-03-20T16:41:12.484Z"
      },
      {
        "duration": 5,
        "start_time": "2024-03-20T16:41:14.123Z"
      },
      {
        "duration": 9,
        "start_time": "2024-03-20T16:41:14.130Z"
      },
      {
        "duration": 8,
        "start_time": "2024-03-20T16:41:14.141Z"
      },
      {
        "duration": 5,
        "start_time": "2024-03-20T16:41:14.150Z"
      },
      {
        "duration": 62,
        "start_time": "2024-03-20T16:41:14.156Z"
      },
      {
        "duration": 11,
        "start_time": "2024-03-20T16:41:14.219Z"
      },
      {
        "duration": 11,
        "start_time": "2024-03-20T16:41:14.231Z"
      },
      {
        "duration": 4,
        "start_time": "2024-03-20T16:41:14.243Z"
      },
      {
        "duration": 252,
        "start_time": "2024-03-20T16:41:14.248Z"
      },
      {
        "duration": 223,
        "start_time": "2024-03-20T16:41:14.502Z"
      },
      {
        "duration": 350,
        "start_time": "2024-03-20T16:41:14.726Z"
      },
      {
        "duration": 9,
        "start_time": "2024-03-20T16:41:15.079Z"
      },
      {
        "duration": 54,
        "start_time": "2024-03-20T16:41:15.089Z"
      },
      {
        "duration": 101,
        "start_time": "2024-03-20T16:41:15.145Z"
      },
      {
        "duration": 21,
        "start_time": "2024-03-20T16:41:15.248Z"
      },
      {
        "duration": 16,
        "start_time": "2024-03-20T16:41:15.271Z"
      },
      {
        "duration": 175,
        "start_time": "2024-03-20T16:41:15.289Z"
      },
      {
        "duration": 0,
        "start_time": "2024-03-20T16:41:15.465Z"
      },
      {
        "duration": 0,
        "start_time": "2024-03-20T16:41:15.467Z"
      },
      {
        "duration": 0,
        "start_time": "2024-03-20T16:41:15.468Z"
      },
      {
        "duration": 3,
        "start_time": "2024-03-20T16:44:25.660Z"
      },
      {
        "duration": 4953,
        "start_time": "2024-03-20T16:44:26.789Z"
      },
      {
        "duration": 43201,
        "start_time": "2024-03-20T16:44:34.565Z"
      },
      {
        "duration": 26016,
        "start_time": "2024-03-20T16:45:17.768Z"
      },
      {
        "duration": 9,
        "start_time": "2024-03-20T16:45:43.786Z"
      },
      {
        "duration": 17,
        "start_time": "2024-03-20T16:47:57.906Z"
      },
      {
        "duration": 11,
        "start_time": "2024-03-20T16:48:22.958Z"
      },
      {
        "duration": 3,
        "start_time": "2024-03-20T16:48:31.449Z"
      },
      {
        "duration": 4356,
        "start_time": "2024-03-20T16:48:35.074Z"
      },
      {
        "duration": 2615,
        "start_time": "2024-03-20T17:07:50.288Z"
      },
      {
        "duration": 1569,
        "start_time": "2024-03-20T17:07:52.905Z"
      },
      {
        "duration": 5,
        "start_time": "2024-03-20T17:07:54.475Z"
      },
      {
        "duration": 24,
        "start_time": "2024-03-20T17:07:54.482Z"
      },
      {
        "duration": 9,
        "start_time": "2024-03-20T17:07:54.508Z"
      },
      {
        "duration": 6,
        "start_time": "2024-03-20T17:07:54.519Z"
      },
      {
        "duration": 57,
        "start_time": "2024-03-20T17:07:54.526Z"
      },
      {
        "duration": 10,
        "start_time": "2024-03-20T17:07:54.584Z"
      },
      {
        "duration": 21,
        "start_time": "2024-03-20T17:07:54.596Z"
      },
      {
        "duration": 20,
        "start_time": "2024-03-20T17:07:54.619Z"
      },
      {
        "duration": 258,
        "start_time": "2024-03-20T17:07:54.641Z"
      },
      {
        "duration": 236,
        "start_time": "2024-03-20T17:07:54.900Z"
      },
      {
        "duration": 349,
        "start_time": "2024-03-20T17:07:55.138Z"
      },
      {
        "duration": 8,
        "start_time": "2024-03-20T17:07:55.489Z"
      },
      {
        "duration": 16,
        "start_time": "2024-03-20T17:07:55.499Z"
      },
      {
        "duration": 34,
        "start_time": "2024-03-20T17:07:55.517Z"
      },
      {
        "duration": 12,
        "start_time": "2024-03-20T17:07:55.553Z"
      },
      {
        "duration": 5,
        "start_time": "2024-03-20T17:07:55.567Z"
      },
      {
        "duration": 2277,
        "start_time": "2024-03-20T17:07:55.573Z"
      },
      {
        "duration": 25416,
        "start_time": "2024-03-20T17:07:57.852Z"
      },
      {
        "duration": 17305,
        "start_time": "2024-03-20T17:08:23.270Z"
      },
      {
        "duration": 9,
        "start_time": "2024-03-20T17:08:40.577Z"
      },
      {
        "duration": 5,
        "start_time": "2024-03-20T17:19:16.166Z"
      },
      {
        "duration": 4,
        "start_time": "2024-03-20T17:19:48.065Z"
      },
      {
        "duration": 11,
        "start_time": "2024-03-20T17:19:49.044Z"
      },
      {
        "duration": 5,
        "start_time": "2024-03-20T17:32:05.410Z"
      },
      {
        "duration": 138,
        "start_time": "2024-03-20T17:32:06.010Z"
      },
      {
        "duration": 21,
        "start_time": "2024-03-20T17:32:12.505Z"
      },
      {
        "duration": 2637,
        "start_time": "2024-03-20T17:35:02.450Z"
      },
      {
        "duration": 1588,
        "start_time": "2024-03-20T17:35:05.090Z"
      },
      {
        "duration": 4,
        "start_time": "2024-03-20T17:35:06.680Z"
      },
      {
        "duration": 15,
        "start_time": "2024-03-20T17:35:06.686Z"
      },
      {
        "duration": 11,
        "start_time": "2024-03-20T17:35:06.703Z"
      },
      {
        "duration": 20,
        "start_time": "2024-03-20T17:35:06.715Z"
      },
      {
        "duration": 55,
        "start_time": "2024-03-20T17:35:06.736Z"
      },
      {
        "duration": 10,
        "start_time": "2024-03-20T17:35:06.793Z"
      },
      {
        "duration": 14,
        "start_time": "2024-03-20T17:35:06.804Z"
      },
      {
        "duration": 9,
        "start_time": "2024-03-20T17:35:06.820Z"
      },
      {
        "duration": 265,
        "start_time": "2024-03-20T17:35:06.830Z"
      },
      {
        "duration": 220,
        "start_time": "2024-03-20T17:35:07.097Z"
      },
      {
        "duration": 356,
        "start_time": "2024-03-20T17:35:07.319Z"
      },
      {
        "duration": 8,
        "start_time": "2024-03-20T17:35:07.678Z"
      },
      {
        "duration": 28,
        "start_time": "2024-03-20T17:35:07.687Z"
      },
      {
        "duration": 79,
        "start_time": "2024-03-20T17:35:07.716Z"
      },
      {
        "duration": 44,
        "start_time": "2024-03-20T17:35:07.796Z"
      },
      {
        "duration": 28,
        "start_time": "2024-03-20T17:35:07.842Z"
      },
      {
        "duration": 2251,
        "start_time": "2024-03-20T17:35:07.871Z"
      },
      {
        "duration": 25023,
        "start_time": "2024-03-20T17:35:10.124Z"
      },
      {
        "duration": 19731,
        "start_time": "2024-03-20T17:35:35.149Z"
      },
      {
        "duration": 12,
        "start_time": "2024-03-20T17:35:54.883Z"
      },
      {
        "duration": 12,
        "start_time": "2024-03-20T17:35:54.897Z"
      },
      {
        "duration": 71,
        "start_time": "2024-03-20T17:35:54.911Z"
      },
      {
        "duration": 103,
        "start_time": "2024-03-20T21:16:02.048Z"
      },
      {
        "duration": 3410,
        "start_time": "2024-03-21T16:46:23.313Z"
      },
      {
        "duration": 1562,
        "start_time": "2024-03-21T16:46:26.725Z"
      },
      {
        "duration": 7,
        "start_time": "2024-03-21T16:46:28.288Z"
      },
      {
        "duration": 37,
        "start_time": "2024-03-21T16:46:28.296Z"
      },
      {
        "duration": 24,
        "start_time": "2024-03-21T16:46:28.335Z"
      },
      {
        "duration": 35,
        "start_time": "2024-03-21T16:46:28.360Z"
      },
      {
        "duration": 134,
        "start_time": "2024-03-21T16:46:28.397Z"
      },
      {
        "duration": 11,
        "start_time": "2024-03-21T16:46:28.533Z"
      },
      {
        "duration": 19,
        "start_time": "2024-03-21T16:46:28.546Z"
      },
      {
        "duration": 26,
        "start_time": "2024-03-21T16:46:28.566Z"
      },
      {
        "duration": 30,
        "start_time": "2024-03-21T16:46:28.594Z"
      },
      {
        "duration": 330,
        "start_time": "2024-03-21T16:46:28.626Z"
      },
      {
        "duration": 149,
        "start_time": "2024-03-21T16:46:28.958Z"
      },
      {
        "duration": 325,
        "start_time": "2024-03-21T16:46:29.109Z"
      },
      {
        "duration": 8,
        "start_time": "2024-03-21T16:46:29.436Z"
      },
      {
        "duration": 27,
        "start_time": "2024-03-21T16:46:29.445Z"
      },
      {
        "duration": 36,
        "start_time": "2024-03-21T16:46:29.473Z"
      },
      {
        "duration": 24,
        "start_time": "2024-03-21T16:46:29.511Z"
      },
      {
        "duration": 21,
        "start_time": "2024-03-21T16:46:29.537Z"
      },
      {
        "duration": 2185,
        "start_time": "2024-03-21T16:46:29.560Z"
      },
      {
        "duration": 4,
        "start_time": "2024-03-21T16:46:31.746Z"
      },
      {
        "duration": 21825,
        "start_time": "2024-03-21T16:46:31.751Z"
      },
      {
        "duration": 3,
        "start_time": "2024-03-21T16:46:53.577Z"
      },
      {
        "duration": 36984,
        "start_time": "2024-03-21T16:46:53.582Z"
      },
      {
        "duration": 9,
        "start_time": "2024-03-21T16:47:30.569Z"
      },
      {
        "duration": 102,
        "start_time": "2024-03-21T16:47:30.579Z"
      },
      {
        "duration": 56,
        "start_time": "2024-03-21T16:47:30.683Z"
      },
      {
        "duration": 6,
        "start_time": "2024-03-21T17:05:38.720Z"
      },
      {
        "duration": 2300,
        "start_time": "2024-03-21T17:44:33.851Z"
      },
      {
        "duration": 1476,
        "start_time": "2024-03-21T17:44:36.154Z"
      },
      {
        "duration": 5,
        "start_time": "2024-03-21T17:44:37.631Z"
      },
      {
        "duration": 9,
        "start_time": "2024-03-21T17:44:37.638Z"
      },
      {
        "duration": 7,
        "start_time": "2024-03-21T17:44:37.650Z"
      },
      {
        "duration": 23,
        "start_time": "2024-03-21T17:44:37.658Z"
      },
      {
        "duration": 6,
        "start_time": "2024-03-21T17:44:37.683Z"
      },
      {
        "duration": 56,
        "start_time": "2024-03-21T17:44:37.691Z"
      },
      {
        "duration": 9,
        "start_time": "2024-03-21T17:44:37.749Z"
      },
      {
        "duration": 17,
        "start_time": "2024-03-21T17:44:37.759Z"
      },
      {
        "duration": 4,
        "start_time": "2024-03-21T17:44:37.777Z"
      },
      {
        "duration": 25,
        "start_time": "2024-03-21T17:44:37.782Z"
      },
      {
        "duration": 227,
        "start_time": "2024-03-21T17:44:37.808Z"
      },
      {
        "duration": 204,
        "start_time": "2024-03-21T17:44:38.037Z"
      },
      {
        "duration": 316,
        "start_time": "2024-03-21T17:44:38.243Z"
      },
      {
        "duration": 7,
        "start_time": "2024-03-21T17:44:38.560Z"
      },
      {
        "duration": 7,
        "start_time": "2024-03-21T17:44:38.568Z"
      },
      {
        "duration": 24,
        "start_time": "2024-03-21T17:44:38.577Z"
      },
      {
        "duration": 11,
        "start_time": "2024-03-21T17:44:38.602Z"
      },
      {
        "duration": 3,
        "start_time": "2024-03-21T17:44:38.615Z"
      },
      {
        "duration": 696,
        "start_time": "2024-03-21T17:44:38.619Z"
      },
      {
        "duration": 3,
        "start_time": "2024-03-21T17:44:39.316Z"
      },
      {
        "duration": 11921,
        "start_time": "2024-03-21T17:44:39.321Z"
      },
      {
        "duration": 3,
        "start_time": "2024-03-21T17:44:51.243Z"
      },
      {
        "duration": 6821,
        "start_time": "2024-03-21T17:44:51.247Z"
      },
      {
        "duration": 9,
        "start_time": "2024-03-21T17:44:58.070Z"
      },
      {
        "duration": 17,
        "start_time": "2024-03-21T17:44:58.080Z"
      },
      {
        "duration": 19,
        "start_time": "2024-03-21T17:44:58.098Z"
      },
      {
        "duration": 1108,
        "start_time": "2024-03-21T17:55:29.963Z"
      },
      {
        "duration": 2337,
        "start_time": "2024-03-21T17:55:38.984Z"
      },
      {
        "duration": 5,
        "start_time": "2024-03-21T17:55:41.323Z"
      },
      {
        "duration": 9,
        "start_time": "2024-03-21T17:55:41.330Z"
      },
      {
        "duration": 8,
        "start_time": "2024-03-21T17:55:41.340Z"
      },
      {
        "duration": 13,
        "start_time": "2024-03-21T17:55:41.350Z"
      },
      {
        "duration": 9,
        "start_time": "2024-03-21T17:55:41.364Z"
      },
      {
        "duration": 6,
        "start_time": "2024-03-21T17:55:41.375Z"
      },
      {
        "duration": 54,
        "start_time": "2024-03-21T17:55:41.382Z"
      },
      {
        "duration": 7,
        "start_time": "2024-03-21T17:55:41.437Z"
      },
      {
        "duration": 12,
        "start_time": "2024-03-21T17:55:41.446Z"
      },
      {
        "duration": 8,
        "start_time": "2024-03-21T17:55:41.459Z"
      },
      {
        "duration": 10,
        "start_time": "2024-03-21T17:55:41.469Z"
      },
      {
        "duration": 198,
        "start_time": "2024-03-21T17:55:41.480Z"
      },
      {
        "duration": 232,
        "start_time": "2024-03-21T17:55:41.680Z"
      },
      {
        "duration": 630,
        "start_time": "2024-03-21T17:55:41.965Z"
      },
      {
        "duration": 8,
        "start_time": "2024-03-21T17:55:42.597Z"
      },
      {
        "duration": 60,
        "start_time": "2024-03-21T17:55:42.606Z"
      },
      {
        "duration": 18,
        "start_time": "2024-03-21T17:55:42.668Z"
      },
      {
        "duration": 21,
        "start_time": "2024-03-21T17:55:42.688Z"
      },
      {
        "duration": 55,
        "start_time": "2024-03-21T17:55:42.711Z"
      },
      {
        "duration": 1635,
        "start_time": "2024-03-21T17:55:42.767Z"
      },
      {
        "duration": 4,
        "start_time": "2024-03-21T17:55:44.403Z"
      },
      {
        "duration": 11648,
        "start_time": "2024-03-21T17:55:44.408Z"
      },
      {
        "duration": 2,
        "start_time": "2024-03-21T17:55:56.058Z"
      },
      {
        "duration": 19413,
        "start_time": "2024-03-21T17:55:56.062Z"
      },
      {
        "duration": 9,
        "start_time": "2024-03-21T17:56:15.476Z"
      },
      {
        "duration": 15,
        "start_time": "2024-03-21T17:56:15.486Z"
      },
      {
        "duration": 63,
        "start_time": "2024-03-21T17:56:15.503Z"
      },
      {
        "duration": 1008,
        "start_time": "2024-03-21T17:56:29.750Z"
      },
      {
        "duration": 1552,
        "start_time": "2024-03-21T17:56:36.113Z"
      },
      {
        "duration": 1727,
        "start_time": "2024-03-21T17:56:42.233Z"
      },
      {
        "duration": 44,
        "start_time": "2024-03-21T17:56:53.041Z"
      },
      {
        "duration": 7,
        "start_time": "2024-03-21T17:56:53.618Z"
      },
      {
        "duration": 10,
        "start_time": "2024-03-21T17:56:54.009Z"
      },
      {
        "duration": 4,
        "start_time": "2024-03-21T17:56:54.798Z"
      },
      {
        "duration": 7,
        "start_time": "2024-03-21T17:56:55.250Z"
      },
      {
        "duration": 412,
        "start_time": "2024-03-21T17:56:56.524Z"
      },
      {
        "duration": 395,
        "start_time": "2024-03-21T17:57:07.290Z"
      },
      {
        "duration": 381,
        "start_time": "2024-03-21T17:57:13.456Z"
      },
      {
        "duration": 265,
        "start_time": "2024-03-21T17:57:19.507Z"
      },
      {
        "duration": 342,
        "start_time": "2024-03-21T17:59:47.978Z"
      },
      {
        "duration": 241,
        "start_time": "2024-03-21T17:59:55.461Z"
      },
      {
        "duration": 263,
        "start_time": "2024-03-21T18:00:24.854Z"
      },
      {
        "duration": 251,
        "start_time": "2024-03-21T18:00:47.940Z"
      },
      {
        "duration": 346,
        "start_time": "2024-03-21T18:01:19.680Z"
      },
      {
        "duration": 244,
        "start_time": "2024-03-21T18:02:07.142Z"
      },
      {
        "duration": 6,
        "start_time": "2024-03-21T18:03:04.163Z"
      },
      {
        "duration": 264,
        "start_time": "2024-03-21T18:03:10.567Z"
      },
      {
        "duration": 263,
        "start_time": "2024-03-21T18:03:18.352Z"
      },
      {
        "duration": 249,
        "start_time": "2024-03-21T18:03:21.595Z"
      },
      {
        "duration": 46,
        "start_time": "2024-03-22T08:13:55.308Z"
      },
      {
        "duration": 3561,
        "start_time": "2024-03-22T08:14:00.244Z"
      },
      {
        "duration": 1687,
        "start_time": "2024-03-22T08:14:03.807Z"
      },
      {
        "duration": 6,
        "start_time": "2024-03-22T08:14:05.496Z"
      },
      {
        "duration": 6,
        "start_time": "2024-03-22T08:14:05.504Z"
      },
      {
        "duration": 5,
        "start_time": "2024-03-22T08:14:05.512Z"
      },
      {
        "duration": 6,
        "start_time": "2024-03-22T08:14:05.519Z"
      },
      {
        "duration": 5,
        "start_time": "2024-03-22T08:14:05.526Z"
      },
      {
        "duration": 141,
        "start_time": "2024-03-22T08:14:05.533Z"
      },
      {
        "duration": 10,
        "start_time": "2024-03-22T08:14:05.675Z"
      },
      {
        "duration": 22,
        "start_time": "2024-03-22T08:14:05.687Z"
      },
      {
        "duration": 4,
        "start_time": "2024-03-22T08:14:05.710Z"
      },
      {
        "duration": 9,
        "start_time": "2024-03-22T08:14:05.715Z"
      },
      {
        "duration": 266,
        "start_time": "2024-03-22T08:14:05.725Z"
      },
      {
        "duration": 235,
        "start_time": "2024-03-22T08:14:05.993Z"
      },
      {
        "duration": 318,
        "start_time": "2024-03-22T08:14:06.230Z"
      },
      {
        "duration": 14,
        "start_time": "2024-03-22T08:14:06.551Z"
      },
      {
        "duration": 6,
        "start_time": "2024-03-22T08:14:06.567Z"
      },
      {
        "duration": 312,
        "start_time": "2024-03-22T08:14:06.575Z"
      },
      {
        "duration": 18,
        "start_time": "2024-03-22T08:14:06.889Z"
      },
      {
        "duration": 15,
        "start_time": "2024-03-22T08:14:06.909Z"
      },
      {
        "duration": 5,
        "start_time": "2024-03-22T08:14:06.926Z"
      },
      {
        "duration": 691,
        "start_time": "2024-03-22T08:14:06.933Z"
      },
      {
        "duration": 3,
        "start_time": "2024-03-22T08:14:07.625Z"
      },
      {
        "duration": 13571,
        "start_time": "2024-03-22T08:14:07.630Z"
      },
      {
        "duration": 3,
        "start_time": "2024-03-22T08:14:21.203Z"
      },
      {
        "duration": 6555,
        "start_time": "2024-03-22T08:14:21.208Z"
      },
      {
        "duration": 9,
        "start_time": "2024-03-22T08:14:27.764Z"
      },
      {
        "duration": 13,
        "start_time": "2024-03-22T08:14:27.774Z"
      },
      {
        "duration": 72,
        "start_time": "2024-03-22T08:14:27.788Z"
      },
      {
        "duration": 1437,
        "start_time": "2024-03-22T08:14:53.134Z"
      },
      {
        "duration": 2354,
        "start_time": "2024-03-22T08:16:03.345Z"
      },
      {
        "duration": 6,
        "start_time": "2024-03-22T08:16:05.701Z"
      },
      {
        "duration": 44,
        "start_time": "2024-03-22T08:16:05.708Z"
      },
      {
        "duration": 24,
        "start_time": "2024-03-22T08:16:05.754Z"
      },
      {
        "duration": 10,
        "start_time": "2024-03-22T08:16:05.780Z"
      },
      {
        "duration": 20,
        "start_time": "2024-03-22T08:16:05.791Z"
      },
      {
        "duration": 6,
        "start_time": "2024-03-22T08:16:05.812Z"
      },
      {
        "duration": 58,
        "start_time": "2024-03-22T08:16:05.820Z"
      },
      {
        "duration": 10,
        "start_time": "2024-03-22T08:16:05.880Z"
      },
      {
        "duration": 13,
        "start_time": "2024-03-22T08:16:05.894Z"
      },
      {
        "duration": 9,
        "start_time": "2024-03-22T08:16:05.909Z"
      },
      {
        "duration": 29,
        "start_time": "2024-03-22T08:16:05.919Z"
      },
      {
        "duration": 332,
        "start_time": "2024-03-22T08:16:05.950Z"
      },
      {
        "duration": 300,
        "start_time": "2024-03-22T08:16:06.284Z"
      },
      {
        "duration": 311,
        "start_time": "2024-03-22T08:16:06.586Z"
      },
      {
        "duration": 7,
        "start_time": "2024-03-22T08:16:06.899Z"
      },
      {
        "duration": 6,
        "start_time": "2024-03-22T08:16:06.908Z"
      },
      {
        "duration": 290,
        "start_time": "2024-03-22T08:16:06.915Z"
      },
      {
        "duration": 19,
        "start_time": "2024-03-22T08:16:07.207Z"
      },
      {
        "duration": 10,
        "start_time": "2024-03-22T08:16:07.228Z"
      },
      {
        "duration": 19,
        "start_time": "2024-03-22T08:16:07.240Z"
      },
      {
        "duration": 760,
        "start_time": "2024-03-22T08:16:07.261Z"
      },
      {
        "duration": 4,
        "start_time": "2024-03-22T08:16:08.023Z"
      },
      {
        "duration": 14071,
        "start_time": "2024-03-22T08:16:08.029Z"
      },
      {
        "duration": 3,
        "start_time": "2024-03-22T08:16:22.101Z"
      },
      {
        "duration": 5654,
        "start_time": "2024-03-22T08:16:22.105Z"
      },
      {
        "duration": 9,
        "start_time": "2024-03-22T08:16:27.761Z"
      },
      {
        "duration": 13,
        "start_time": "2024-03-22T08:16:27.772Z"
      },
      {
        "duration": 17,
        "start_time": "2024-03-22T08:16:27.786Z"
      },
      {
        "duration": 10,
        "start_time": "2024-03-22T08:16:33.863Z"
      },
      {
        "duration": 31,
        "start_time": "2024-03-22T08:16:40.413Z"
      },
      {
        "duration": 1601,
        "start_time": "2024-03-22T08:17:30.035Z"
      },
      {
        "duration": 2380,
        "start_time": "2024-03-22T08:17:45.675Z"
      },
      {
        "duration": 6,
        "start_time": "2024-03-22T08:17:48.057Z"
      },
      {
        "duration": 12,
        "start_time": "2024-03-22T08:17:48.065Z"
      },
      {
        "duration": 10,
        "start_time": "2024-03-22T08:17:48.078Z"
      },
      {
        "duration": 5,
        "start_time": "2024-03-22T08:17:48.090Z"
      },
      {
        "duration": 9,
        "start_time": "2024-03-22T08:17:48.096Z"
      },
      {
        "duration": 18,
        "start_time": "2024-03-22T08:17:48.107Z"
      },
      {
        "duration": 65,
        "start_time": "2024-03-22T08:17:48.126Z"
      },
      {
        "duration": 7,
        "start_time": "2024-03-22T08:17:48.192Z"
      },
      {
        "duration": 12,
        "start_time": "2024-03-22T08:17:48.201Z"
      },
      {
        "duration": 5,
        "start_time": "2024-03-22T08:17:48.214Z"
      },
      {
        "duration": 27,
        "start_time": "2024-03-22T08:17:48.220Z"
      },
      {
        "duration": 267,
        "start_time": "2024-03-22T08:17:48.249Z"
      },
      {
        "duration": 184,
        "start_time": "2024-03-22T08:17:48.519Z"
      },
      {
        "duration": 310,
        "start_time": "2024-03-22T08:17:48.704Z"
      },
      {
        "duration": 7,
        "start_time": "2024-03-22T08:17:49.016Z"
      },
      {
        "duration": 2,
        "start_time": "2024-03-22T08:17:49.025Z"
      },
      {
        "duration": 552,
        "start_time": "2024-03-22T08:17:49.028Z"
      },
      {
        "duration": 17,
        "start_time": "2024-03-22T08:17:49.582Z"
      },
      {
        "duration": 12,
        "start_time": "2024-03-22T08:17:49.601Z"
      },
      {
        "duration": 4,
        "start_time": "2024-03-22T08:17:49.614Z"
      },
      {
        "duration": 722,
        "start_time": "2024-03-22T08:17:49.619Z"
      },
      {
        "duration": 5,
        "start_time": "2024-03-22T08:17:50.342Z"
      },
      {
        "duration": 14409,
        "start_time": "2024-03-22T08:17:50.348Z"
      },
      {
        "duration": 3,
        "start_time": "2024-03-22T08:18:04.759Z"
      },
      {
        "duration": 2399,
        "start_time": "2024-03-22T08:18:14.778Z"
      },
      {
        "duration": 6,
        "start_time": "2024-03-22T08:18:17.179Z"
      },
      {
        "duration": 14,
        "start_time": "2024-03-22T08:18:17.187Z"
      },
      {
        "duration": 12,
        "start_time": "2024-03-22T08:18:17.202Z"
      },
      {
        "duration": 4,
        "start_time": "2024-03-22T08:18:17.216Z"
      },
      {
        "duration": 5,
        "start_time": "2024-03-22T08:18:17.222Z"
      },
      {
        "duration": 5,
        "start_time": "2024-03-22T08:18:17.228Z"
      },
      {
        "duration": 50,
        "start_time": "2024-03-22T08:18:17.234Z"
      },
      {
        "duration": 7,
        "start_time": "2024-03-22T08:18:17.285Z"
      },
      {
        "duration": 11,
        "start_time": "2024-03-22T08:18:17.294Z"
      },
      {
        "duration": 4,
        "start_time": "2024-03-22T08:18:17.306Z"
      },
      {
        "duration": 9,
        "start_time": "2024-03-22T08:18:17.311Z"
      },
      {
        "duration": 320,
        "start_time": "2024-03-22T08:18:17.322Z"
      },
      {
        "duration": 176,
        "start_time": "2024-03-22T08:18:17.643Z"
      },
      {
        "duration": 335,
        "start_time": "2024-03-22T08:18:17.821Z"
      },
      {
        "duration": 7,
        "start_time": "2024-03-22T08:18:18.158Z"
      },
      {
        "duration": 2,
        "start_time": "2024-03-22T08:18:18.167Z"
      },
      {
        "duration": 294,
        "start_time": "2024-03-22T08:18:18.170Z"
      },
      {
        "duration": 17,
        "start_time": "2024-03-22T08:18:18.466Z"
      },
      {
        "duration": 11,
        "start_time": "2024-03-22T08:18:18.484Z"
      },
      {
        "duration": 3,
        "start_time": "2024-03-22T08:18:18.497Z"
      },
      {
        "duration": 733,
        "start_time": "2024-03-22T08:18:18.501Z"
      },
      {
        "duration": 5,
        "start_time": "2024-03-22T08:18:19.236Z"
      },
      {
        "duration": 13957,
        "start_time": "2024-03-22T08:18:19.243Z"
      },
      {
        "duration": 3,
        "start_time": "2024-03-22T08:18:33.201Z"
      },
      {
        "duration": 6155,
        "start_time": "2024-03-22T08:18:33.206Z"
      },
      {
        "duration": 9,
        "start_time": "2024-03-22T08:18:39.363Z"
      },
      {
        "duration": 5,
        "start_time": "2024-03-22T08:18:39.373Z"
      },
      {
        "duration": 11,
        "start_time": "2024-03-22T08:18:39.379Z"
      },
      {
        "duration": 85,
        "start_time": "2024-03-22T08:28:21.013Z"
      },
      {
        "duration": 10,
        "start_time": "2024-03-22T08:29:10.746Z"
      },
      {
        "duration": 2316,
        "start_time": "2024-03-22T08:29:13.326Z"
      },
      {
        "duration": 5,
        "start_time": "2024-03-22T08:29:15.645Z"
      },
      {
        "duration": 46,
        "start_time": "2024-03-22T08:29:15.652Z"
      },
      {
        "duration": 33,
        "start_time": "2024-03-22T08:29:15.699Z"
      },
      {
        "duration": 38,
        "start_time": "2024-03-22T08:29:15.735Z"
      },
      {
        "duration": 62,
        "start_time": "2024-03-22T08:29:15.775Z"
      },
      {
        "duration": 18,
        "start_time": "2024-03-22T08:29:15.838Z"
      },
      {
        "duration": 76,
        "start_time": "2024-03-22T08:29:15.858Z"
      },
      {
        "duration": 7,
        "start_time": "2024-03-22T08:29:15.935Z"
      },
      {
        "duration": 21,
        "start_time": "2024-03-22T08:29:15.943Z"
      },
      {
        "duration": 21,
        "start_time": "2024-03-22T08:29:15.965Z"
      },
      {
        "duration": 43,
        "start_time": "2024-03-22T08:29:15.987Z"
      },
      {
        "duration": 275,
        "start_time": "2024-03-22T08:29:16.032Z"
      },
      {
        "duration": 225,
        "start_time": "2024-03-22T08:29:16.309Z"
      },
      {
        "duration": 310,
        "start_time": "2024-03-22T08:29:16.535Z"
      },
      {
        "duration": 7,
        "start_time": "2024-03-22T08:29:16.858Z"
      },
      {
        "duration": 28,
        "start_time": "2024-03-22T08:29:16.866Z"
      },
      {
        "duration": 291,
        "start_time": "2024-03-22T08:29:16.895Z"
      },
      {
        "duration": 16,
        "start_time": "2024-03-22T08:29:17.187Z"
      },
      {
        "duration": 10,
        "start_time": "2024-03-22T08:29:17.204Z"
      },
      {
        "duration": 16,
        "start_time": "2024-03-22T08:29:17.215Z"
      },
      {
        "duration": 694,
        "start_time": "2024-03-22T08:29:17.232Z"
      },
      {
        "duration": 4,
        "start_time": "2024-03-22T08:29:17.928Z"
      },
      {
        "duration": 14414,
        "start_time": "2024-03-22T08:29:17.934Z"
      },
      {
        "duration": 3,
        "start_time": "2024-03-22T08:29:32.350Z"
      },
      {
        "duration": 6019,
        "start_time": "2024-03-22T08:29:32.354Z"
      },
      {
        "duration": 9,
        "start_time": "2024-03-22T08:29:38.375Z"
      },
      {
        "duration": 78,
        "start_time": "2024-03-22T08:29:38.385Z"
      },
      {
        "duration": 21,
        "start_time": "2024-03-22T08:29:38.464Z"
      },
      {
        "duration": 47,
        "start_time": "2024-03-22T08:34:43.347Z"
      },
      {
        "duration": 7,
        "start_time": "2024-03-22T08:34:43.752Z"
      },
      {
        "duration": 9,
        "start_time": "2024-03-22T08:34:43.923Z"
      },
      {
        "duration": 4,
        "start_time": "2024-03-22T08:34:44.900Z"
      },
      {
        "duration": 6,
        "start_time": "2024-03-22T08:34:45.375Z"
      },
      {
        "duration": 254,
        "start_time": "2024-03-22T08:34:46.124Z"
      },
      {
        "duration": 157,
        "start_time": "2024-03-22T08:34:55.778Z"
      },
      {
        "duration": 414,
        "start_time": "2024-03-22T08:35:02.626Z"
      },
      {
        "duration": 218,
        "start_time": "2024-03-22T08:35:41.636Z"
      },
      {
        "duration": 167,
        "start_time": "2024-03-22T08:35:51.938Z"
      },
      {
        "duration": 230,
        "start_time": "2024-03-22T08:38:37.061Z"
      },
      {
        "duration": 162,
        "start_time": "2024-03-22T08:38:47.646Z"
      },
      {
        "duration": 315,
        "start_time": "2024-03-22T08:39:04.965Z"
      },
      {
        "duration": 174,
        "start_time": "2024-03-22T08:40:10.669Z"
      },
      {
        "duration": 150,
        "start_time": "2024-03-22T08:40:21.618Z"
      },
      {
        "duration": 276,
        "start_time": "2024-03-22T08:50:41.746Z"
      },
      {
        "duration": 237,
        "start_time": "2024-03-22T08:53:39.835Z"
      },
      {
        "duration": 145,
        "start_time": "2024-03-22T08:53:41.418Z"
      },
      {
        "duration": 179,
        "start_time": "2024-03-22T08:53:51.400Z"
      },
      {
        "duration": 8,
        "start_time": "2024-03-22T09:12:49.767Z"
      },
      {
        "duration": 384,
        "start_time": "2024-03-22T09:12:59.587Z"
      },
      {
        "duration": 339,
        "start_time": "2024-03-22T09:21:14.680Z"
      },
      {
        "duration": 3571,
        "start_time": "2024-03-22T14:21:15.356Z"
      },
      {
        "duration": 1743,
        "start_time": "2024-03-22T14:21:18.929Z"
      },
      {
        "duration": 6,
        "start_time": "2024-03-22T14:21:20.673Z"
      },
      {
        "duration": 5,
        "start_time": "2024-03-22T14:21:20.680Z"
      },
      {
        "duration": 5,
        "start_time": "2024-03-22T14:21:20.687Z"
      },
      {
        "duration": 24,
        "start_time": "2024-03-22T14:21:20.694Z"
      },
      {
        "duration": 12,
        "start_time": "2024-03-22T14:21:20.719Z"
      },
      {
        "duration": 147,
        "start_time": "2024-03-22T14:21:20.732Z"
      },
      {
        "duration": 10,
        "start_time": "2024-03-22T14:21:20.880Z"
      },
      {
        "duration": 17,
        "start_time": "2024-03-22T14:21:20.891Z"
      },
      {
        "duration": 5,
        "start_time": "2024-03-22T14:21:20.910Z"
      },
      {
        "duration": 15,
        "start_time": "2024-03-22T14:21:20.917Z"
      },
      {
        "duration": 381,
        "start_time": "2024-03-22T14:21:20.934Z"
      },
      {
        "duration": 301,
        "start_time": "2024-03-22T14:21:21.317Z"
      },
      {
        "duration": 175,
        "start_time": "2024-03-22T14:21:21.620Z"
      },
      {
        "duration": 344,
        "start_time": "2024-03-22T14:21:21.796Z"
      },
      {
        "duration": 8,
        "start_time": "2024-03-22T14:21:22.141Z"
      },
      {
        "duration": 3,
        "start_time": "2024-03-22T14:21:22.150Z"
      },
      {
        "duration": 306,
        "start_time": "2024-03-22T14:21:22.154Z"
      },
      {
        "duration": 346,
        "start_time": "2024-03-22T14:21:22.461Z"
      },
      {
        "duration": 17,
        "start_time": "2024-03-22T14:21:22.809Z"
      },
      {
        "duration": 23,
        "start_time": "2024-03-22T14:21:22.827Z"
      },
      {
        "duration": 3,
        "start_time": "2024-03-22T14:21:22.851Z"
      },
      {
        "duration": 852,
        "start_time": "2024-03-22T14:21:22.856Z"
      },
      {
        "duration": 4,
        "start_time": "2024-03-22T14:21:23.709Z"
      },
      {
        "duration": 14303,
        "start_time": "2024-03-22T14:21:23.714Z"
      },
      {
        "duration": 3,
        "start_time": "2024-03-22T14:21:38.018Z"
      },
      {
        "duration": 5770,
        "start_time": "2024-03-22T14:21:38.022Z"
      },
      {
        "duration": 9,
        "start_time": "2024-03-22T14:21:43.794Z"
      },
      {
        "duration": 3,
        "start_time": "2024-03-22T14:21:43.805Z"
      },
      {
        "duration": 77,
        "start_time": "2024-03-22T14:21:43.809Z"
      },
      {
        "duration": 2588,
        "start_time": "2024-03-23T10:55:34.580Z"
      },
      {
        "duration": 1919,
        "start_time": "2024-03-23T10:55:37.170Z"
      },
      {
        "duration": 6,
        "start_time": "2024-03-23T10:55:39.091Z"
      },
      {
        "duration": 10,
        "start_time": "2024-03-23T10:55:39.099Z"
      },
      {
        "duration": 11,
        "start_time": "2024-03-23T10:55:39.110Z"
      },
      {
        "duration": 5,
        "start_time": "2024-03-23T10:55:39.123Z"
      },
      {
        "duration": 120,
        "start_time": "2024-03-23T10:55:39.130Z"
      },
      {
        "duration": 14,
        "start_time": "2024-03-23T10:55:39.252Z"
      },
      {
        "duration": 16,
        "start_time": "2024-03-23T10:55:39.268Z"
      },
      {
        "duration": 4,
        "start_time": "2024-03-23T10:55:39.287Z"
      },
      {
        "duration": 12,
        "start_time": "2024-03-23T10:55:39.293Z"
      },
      {
        "duration": 439,
        "start_time": "2024-03-23T10:55:39.306Z"
      },
      {
        "duration": 819,
        "start_time": "2024-03-23T10:55:39.748Z"
      },
      {
        "duration": 323,
        "start_time": "2024-03-23T10:55:40.568Z"
      },
      {
        "duration": 808,
        "start_time": "2024-03-23T10:55:40.892Z"
      },
      {
        "duration": 8,
        "start_time": "2024-03-23T10:55:41.701Z"
      },
      {
        "duration": 2,
        "start_time": "2024-03-23T10:55:41.711Z"
      },
      {
        "duration": 493,
        "start_time": "2024-03-23T10:55:41.714Z"
      },
      {
        "duration": 794,
        "start_time": "2024-03-23T10:55:42.210Z"
      },
      {
        "duration": 20,
        "start_time": "2024-03-23T10:55:43.058Z"
      },
      {
        "duration": 28,
        "start_time": "2024-03-23T10:55:43.079Z"
      },
      {
        "duration": 3,
        "start_time": "2024-03-23T10:55:43.108Z"
      },
      {
        "duration": 1141,
        "start_time": "2024-03-23T10:55:43.113Z"
      },
      {
        "duration": 3,
        "start_time": "2024-03-23T10:55:44.255Z"
      },
      {
        "duration": 16511,
        "start_time": "2024-03-23T10:55:44.260Z"
      },
      {
        "duration": 3,
        "start_time": "2024-03-23T10:56:00.772Z"
      },
      {
        "duration": 1628,
        "start_time": "2024-03-23T10:56:00.776Z"
      },
      {
        "duration": 9,
        "start_time": "2024-03-23T10:56:02.407Z"
      },
      {
        "duration": 113,
        "start_time": "2024-03-23T10:56:02.418Z"
      },
      {
        "duration": 83,
        "start_time": "2024-03-23T10:56:02.533Z"
      },
      {
        "duration": 2611,
        "start_time": "2024-03-23T10:57:17.479Z"
      },
      {
        "duration": 1952,
        "start_time": "2024-03-23T10:57:20.092Z"
      },
      {
        "duration": 6,
        "start_time": "2024-03-23T10:57:22.045Z"
      },
      {
        "duration": 51,
        "start_time": "2024-03-23T10:57:22.054Z"
      },
      {
        "duration": 33,
        "start_time": "2024-03-23T10:57:22.107Z"
      },
      {
        "duration": 22,
        "start_time": "2024-03-23T10:57:22.141Z"
      },
      {
        "duration": 94,
        "start_time": "2024-03-23T10:57:22.165Z"
      },
      {
        "duration": 18,
        "start_time": "2024-03-23T10:57:22.261Z"
      },
      {
        "duration": 34,
        "start_time": "2024-03-23T10:57:22.281Z"
      },
      {
        "duration": 30,
        "start_time": "2024-03-23T10:57:22.318Z"
      },
      {
        "duration": 55,
        "start_time": "2024-03-23T10:57:22.350Z"
      },
      {
        "duration": 468,
        "start_time": "2024-03-23T10:57:22.407Z"
      },
      {
        "duration": 882,
        "start_time": "2024-03-23T10:57:22.877Z"
      },
      {
        "duration": 437,
        "start_time": "2024-03-23T10:57:23.761Z"
      },
      {
        "duration": 737,
        "start_time": "2024-03-23T10:57:24.199Z"
      },
      {
        "duration": 23,
        "start_time": "2024-03-23T10:57:24.937Z"
      },
      {
        "duration": 4,
        "start_time": "2024-03-23T10:57:24.962Z"
      },
      {
        "duration": 572,
        "start_time": "2024-03-23T10:57:24.968Z"
      },
      {
        "duration": 573,
        "start_time": "2024-03-23T10:57:25.542Z"
      },
      {
        "duration": 17,
        "start_time": "2024-03-23T10:57:26.117Z"
      },
      {
        "duration": 25,
        "start_time": "2024-03-23T10:57:26.135Z"
      },
      {
        "duration": 3,
        "start_time": "2024-03-23T10:57:26.161Z"
      },
      {
        "duration": 1085,
        "start_time": "2024-03-23T10:57:26.166Z"
      },
      {
        "duration": 7,
        "start_time": "2024-03-23T10:57:27.253Z"
      },
      {
        "duration": 15084,
        "start_time": "2024-03-23T10:57:27.262Z"
      },
      {
        "duration": 3,
        "start_time": "2024-03-23T10:57:42.348Z"
      },
      {
        "duration": 1581,
        "start_time": "2024-03-23T10:57:42.352Z"
      },
      {
        "duration": 9,
        "start_time": "2024-03-23T10:57:43.936Z"
      },
      {
        "duration": 17,
        "start_time": "2024-03-23T10:57:43.947Z"
      },
      {
        "duration": 13,
        "start_time": "2024-03-23T10:57:43.966Z"
      },
      {
        "duration": 5187,
        "start_time": "2024-03-23T10:59:35.591Z"
      },
      {
        "duration": 3078,
        "start_time": "2024-03-23T10:59:40.781Z"
      },
      {
        "duration": 6,
        "start_time": "2024-03-23T10:59:43.861Z"
      },
      {
        "duration": 11,
        "start_time": "2024-03-23T10:59:43.869Z"
      },
      {
        "duration": 10,
        "start_time": "2024-03-23T10:59:43.881Z"
      },
      {
        "duration": 5,
        "start_time": "2024-03-23T10:59:43.892Z"
      },
      {
        "duration": 108,
        "start_time": "2024-03-23T10:59:43.898Z"
      },
      {
        "duration": 58,
        "start_time": "2024-03-23T10:59:44.008Z"
      },
      {
        "duration": 11,
        "start_time": "2024-03-23T10:59:44.067Z"
      },
      {
        "duration": 4,
        "start_time": "2024-03-23T10:59:44.081Z"
      },
      {
        "duration": 76,
        "start_time": "2024-03-23T10:59:44.086Z"
      },
      {
        "duration": 709,
        "start_time": "2024-03-23T10:59:44.163Z"
      },
      {
        "duration": 827,
        "start_time": "2024-03-23T10:59:44.874Z"
      },
      {
        "duration": 437,
        "start_time": "2024-03-23T10:59:45.759Z"
      },
      {
        "duration": 989,
        "start_time": "2024-03-23T10:59:46.198Z"
      },
      {
        "duration": 9,
        "start_time": "2024-03-23T10:59:47.189Z"
      },
      {
        "duration": 3,
        "start_time": "2024-03-23T10:59:47.259Z"
      },
      {
        "duration": 820,
        "start_time": "2024-03-23T10:59:47.264Z"
      },
      {
        "duration": 1100,
        "start_time": "2024-03-23T10:59:48.086Z"
      },
      {
        "duration": 72,
        "start_time": "2024-03-23T10:59:49.188Z"
      },
      {
        "duration": 11,
        "start_time": "2024-03-23T10:59:49.261Z"
      },
      {
        "duration": 3,
        "start_time": "2024-03-23T10:59:49.274Z"
      },
      {
        "duration": 2400,
        "start_time": "2024-03-23T10:59:49.279Z"
      },
      {
        "duration": 4,
        "start_time": "2024-03-23T10:59:51.680Z"
      },
      {
        "duration": 27943,
        "start_time": "2024-03-23T10:59:51.685Z"
      },
      {
        "duration": 3,
        "start_time": "2024-03-23T11:00:19.630Z"
      },
      {
        "duration": 3962,
        "start_time": "2024-03-23T11:00:19.634Z"
      },
      {
        "duration": 69,
        "start_time": "2024-03-23T11:00:23.599Z"
      },
      {
        "duration": 13,
        "start_time": "2024-03-23T11:00:23.671Z"
      },
      {
        "duration": 78,
        "start_time": "2024-03-23T11:00:23.686Z"
      },
      {
        "duration": 3797,
        "start_time": "2024-05-21T16:36:15.227Z"
      },
      {
        "duration": 1679,
        "start_time": "2024-05-21T16:36:19.026Z"
      },
      {
        "duration": 5,
        "start_time": "2024-05-21T16:36:20.707Z"
      },
      {
        "duration": 105,
        "start_time": "2024-05-21T16:36:20.714Z"
      },
      {
        "duration": 4,
        "start_time": "2024-05-21T16:36:20.821Z"
      },
      {
        "duration": 10,
        "start_time": "2024-05-21T16:36:20.827Z"
      },
      {
        "duration": 161,
        "start_time": "2024-05-21T16:36:20.838Z"
      },
      {
        "duration": 13,
        "start_time": "2024-05-21T16:36:21.001Z"
      },
      {
        "duration": 36,
        "start_time": "2024-05-21T16:36:21.017Z"
      },
      {
        "duration": 5,
        "start_time": "2024-05-21T16:36:21.056Z"
      },
      {
        "duration": 18,
        "start_time": "2024-05-21T16:36:21.063Z"
      },
      {
        "duration": 294,
        "start_time": "2024-05-21T16:36:21.082Z"
      },
      {
        "duration": 345,
        "start_time": "2024-05-21T16:36:21.380Z"
      },
      {
        "duration": 176,
        "start_time": "2024-05-21T16:36:21.728Z"
      },
      {
        "duration": 388,
        "start_time": "2024-05-21T16:36:21.906Z"
      },
      {
        "duration": 8,
        "start_time": "2024-05-21T16:36:22.295Z"
      },
      {
        "duration": 5,
        "start_time": "2024-05-21T16:36:22.304Z"
      },
      {
        "duration": 334,
        "start_time": "2024-05-21T16:36:22.310Z"
      },
      {
        "duration": 369,
        "start_time": "2024-05-21T16:36:22.645Z"
      },
      {
        "duration": 19,
        "start_time": "2024-05-21T16:36:23.015Z"
      },
      {
        "duration": 51,
        "start_time": "2024-05-21T16:36:23.035Z"
      },
      {
        "duration": 0,
        "start_time": "2024-05-21T16:36:23.087Z"
      },
      {
        "duration": 0,
        "start_time": "2024-05-21T16:36:23.089Z"
      },
      {
        "duration": 0,
        "start_time": "2024-05-21T16:36:23.090Z"
      },
      {
        "duration": 0,
        "start_time": "2024-05-21T16:36:23.091Z"
      },
      {
        "duration": 0,
        "start_time": "2024-05-21T16:36:23.093Z"
      },
      {
        "duration": 0,
        "start_time": "2024-05-21T16:36:23.094Z"
      },
      {
        "duration": 0,
        "start_time": "2024-05-21T16:36:23.096Z"
      },
      {
        "duration": 0,
        "start_time": "2024-05-21T16:36:23.098Z"
      },
      {
        "duration": 0,
        "start_time": "2024-05-21T16:36:23.099Z"
      }
    ],
    "kernelspec": {
      "display_name": "Python 3 (ipykernel)",
      "language": "python",
      "name": "python3"
    },
    "language_info": {
      "codemirror_mode": {
        "name": "ipython",
        "version": 3
      },
      "file_extension": ".py",
      "mimetype": "text/x-python",
      "name": "python",
      "nbconvert_exporter": "python",
      "pygments_lexer": "ipython3",
      "version": "3.9.5"
    },
    "toc": {
      "base_numbering": 1,
      "nav_menu": {},
      "number_sections": true,
      "sideBar": true,
      "skip_h1_title": true,
      "title_cell": "Содержание",
      "title_sidebar": "Contents",
      "toc_cell": true,
      "toc_position": {
        "height": "calc(100% - 180px)",
        "left": "10px",
        "top": "150px",
        "width": "268.188px"
      },
      "toc_section_display": true,
      "toc_window_display": true
    },
    "colab": {
      "provenance": []
    }
  },
  "nbformat": 4,
  "nbformat_minor": 0
}